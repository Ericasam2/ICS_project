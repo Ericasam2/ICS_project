{
 "cells": [
  {
   "cell_type": "markdown",
   "id": "ac408b5e",
   "metadata": {
    "deletable": false,
    "editable": false,
    "nbgrader": {
     "cell_type": "markdown",
     "checksum": "a96d02d6346fa7399cf6da0111ce0937",
     "grade": false,
     "grade_id": "cell-b00828259c8e42e8",
     "locked": true,
     "schema_version": 3,
     "solution": false,
     "task": false
    }
   },
   "source": [
    "# RO47019: Intelligent Control Systems Practical Assignment\n",
    "* Period: 2022-2023, Q3\n",
    "* Course homepage: https://brightspace.tudelft.nl/d2l/home/500969\n",
    "* Instructor: Cosimo Della Santina (C.DellaSantina@tudelft.nl)\n",
    "* Teaching assistant: Ruben Martin Rodriguez (R.MartinRodriguez@student.tudelft.nl)\n",
    "* (c) TU Delft, 2023\n",
    "\n",
    "Make sure you fill in any place that says `YOUR CODE HERE` or `YOUR ANSWER HERE`. Remove `raise NotImplementedError()` afterwards. Moreover, if you see an empty cell, please DO NOT delete it, instead run that cell as you would run all other cells. Please fill in your name(s) and other required details below:"
   ]
  },
  {
   "cell_type": "code",
   "execution_count": 3,
   "id": "4f9e220c",
   "metadata": {},
   "outputs": [],
   "source": [
    "# Please fill in your names, student numbers, netID, and emails below.\n",
    "STUDENT_1_NAME = \" \"\n",
    "STUDENT_1_STUDENT_NUMBER = \" \"\n",
    "STUDENT_1_NETID = \" \"\n",
    "STUDENT_1_EMAIL = \" \""
   ]
  },
  {
   "cell_type": "code",
   "execution_count": 4,
   "id": "8ba32571",
   "metadata": {
    "deletable": false,
    "editable": false,
    "nbgrader": {
     "cell_type": "code",
     "checksum": "042927213b84aa368aa3ea72caa4cb60",
     "grade": true,
     "grade_id": "cell-9f148ec62e0de49c",
     "locked": true,
     "points": 0,
     "schema_version": 3,
     "solution": false,
     "task": false
    }
   },
   "outputs": [],
   "source": [
    "# Note: this block is a check that you have filled in the above information.\n",
    "# It will throw an AssertionError until all fields are filled\n",
    "assert STUDENT_1_NAME != \"\"\n",
    "assert STUDENT_1_STUDENT_NUMBER != \"\"\n",
    "assert STUDENT_1_NETID != \"\"\n",
    "assert STUDENT_1_EMAIL != \"\""
   ]
  },
  {
   "cell_type": "markdown",
   "id": "af317a94",
   "metadata": {
    "deletable": false,
    "editable": false,
    "nbgrader": {
     "cell_type": "markdown",
     "checksum": "e76ef40fcc3f08a0484661497162a1a9",
     "grade": false,
     "grade_id": "cell-4ea391677951116c",
     "locked": true,
     "schema_version": 3,
     "solution": false,
     "task": false
    }
   },
   "source": [
    "### General announcements\n",
    "\n",
    "* Do *not* share your solutions, and do *not* copy solutions from others. By submitting your solutions, you claim that you alone are responsible for this code.\n",
    "\n",
    "* Do *not* email questions directly, since we want to provide everybody with the same information and avoid repeating the same answers. Instead, please post your questions regarding this assignment in the correct support forum on Brightspace, this way everybody can benefit from the response. If you do have a particular question that you want to ask directly, please use the scheduled Q&A hours to ask the TA.\n",
    "\n",
    "* There is a strict deadline for each assignment. Students are responsible to ensure that they have uploaded their work in time. So, please double check that your upload succeeded to the Brightspace and avoid any late penalties.\n",
    "\n",
    "* This [Jupyter notebook](https://jupyter.org/) uses `nbgrader` to help us with automated tests. `nbgrader` will make various cells in this notebook \"uneditable\" or \"unremovable\" and gives them a special id in the cell metadata. This way, when we run our checks, the system will check the existence of the cell ids and verify the number of points and which checks must be run. While there are ways that you can edit the metadata and work around the restrictions to delete or modify these special cells, you should not do that since then our nbgrader backend will not be able to parse your notebook and give you points for the assignment. You are free to add additional cells, but if you find a cell that you cannot modify or remove, please know that this is on purpose.\n",
    "\n",
    "* This notebook will have in various places a line that throws a `NotImplementedError` exception. These are locations where the assignment requires you to adapt the code! These lines are just there as a reminder for youthat you have not yet adapted that particular piece of code, especially when you execute all the cells. Once your solution code replaced these lines, it should accordingly *not* throw any exceptions anymore.\n",
    "\n",
    "Before you turn this problem in, make sure everything runs as expected. First, **restart the kernel** (in the menubar, select Kernel$\\rightarrow$Restart) and then **run all cells** (in the menubar, select Cell$\\rightarrow$Run All)."
   ]
  },
  {
   "cell_type": "code",
   "execution_count": null,
   "id": "3c956945",
   "metadata": {},
   "outputs": [],
   "source": []
  },
  {
   "cell_type": "markdown",
   "id": "bfe18e81",
   "metadata": {},
   "source": [
    "# Task 0.3 - Introduction to JAX + Flax (0p)\n",
    "  \n",
    "**Author:** Phillip Lippe, University of Amsterdam\n",
    "\n",
    "**The completion of this assignment is completely voluntarily and you will not be graded for any of the contents in this notebook.**\n",
    "\n",
    "This notebook is adapted from the [JAX tutorial](https://uvadlc-notebooks.readthedocs.io/en/latest/tutorial_notebooks/JAX/tutorial2/Introduction_to_JAX.html) for the Deep Learning course at the University of Amsterdam. Copyright belongs to Phillip Lippe / University of Amsterdam."
   ]
  },
  {
   "cell_type": "markdown",
   "id": "db2b100c",
   "metadata": {},
   "source": [
    "Welcome to our JAX tutorial for the Deep Learning course at the University of Amsterdam! The following notebook is meant to give a short introduction to JAX, including writing and training your own neural networks with [Flax](https://flax.readthedocs.io/en/latest/). But why should you learn JAX, if there are already so many other deep learning frameworks like [PyTorch](https://pytorch.org/) and [TensorFlow](https://www.tensorflow.org/)? The short answer: because it can be extremely fast. For instance, a small GoogleNet on CIFAR10, which we discuss in detail in [Tutorial 5](https://uvadlc-notebooks.readthedocs.io/en/latest/tutorial_notebooks/JAX/tutorial5/Inception_ResNet_DenseNet.html), can be trained in JAX 3x faster than in PyTorch with a similar setup. Note that for larger models, larger batch sizes, or smaller GPUs, a considerably smaller speedup is expected, and the code has not been designed for benchmarking. Nonetheless, JAX enables this speedup by compiling functions and numerical programs for accelerators (GPU/TPU) *just in time*, finding the optimal utilization of the hardware. Frameworks with dynamic computation graphs like PyTorch cannot achieve the same efficiency, since they cannot anticipate the next operations before the user calls them. For example, in an Inception block of GoogleNet, we apply multiple convolutional layers in parallel on the same input. JAX can optimize the execution of this layer by compiling the whole forward pass for the available accelerator and fusing operations where possible, reducing memory access and speeding up execution. In contrast, when calling the first convolutional layer in PyTorch, the framework does not know that multiple convolutions on the same feature map will follow. It sends each operation one by one to the GPU, and can only adapt the execution after seeing the next Python calls. Hence, JAX can make more efficient use of the GPU than, for instance, PyTorch. \n",
    "\n",
    "However, everything comes with a price. In order to efficiently compile programs just-in-time in JAX, the functions need to be written with certain constraints. Firstly, the functions are not allowed to have side-effects, meaning that they are not allowed to affect any variable outside of their namespaces. For instance, in-place operations affect a variable even outside of the function. Moreover, stochastic operations such as `torch.rand(...)` change the global state of pseudo random number generators, which is not allowed in functional JAX (we will see later how JAX handles random number generation). Secondly, JAX compiles the functions based on anticipated shapes of all arrays/tensors in the function. This becomes problematic if the shapes or the program flow within the function depends on the values of the tensor. For instance, in the operation `y = x[x>3]`, the shape of `y` depends on how many values of `x` are greater than 3. We will discuss more of these constraints in this notebook. Still, in most common cases of training neural networks, it is straightforward to write functions within these constraints.\n",
    "\n",
    "This tutorial is heavily inspired by many great JAX tutorials before, and a (non-exclusive) list of them are:\n",
    "\n",
    "* [JAX 101](https://jax.readthedocs.io/en/latest/jax-101/index.html) with many subtutorials on individual parts of JAX\n",
    "* [JAX - The Sharp Bits](https://jax.readthedocs.io/en/latest/notebooks/Common_Gotchas_in_JAX.html) discusses the constraints of JAX and how to overcome them\n",
    "* [Jax for the Impatient](https://flax.readthedocs.io/en/latest/notebooks/jax_for_the_impatient.html) for a quick intro to JAX with focus on deep learning\n",
    "* [Flax Basics](https://flax.readthedocs.io/en/latest/notebooks/flax_basics.html) as introduction to the Flax framework\n",
    "\n",
    "Throughout this tutorial, we will draw comparisons to PyTorch and also use its data loading library (see our [PyTorch tutorial](https://uvadlc-notebooks.readthedocs.io/en/latest/tutorial_notebooks/tutorial2/Introduction_to_PyTorch.html) for a refresher). JAX is not meant to 'redefine the wheel', so we can combine it framework-agnostic parts from PyTorch (e.g., data loading) and TensorFlow (e.g., logging in TensorBoard). Further, we use [Flax](https://flax.readthedocs.io/en/latest/) as a neural network library in JAX, and [Optax](https://optax.readthedocs.io/en/latest/index.html) to implement common deep learning optimizers. More on them later in the notebook. First, let's get started with some basic JAX operations."
   ]
  },
  {
   "cell_type": "code",
   "execution_count": 5,
   "id": "27bcf9b4",
   "metadata": {},
   "outputs": [],
   "source": [
    "## Standard libraries\n",
    "import os\n",
    "import math\n",
    "import numpy as np\n",
    "import time\n",
    "\n",
    "## Imports for plotting\n",
    "import matplotlib.pyplot as plt\n",
    "\n",
    "%matplotlib inline\n",
    "import matplotlib_inline.backend_inline\n",
    "\n",
    "matplotlib_inline.backend_inline.set_matplotlib_formats(\"svg\", \"pdf\")  # For export\n",
    "from matplotlib.colors import to_rgba\n",
    "import seaborn as sns\n",
    "\n",
    "sns.set()\n",
    "\n",
    "## Progress bar\n",
    "from tqdm.auto import tqdm"
   ]
  },
  {
   "cell_type": "markdown",
   "id": "596fdb56",
   "metadata": {},
   "source": [
    "## JAX as NumPy on accelerators\n",
    "\n",
    "Every deep learning framework has its own API for dealing with data arrays. For example, PyTorch uses `torch.Tensor` as data arrays on which it defines several operations like matrix multiplication, taking the mean of the elements, etc. In JAX, this basic API strongly resembles the one of [NumPy](https://numpy.org/), and even has the same name in JAX (`jax.numpy`). So, for now, let's think of JAX as NumPy that runs on accelerators. As a first step, let's import JAX and its NumPy API:"
   ]
  },
  {
   "cell_type": "code",
   "execution_count": 6,
   "id": "49e7ef6d",
   "metadata": {},
   "outputs": [
    {
     "name": "stdout",
     "output_type": "stream",
     "text": [
      "Using jax 0.4.4\n"
     ]
    }
   ],
   "source": [
    "import jax\n",
    "import jax.numpy as jnp\n",
    "\n",
    "print(\"Using jax\", jax.__version__)"
   ]
  },
  {
   "cell_type": "markdown",
   "id": "ef489888",
   "metadata": {},
   "source": [
    "At the current time of writing (January 2023), the newest JAX version is `0.4.x` which supports most of the common NumPy functionalities. The NumPy API of JAX is usually imported as `jnp`, to keep a resemblance to NumPy's import as `np`. In the following subsections, we will discuss the main differences between the classical NumPy API and the one of JAX."
   ]
  },
  {
   "cell_type": "markdown",
   "id": "59bc5499",
   "metadata": {},
   "source": [
    "### Device Arrays\n",
    "\n",
    "As a first test, let's create some arbitrary arrays like we would do in NumPy. For instance, let's create an array of zeros with shape `[2,5]`:"
   ]
  },
  {
   "cell_type": "code",
   "execution_count": 7,
   "id": "c564f925",
   "metadata": {},
   "outputs": [
    {
     "name": "stderr",
     "output_type": "stream",
     "text": [
      "No GPU/TPU found, falling back to CPU. (Set TF_CPP_MIN_LOG_LEVEL=0 and rerun for more info.)\n"
     ]
    },
    {
     "name": "stdout",
     "output_type": "stream",
     "text": [
      "[[0. 0. 0. 0. 0.]\n",
      " [0. 0. 0. 0. 0.]]\n"
     ]
    }
   ],
   "source": [
    "a = jnp.zeros((2, 5), dtype=jnp.float32)\n",
    "print(a)"
   ]
  },
  {
   "cell_type": "markdown",
   "id": "516bc6fe",
   "metadata": {},
   "source": [
    "Similarly, we can create an array with values of 0 to 5 by using `arange`:"
   ]
  },
  {
   "cell_type": "code",
   "execution_count": 8,
   "id": "ee5bd836",
   "metadata": {},
   "outputs": [
    {
     "name": "stdout",
     "output_type": "stream",
     "text": [
      "[0 1 2 3 4 5]\n"
     ]
    }
   ],
   "source": [
    "b = jnp.arange(6)\n",
    "print(b)"
   ]
  },
  {
   "cell_type": "markdown",
   "id": "77f8dab4",
   "metadata": {},
   "source": [
    "You might now wonder whether the arrays `a` and `b` are simply NumPy arrays. To check that, let's print out the class of `b`:"
   ]
  },
  {
   "cell_type": "code",
   "execution_count": 9,
   "id": "72ecee4a",
   "metadata": {},
   "outputs": [
    {
     "data": {
      "text/plain": [
       "jaxlib.xla_extension.Array"
      ]
     },
     "execution_count": 9,
     "metadata": {},
     "output_type": "execute_result"
    }
   ],
   "source": [
    "b.__class__"
   ]
  },
  {
   "cell_type": "markdown",
   "id": "759b97ec",
   "metadata": {},
   "source": [
    "Instead of a simple NumPy array, it shows the type `DeviceArray` which is what JAX uses to represent arrays. In contrast to NumPy, JAX can execute the same code on different backends – CPU, GPU and TPU. A `DeviceArray` therefore represents an array which is on one of the backends. Similar to PyTorch, we can check the device of an array by calling `.device()`:"
   ]
  },
  {
   "cell_type": "code",
   "execution_count": 10,
   "id": "1830458e",
   "metadata": {},
   "outputs": [
    {
     "data": {
      "text/plain": [
       "CpuDevice(id=0)"
      ]
     },
     "execution_count": 10,
     "metadata": {},
     "output_type": "execute_result"
    }
   ],
   "source": [
    "b.device()"
   ]
  },
  {
   "attachments": {},
   "cell_type": "markdown",
   "id": "426ebefc",
   "metadata": {},
   "source": [
    "\n",
    "In order to change the device of an array, we can use `jax.device_get`:"
   ]
  },
  {
   "cell_type": "code",
   "execution_count": 11,
   "id": "b96105d4",
   "metadata": {},
   "outputs": [
    {
     "name": "stdout",
     "output_type": "stream",
     "text": [
      "<class 'numpy.ndarray'>\n"
     ]
    }
   ],
   "source": [
    "b_cpu = jax.device_get(b)\n",
    "print(b_cpu.__class__)"
   ]
  },
  {
   "cell_type": "markdown",
   "id": "1e768a4d",
   "metadata": {},
   "source": [
    "Unsurprisingly, a simple CPU-based array is nothing else than a NumPy array, which allows for a simple conversion between the two frameworks! To explicitly push a NumPy array to the accelerator, you can use `jax.device_put`:"
   ]
  },
  {
   "cell_type": "code",
   "execution_count": 12,
   "id": "dd15f4ba",
   "metadata": {},
   "outputs": [
    {
     "name": "stdout",
     "output_type": "stream",
     "text": [
      "Device put: <class 'jaxlib.xla_extension.Array'> on TFRT_CPU_0\n"
     ]
    }
   ],
   "source": [
    "b_gpu = jax.device_put(b_cpu)\n",
    "print(f\"Device put: {b_gpu.__class__} on {b_gpu.device()}\")"
   ]
  },
  {
   "cell_type": "markdown",
   "id": "7db34d2f",
   "metadata": {},
   "source": [
    "Nicely enough, JAX will handle any device clash itself when you try to perform operations on a NumPy array and a DeviceArray by modeling the output as DeviceArray again:"
   ]
  },
  {
   "cell_type": "code",
   "execution_count": 13,
   "id": "3828e734",
   "metadata": {},
   "outputs": [
    {
     "data": {
      "text/plain": [
       "Array([ 0,  2,  4,  6,  8, 10], dtype=int32)"
      ]
     },
     "execution_count": 13,
     "metadata": {},
     "output_type": "execute_result"
    }
   ],
   "source": [
    "b_cpu + b_gpu"
   ]
  },
  {
   "cell_type": "markdown",
   "id": "13dcc6f1",
   "metadata": {},
   "source": [
    "Finally, we can also print all our available devices using `jax.devices()`:"
   ]
  },
  {
   "cell_type": "code",
   "execution_count": 14,
   "id": "1e7f736d",
   "metadata": {},
   "outputs": [
    {
     "data": {
      "text/plain": [
       "[CpuDevice(id=0)]"
      ]
     },
     "execution_count": 14,
     "metadata": {},
     "output_type": "execute_result"
    }
   ],
   "source": [
    "jax.devices()"
   ]
  },
  {
   "cell_type": "markdown",
   "id": "dc77f50e",
   "metadata": {},
   "source": [
    "A technical detail of running operations on DeviceArrays is that when a JAX function is called, the corresponding operation takes place asynchronously on the accelerator when possible. For instance, if we call `out = jnp.matmul(b, b)`, JAX first returns a placeholder array for `out` which may not be filled with the values as soon as the function calls finishes. This way, Python will not block the execution of follow-up statements, but instead only does it whenever we strictly need the value of `out`, for instance for printing or putting it on CPU. PyTorch uses a very similar principle to allow asynchronous computation. For more details, see [JAX - Asynchronous Dispatch](https://jax.readthedocs.io/en/latest/async_dispatch.html)."
   ]
  },
  {
   "cell_type": "markdown",
   "id": "1f1d99b6",
   "metadata": {},
   "source": [
    "### Immutable tensors\n",
    "\n",
    "When we would like to change a NumPy array in-place, like replacing the first element of `b` with `1` instead of `0`, we could simply write `b[0]=1`. However, in JAX, this is not possible. A `DeviceArray` object is *immutable*, which means that no in-place operations are possible. The reason for this goes back to our discussion in the introduction: JAX requires programs to be \"pure\" functions, i.e. no effects on variables outside of the function are allowed. Allowing in-place operations of variables would make the program analysis for JAX's just-in-time compilation difficult. Instead, we can use the expression `b.at[0].set(1)` which, analogous to the in-place operation, returns a new array which is identical to `b`, except that its value at the first position is 1. Let's try that out below:"
   ]
  },
  {
   "cell_type": "code",
   "execution_count": 15,
   "id": "e857ecdd",
   "metadata": {},
   "outputs": [
    {
     "name": "stdout",
     "output_type": "stream",
     "text": [
      "Original array: [0 1 2 3 4 5]\n",
      "Changed array: [1 1 2 3 4 5]\n"
     ]
    }
   ],
   "source": [
    "b_new = b.at[0].set(1)\n",
    "print(\"Original array:\", b)\n",
    "print(\"Changed array:\", b_new)"
   ]
  },
  {
   "cell_type": "markdown",
   "id": "350bbb40",
   "metadata": {},
   "source": [
    "However, we said that JAX is very efficient. Isn't creating a new array in this case the opposite? While it is indeed less efficient, it can made much more efficient with JAX's just-in-time compilation. The compiler can recognize unnecessary array duplications, and replace them with in-place operations again. More on the just-in-time compilation later! "
   ]
  },
  {
   "cell_type": "markdown",
   "id": "0910f0a3",
   "metadata": {},
   "source": [
    "### Pseudo Random Numbers in JAX\n",
    "\n",
    "In machine learning, we come across several situations where we need to generate pseudo random numbers: randomly shuffling a dataset, sampling a dropout mask for regularization, training a VAE by sampling from the approximate posterior, etc. In libraries like NumPy and PyTorch, the random number generator are controlled by a seed, which we set initially to obtain the same samples every time we run the code (this is why the numbers are not truly random, hence \"pseudo\"-random). However, if we call `np.random.normal()` 5 times consecutively, we will get 5 different numbers since every execution changes the state/seed of the pseudo random number generation (PRNG). In JAX, if we would try to generate a random number with this approach, a function creating pseudo-random number would have an effect outside of it. To prevent this, JAX takes a different approach by explicitly passing and iterating the PRNG state. First, let's create a PRNG for the seed 42:"
   ]
  },
  {
   "cell_type": "code",
   "execution_count": 16,
   "id": "d64c5f0b",
   "metadata": {},
   "outputs": [],
   "source": [
    "rng = jax.random.PRNGKey(42)"
   ]
  },
  {
   "cell_type": "markdown",
   "id": "775949c4",
   "metadata": {},
   "source": [
    "Now, we can use this PRNG state to generate random numbers. Since with this state, the random number generation becomes deterministic, we sample the same number every time. This is not the case in NumPy if we set the seed once before both operations:"
   ]
  },
  {
   "cell_type": "code",
   "execution_count": 17,
   "id": "88ddffce",
   "metadata": {},
   "outputs": [
    {
     "name": "stdout",
     "output_type": "stream",
     "text": [
      "JAX - Random number 1: -0.18471177\n",
      "JAX - Random number 2: -0.18471177\n",
      "NumPy - Random number 1: 0.4967141530112327\n",
      "NumPy - Random number 2: -0.13826430117118466\n"
     ]
    }
   ],
   "source": [
    "# A non-desirable way of generating pseudo-random numbers...\n",
    "jax_random_number_1 = jax.random.normal(rng)\n",
    "jax_random_number_2 = jax.random.normal(rng)\n",
    "print(\"JAX - Random number 1:\", jax_random_number_1)\n",
    "print(\"JAX - Random number 2:\", jax_random_number_2)\n",
    "\n",
    "# Typical random numbers in NumPy\n",
    "np.random.seed(42)\n",
    "np_random_number_1 = np.random.normal()\n",
    "np_random_number_2 = np.random.normal()\n",
    "print(\"NumPy - Random number 1:\", np_random_number_1)\n",
    "print(\"NumPy - Random number 2:\", np_random_number_2)"
   ]
  },
  {
   "cell_type": "markdown",
   "id": "d60e59d3",
   "metadata": {},
   "source": [
    "Usually, we want to have a behavior like NumPy where we get a different random number every time we sample. To achieve this, we can *split* the PRNG state to get usable subkeys every time we need a new pseudo-random number. We can do this with `jax.random.split(...)`:"
   ]
  },
  {
   "cell_type": "code",
   "execution_count": 18,
   "id": "be3d64de",
   "metadata": {},
   "outputs": [
    {
     "name": "stdout",
     "output_type": "stream",
     "text": [
      "JAX new - Random number 1: 0.107961535\n",
      "JAX new - Random number 2: -1.2226542\n"
     ]
    }
   ],
   "source": [
    "rng, subkey1, subkey2 = jax.random.split(rng, num=3)  # We create 3 new keys\n",
    "jax_random_number_1 = jax.random.normal(subkey1)\n",
    "jax_random_number_2 = jax.random.normal(subkey2)\n",
    "print(\"JAX new - Random number 1:\", jax_random_number_1)\n",
    "print(\"JAX new - Random number 2:\", jax_random_number_2)"
   ]
  },
  {
   "cell_type": "markdown",
   "id": "aebc39d0",
   "metadata": {},
   "source": [
    "Every time you run this cell, you will obtain different random numbers for both operations since we create new PRNG states before sampling. In general, you want to split the PRNG key every time before generating a pseudo-number, to prevent accidentally obtaining the exact same numbers (for instance, sampling the exact same dropout mask every time you run the network makes dropout itself quite useless...). For a deeper dive into the ideas behind the random number generation in JAX, see JAX's tutorial on [Pseudo Random Numbers](https://jax.readthedocs.io/en/latest/jax-101/05-random-numbers.html)."
   ]
  },
  {
   "cell_type": "markdown",
   "id": "b4543cda",
   "metadata": {},
   "source": [
    "## Function transformations with Jaxpr\n",
    "\n",
    "Rosalia Schneider and Vladimir Mikulik summarize the key points of JAX in the [JAX 101 tutorial](https://jax.readthedocs.io/en/latest/jax-101/01-jax-basics.html) as follows: \n",
    "\n",
    "> The most important difference, and in some sense the root of all the rest, is that JAX is designed to be functional, as in functional programming. The reason behind this is that the kinds of program transformations that JAX enables are much more feasible in functional-style programs. [...] The important feature of functional programming to grok when working with JAX is very simple: don’t write code with side-effects.\n",
    "\n",
    "Essentially, we want to write our main code of JAX in functions that do not affect anything else besides its outputs. For instance, we do not want to change input arrays in-place, or access global variables. While this might seem limiting at first, you get used to this quite quickly and most JAX functions that need to fulfill these constraints can be written this way without problems. Note that not all possible functions in training a neural network need to fulfill the constraints. For instance, loading or saving of models, the logging, or the data generation can be done in naive functions. Only the network execution, which we want to do very efficiently on our accelerator (GPU or TPU), should strictly follow these constraints.\n",
    "\n",
    "What does make JAX functions so special, and how can we think about them? A good way of gaining understanding in how JAX handles function is to understand its intermediate representation: jaxpr. Conceptually, you can think of any operation that JAX does on a function, as first trace-specializing the Python function to be transformed into a small and well-behaved intermediate form. This means that we check which operations are performed on which array, and what shapes the arrays are. Based on this representation, JAX then interprets the function with transformation-specific interpretation rules, which includes automatic differentiation or compiling a function in XLA to efficiently use the accelerator.\n",
    "\n",
    "To illustrate this intermediate representation, let's consider the same simple function we used in the [PyTorch tutorial](https://uvadlc-notebooks.readthedocs.io/en/latest/tutorial_notebooks/tutorial2/Introduction_to_PyTorch.html) to discuss the concept of dynamic computation graphs:\n",
    "\n",
    "$$ y = \\frac{1}{|x|}\\sum_{i}\\left[\\left(x_i+2\\right)^2+3\\right]$$\n",
    "\n",
    "Using common NumPy operations in JAX, we can write it as follows:"
   ]
  },
  {
   "cell_type": "code",
   "execution_count": 19,
   "id": "71064b84",
   "metadata": {},
   "outputs": [
    {
     "name": "stdout",
     "output_type": "stream",
     "text": [
      "Input [0. 1. 2.]\n",
      "Output 12.666667\n"
     ]
    }
   ],
   "source": [
    "def simple_graph(x):\n",
    "    x = x + 2\n",
    "    x = x**2\n",
    "    x = x + 3\n",
    "    y = x.mean()\n",
    "    return y\n",
    "\n",
    "\n",
    "inp = jnp.arange(3, dtype=jnp.float32)\n",
    "print(\"Input\", inp)\n",
    "print(\"Output\", simple_graph(inp))"
   ]
  },
  {
   "cell_type": "markdown",
   "id": "bad49df6",
   "metadata": {},
   "source": [
    "To view the jaxpr representation of this function, we can use `jax.make_jaxpr`. Since the tracing depends on the shape of the input, we need to pass an input to the function (here of shape `[3]`):"
   ]
  },
  {
   "cell_type": "code",
   "execution_count": 20,
   "id": "a0323430",
   "metadata": {},
   "outputs": [
    {
     "data": {
      "text/plain": [
       "{ lambda ; a:f32[3]. let\n",
       "    b:f32[3] = add a 2.0\n",
       "    c:f32[3] = integer_pow[y=2] b\n",
       "    d:f32[3] = add c 3.0\n",
       "    e:f32[] = reduce_sum[axes=(0,)] d\n",
       "    f:f32[] = div e 3.0\n",
       "  in (f,) }"
      ]
     },
     "execution_count": 20,
     "metadata": {},
     "output_type": "execute_result"
    }
   ],
   "source": [
    "jax.make_jaxpr(simple_graph)(inp)"
   ]
  },
  {
   "cell_type": "markdown",
   "id": "d5409ffb",
   "metadata": {},
   "source": [
    "A jaxpr representation follows the structure:\n",
    "\n",
    "```python\n",
    "jaxpr ::= { lambda Var* ; Var+.\n",
    "            let Eqn*\n",
    "            in  [Expr+] }\n",
    "```\n",
    "where `Var*` are constants and `Var+` are input arguments. In the cell above, this is `a:f32[3]`, i.e. an array of shape 3 with type `jnp.float32` (`inp`). The list of equations, `Eqn*`, define the intermediate results of the function. You can see that each operation in `simple_graph` is translated to a corresponding equation, like `x = x + 2` is translated to `b:f32[3] = add a 2.0`. Furthermore, you see the specialization of the operations on the input shape, like `x.mean()` being replacing in `e` and `f` with summing and dividing by 3. Finally, `Expr+` in the jaxpr representation are the outputs of the functions. In the example, this is `f`, i.e. the final result of the function.\n",
    "Based on these atomic operations, JAX offers all kind of function transformations, of which we will discuss the most important ones later in this section. \n",
    "Hence, you can consider the jaxpr representation is an intermediate compilation stage of JAX. What happens if we actually try to look at the jaxpr representation of a function with side-effect? Let's consider the following function, which, as an illustrative example, appends the input to a global list:"
   ]
  },
  {
   "cell_type": "code",
   "execution_count": 21,
   "id": "a714bb61",
   "metadata": {},
   "outputs": [
    {
     "data": {
      "text/plain": [
       "{ lambda ; a:f32[3]. let\n",
       "    b:f32[3] = integer_pow[y=2] a\n",
       "    c:f32[] = reduce_sum[axes=(0,)] b\n",
       "    d:f32[] = sqrt c\n",
       "  in (d,) }"
      ]
     },
     "execution_count": 21,
     "metadata": {},
     "output_type": "execute_result"
    }
   ],
   "source": [
    "global_list = []\n",
    "\n",
    "\n",
    "# Invalid function with side-effect\n",
    "def norm(x):\n",
    "    global_list.append(x)\n",
    "    x = x**2\n",
    "    n = x.sum()\n",
    "    n = jnp.sqrt(n)\n",
    "    return n\n",
    "\n",
    "\n",
    "jax.make_jaxpr(norm)(inp)"
   ]
  },
  {
   "cell_type": "markdown",
   "id": "3dd631c2",
   "metadata": {},
   "source": [
    "As you can see, the jaxpr representation of the function does not contain any operation for `global_list.append(x)`. This is because jaxpr only understand side-effect-free code, and cannot represent such effects. Thus, we need to stick with pure functions without any side effects, to prevent any unwanted errors in our functions. If you are interested in learning more about the jaxpr representation, check out the JAX [documentation](https://jax.readthedocs.io/en/latest/jaxpr.html) on it. But for this tutorial, we just need the basics as discussed above."
   ]
  },
  {
   "cell_type": "markdown",
   "id": "1ccd928e",
   "metadata": {},
   "source": [
    "### Automatic differentiation\n",
    "\n",
    "The intermediate jaxpr representation defines a computation graph, on which we can perform an essential operation of deep learning framework: automatic differentiation. In frameworks like PyTorch with a dynamic computation graph, we would compute the gradients based on the loss tensor itself, e.g. by calling `loss.backward()`. However, JAX directly works with functions. Instead of backpropagating gradients through tensors, JAX takes as input a function, and outputs another function which directly calculates the gradients for it. While this might seem quite different to what you are used to from other frameworks, it is quite intuitive: your gradient of parameters is really a function of parameters and data.\n",
    "\n",
    "The transformation that allows us to do this is `jax.grad`, which takes as input the function, and returns another function representing the gradient calculation of the (first) input with respect to the output:"
   ]
  },
  {
   "cell_type": "code",
   "execution_count": 22,
   "id": "fd3f3ba9",
   "metadata": {},
   "outputs": [
    {
     "name": "stdout",
     "output_type": "stream",
     "text": [
      "Gradient [1.3333334 2.        2.6666667]\n"
     ]
    }
   ],
   "source": [
    "grad_function = jax.grad(simple_graph)\n",
    "gradients = grad_function(inp)\n",
    "print(\"Gradient\", gradients)"
   ]
  },
  {
   "cell_type": "markdown",
   "id": "7951a63f",
   "metadata": {},
   "source": [
    "The gradient we get here is exactly the one we would obtain when doing the calculation by hand. Moreover, we can also print the jaxpr representation of the gradient function:"
   ]
  },
  {
   "cell_type": "code",
   "execution_count": 23,
   "id": "cc3d85b0",
   "metadata": {},
   "outputs": [
    {
     "data": {
      "text/plain": [
       "{ lambda ; a:f32[3]. let\n",
       "    b:f32[3] = add a 2.0\n",
       "    c:f32[3] = integer_pow[y=2] b\n",
       "    d:f32[3] = integer_pow[y=1] b\n",
       "    e:f32[3] = mul 2.0 d\n",
       "    f:f32[3] = add c 3.0\n",
       "    g:f32[] = reduce_sum[axes=(0,)] f\n",
       "    _:f32[] = div g 3.0\n",
       "    h:f32[] = div 1.0 3.0\n",
       "    i:f32[3] = broadcast_in_dim[broadcast_dimensions=() shape=(3,)] h\n",
       "    j:f32[3] = mul i e\n",
       "  in (j,) }"
      ]
     },
     "execution_count": 23,
     "metadata": {},
     "output_type": "execute_result"
    }
   ],
   "source": [
    "jax.make_jaxpr(grad_function)(inp)"
   ]
  },
  {
   "cell_type": "markdown",
   "id": "fb8ee5ae",
   "metadata": {},
   "source": [
    "This shows an unique property of JAX: we can print out the exact computation graph for determining the gradients. Compared to the original function, you can see new equations like `d:f32[3] = integer_pow[y=1] b` and `e:f32[3] = mul 2.0 d`, which model the intermediate gradient of $\\partial b_i^2/\\partial b_i = 2b_i$. Furthermore, the return value `j` is the multiplication of `e` with $1/3$, which maps to the gradient being:\n",
    "\n",
    "$$ \\frac{\\partial y}{\\partial x_i} = \\frac{2}{3}(x_i + 2)$$\n",
    "\n",
    "Hence, we can not only use JAX to estimate the gradients at a certain input value, but actually return the analytical gradient function which is quite a nice feature and highlights the properties of JAX!"
   ]
  },
  {
   "cell_type": "markdown",
   "id": "07ca4428",
   "metadata": {},
   "source": [
    "Often, we do not only want the gradients, but also the actual output of the function, for instance for logging the loss. This can be efficiently done using `jax.value_and_grad`:"
   ]
  },
  {
   "cell_type": "code",
   "execution_count": 24,
   "id": "bf220dd8",
   "metadata": {},
   "outputs": [
    {
     "data": {
      "text/plain": [
       "(Array(12.666667, dtype=float32),\n",
       " Array([1.3333334, 2.       , 2.6666667], dtype=float32))"
      ]
     },
     "execution_count": 24,
     "metadata": {},
     "output_type": "execute_result"
    }
   ],
   "source": [
    "val_grad_function = jax.value_and_grad(simple_graph)\n",
    "val_grad_function(inp)"
   ]
  },
  {
   "cell_type": "markdown",
   "id": "a6f9fe03",
   "metadata": {},
   "source": [
    "Further, we can specialize the gradient function to consider multiple input arguments, and add extra outputs that we may not want to differentiate (for instance the accuracy in classification). We will visit the most important ones in the network training later in this section, and refer to other great resources for more details ([JAX Quickstart](https://jax.readthedocs.io/en/latest/notebooks/quickstart.html#taking-derivatives-with-grad), [Autodiff cookbook](https://jax.readthedocs.io/en/latest/notebooks/autodiff_cookbook.html), [Advanced autodiff](https://jax.readthedocs.io/en/latest/jax-101/04-advanced-autodiff.html)).\n",
    "\n",
    "To train neural networks, we need to determine the gradient for every parameter in the network with respect to the loss. Listing all parameters as input arguments quickly gets annoying and infeasible. JAX offers an elegant data structure to summarize all parameters: a pytree ([documentation](https://jax.readthedocs.io/en/latest/pytrees.html)). A pytree is a container-like object which structures its elements as a tree. For instance, a linear neural network might have its parameters organized similar to:\n",
    "\n",
    "```python\n",
    "params = {\n",
    "    'linear1': {\n",
    "        'weights': ...,\n",
    "        'bias': ...\n",
    "    },\n",
    "    ...\n",
    "}\n",
    "```\n",
    "JAX offers functions to process pytrees efficiently, such as obtaining all leafs (i.e. all parameters in a network) or applying a function on each element. We will come back to these structures when training a full network."
   ]
  },
  {
   "cell_type": "markdown",
   "id": "ba40a111",
   "metadata": {},
   "source": [
    "### Speeding up computation with Just-In-Time compilation\n",
    "\n",
    "Interestingly, from the previous code cell, you can see in the jaxpr representation of the gradient function that calculating the array `f` and scalar `g` are unnecessary. Intuitively, the gradient of taking the mean is independent of the actual output of the mean, hence we could drop `f` and `g` without any drawback. Finding such cases to improve efficiency and optimizing the code to take full advantage of the available accelerator hardware is one of the big selling points of JAX. It achieves that by *compiling functions just-in-time* with [XLA](https://www.tensorflow.org/xla) (Accelerated Linear Algebra), using their jaxpr representation. Thereby, XLA fuses operations to reduce execution time of short-lived operations and eliminates intermediate storage buffers where not needed. For more details, see the [XLA documentation](https://docs.w3cub.com/tensorflow~guide/performance/xla/index). \n",
    "\n",
    "To compile a function, JAX provides the `jax.jit` transformation. We can either apply the transformation directly on a function (as we will do in the next cell), or use the decorator `@jax.jit` before a function."
   ]
  },
  {
   "cell_type": "code",
   "execution_count": 25,
   "id": "861f1cfb",
   "metadata": {},
   "outputs": [],
   "source": [
    "jitted_function = jax.jit(simple_graph)"
   ]
  },
  {
   "cell_type": "markdown",
   "id": "b482467e",
   "metadata": {},
   "source": [
    "The `jitted_function` takes the same input arguments as the original function `simple_graph`. Since the jaxpr representation of a function depends on the input shape, the compilation is started once we put the first input in. However, note that this also means that for every different shape we want to run the function, a new XLA compilation is needed. This is why it is recommended to use padding in cases where your input shape strongly varies (we revisit this topic in the final section of this tutorial). For now, let's create an array with 1000 random values, on which we apply the jitted function:"
   ]
  },
  {
   "cell_type": "code",
   "execution_count": 26,
   "id": "f568e7ae",
   "metadata": {},
   "outputs": [],
   "source": [
    "# Create a new random subkey for generating new random values\n",
    "rng, normal_rng = jax.random.split(rng)\n",
    "large_input = jax.random.normal(normal_rng, (1000,))\n",
    "# Run the jitted function once to start compilation\n",
    "_ = jitted_function(large_input)"
   ]
  },
  {
   "cell_type": "markdown",
   "id": "fdfcfabe",
   "metadata": {},
   "source": [
    "The output is not any different from what you would get from the non-jitted function. However, how is it about the runtime? Let's time both the original and the jitted function. Due to the asynchronous execution on the GPU, we add `.block_until_ready()` on the output, which blocks the Python execution until the accelerator (here GPU) finished computing the result and hence get an accurate time estimate."
   ]
  },
  {
   "cell_type": "code",
   "execution_count": 27,
   "id": "5115b24d",
   "metadata": {},
   "outputs": [
    {
     "name": "stdout",
     "output_type": "stream",
     "text": [
      "177 µs ± 5.05 µs per loop (mean ± std. dev. of 7 runs, 1,000 loops each)\n"
     ]
    }
   ],
   "source": [
    "%%timeit\n",
    "simple_graph(large_input).block_until_ready()"
   ]
  },
  {
   "cell_type": "code",
   "execution_count": 28,
   "id": "593fae73",
   "metadata": {},
   "outputs": [
    {
     "name": "stdout",
     "output_type": "stream",
     "text": [
      "5.46 µs ± 20.8 ns per loop (mean ± std. dev. of 7 runs, 100,000 loops each)\n"
     ]
    }
   ],
   "source": [
    "%%timeit\n",
    "jitted_function(large_input).block_until_ready()"
   ]
  },
  {
   "cell_type": "markdown",
   "id": "dc0d7d8d",
   "metadata": {},
   "source": [
    "We see that the compiled function is almost 10-15x faster! This is quite an improvement in performance, and shows the potential of compiling functions with XLA. Furthermore, we can also apply multiple transformations on the same function in JAX, such as applying `jax.jit` on a gradient function:"
   ]
  },
  {
   "cell_type": "code",
   "execution_count": 29,
   "id": "ac7991b2",
   "metadata": {},
   "outputs": [],
   "source": [
    "jitted_grad_function = jax.jit(grad_function)\n",
    "_ = jitted_grad_function(large_input)  # Apply once to compile"
   ]
  },
  {
   "cell_type": "markdown",
   "id": "aeec0d3d",
   "metadata": {},
   "source": [
    "Let's time the functions once more:"
   ]
  },
  {
   "cell_type": "code",
   "execution_count": 30,
   "id": "84e68aa8",
   "metadata": {},
   "outputs": [
    {
     "name": "stdout",
     "output_type": "stream",
     "text": [
      "4.5 ms ± 62 µs per loop (mean ± std. dev. of 7 runs, 100 loops each)\n"
     ]
    }
   ],
   "source": [
    "%%timeit\n",
    "grad_function(large_input).block_until_ready()"
   ]
  },
  {
   "cell_type": "code",
   "execution_count": 31,
   "id": "14388264",
   "metadata": {},
   "outputs": [
    {
     "name": "stdout",
     "output_type": "stream",
     "text": [
      "4.88 µs ± 84.9 ns per loop (mean ± std. dev. of 7 runs, 100,000 loops each)\n"
     ]
    }
   ],
   "source": [
    "%%timeit\n",
    "jitted_grad_function(large_input).block_until_ready()"
   ]
  },
  {
   "cell_type": "markdown",
   "id": "04e7e67e",
   "metadata": {},
   "source": [
    "Once more, the jitted function is much faster than the original one. Intuitively, this shows the potential speed up we can gain by using `jax.jit` to compile the whole training step of a network. Generally, we want to jit the largest possible chunk of computation to give the compiler maximum freedom. \n",
    "\n",
    "There are situations in which applying jit to a function is not straight-forward, for instance, if an input argument cannot be traced, or you need to use loops that depend on input arguments. To keep the tutorial simple, and since most neural network training functions do not run into these issues, we do not discuss such special cases here. Instead, we refer to the section on just-in-time compilation in the great tutorials of [JAX 101 Tutorial](https://jax.readthedocs.io/en/latest/jax-101/02-jitting.html), [JAX Quickstart](https://jax.readthedocs.io/en/latest/notebooks/quickstart.html#using-jit-to-speed-up-functions), and [Thinking in JAX](https://jax.readthedocs.io/en/latest/notebooks/thinking_in_jax.html#to-jit-or-not-to-jit)."
   ]
  },
  {
   "cell_type": "markdown",
   "id": "b82f544e",
   "metadata": {},
   "source": [
    "## Implementing a Neural Network with Flax\n",
    "\n",
    "With having reviewed the basics of JAX, we are now ready to implement our own neural network. Technically, we could implement our own neural network from scratch with JAX (see [here](https://jax.readthedocs.io/en/latest/notebooks/Neural_Network_and_Data_Loading.html) for an example), but we do not really want to do that every time. Similarly to PyTorch's `torch.nn` package, there exist neural network libraries based on JAX which provide such basic functionality. A (non-exclusive) collection of them are:\n",
    "\n",
    "* [Flax](https://flax.readthedocs.io/en/latest/index.html), started by the Google Brain Team, focuses on flexibility and clarity.\n",
    "* [Haiku](https://dm-haiku.readthedocs.io/en/latest/), from DeepMind, focuses on simplicity and compositionality.\n",
    "* [Trax](https://github.com/google/trax), maintained by the Google Brain Team, provides solutions for common training tasks\n",
    "* [Equinox](https://github.com/patrick-kidger/equinox), created by Patrick Kidger and Cristian Garcia, implements neural networks as callable PyTrees\n",
    "* [Jraph](https://github.com/deepmind/jraph), from DeepMind, is a graph neural network library (similar to PyTorch Geometric)\n",
    "\n",
    "For this tutorial series, we will use Flax due to its flexibility, intuitive API, and larger community. However, this should not mean that the other libraries are necessarily worse, and we recommend giving them a try as well to find the best library for yourself!\n",
    "\n",
    "We will introduce the libraries and all additional parts you might need to train a neural network in Flax, using a simple example classifier on a simple yet well known example: XOR. Given two binary inputs $x_1$ and $x_2$, the label to predict is $1$ if either $x_1$ or $x_2$ is $1$ while the other is $0$, or the label is $0$ in all other cases. The example became famous by the fact that a single neuron, i.e. a linear classifier, cannot learn this simple function. Hence, we will learn how to build a small neural network that can learn this function. \n",
    "To make it a little bit more interesting, we move the XOR into continuous space and introduce some gaussian noise on the binary inputs. Our desired separation of an XOR dataset could look as follows:\n",
    "\n",
    "<center style=\"width: 100%\"><img src=\"assets/continuous_xor.svg\" width=\"350px\"></center>"
   ]
  },
  {
   "cell_type": "markdown",
   "id": "507f9a04",
   "metadata": {},
   "source": [
    "### The model\n",
    "\n",
    "The package `flax.linen` defines a series of useful classes like linear networks layers, convolutions, activation functions etc. A full list can be found [here](https://flax.readthedocs.io/en/latest/flax.linen.html). In case you need a certain network layer, check the documentation of the package first before writing the layer yourself as the package likely contains the code for it already. We import it below:"
   ]
  },
  {
   "cell_type": "code",
   "execution_count": 32,
   "id": "5ae8e998",
   "metadata": {},
   "outputs": [],
   "source": [
    "try:\n",
    "    import flax\n",
    "except ModuleNotFoundError:  # Install flax if missing\n",
    "    !pip install --quiet flax\n",
    "    import flax\n",
    "\n",
    "from flax import linen as nn"
   ]
  },
  {
   "cell_type": "markdown",
   "id": "b63429e0",
   "metadata": {},
   "source": [
    "#### nn.Module\n",
    "\n",
    "Similar to PyTorch, a neural network is built up out of modules. Modules can contain other modules, and a neural network is considered to be a module itself as well. The basic template of a module is as follows:"
   ]
  },
  {
   "cell_type": "code",
   "execution_count": 33,
   "id": "55fcd52c",
   "metadata": {},
   "outputs": [],
   "source": [
    "class MyModule(nn.Module):\n",
    "    # Some dataclass attributes, like hidden dimension, number of layers, etc. of the form:\n",
    "    # varname : vartype\n",
    "\n",
    "    def setup(self):\n",
    "        # Flax uses \"lazy\" initialization. This function is called once before you\n",
    "        # call the model, or try to access attributes. In here, define your submodules etc.\n",
    "        pass\n",
    "\n",
    "    def __call__(self, x):\n",
    "        # Function for performing the calculation of the module.\n",
    "        pass"
   ]
  },
  {
   "cell_type": "markdown",
   "id": "315c8cf3",
   "metadata": {},
   "source": [
    "The main, obvious difference to PyTorch is that Flax uses lazy initialization. The function `setup` is called once on a module instance before any other methods are called, or when you try to access a attribute of *self* defined in setup. Additional object attributes are defined below the class name. However, in contrast to PyTorch, the parameters are not part of the module. Instead, we can create a set of parameters of the module by calling its `init()` function. This function takes as input a PRNG state for sampling pseudo-random numbers and an example input to the model, and returns a set of parameters for the module as a pytree. Further, since the init function requires an input to the network, we can infer the input shape for all modules and do not need to explicitly define it during the module creation. This becomes more clear in the example we show in a second.\n",
    "\n",
    "The `__call__` method represents the `forward` function in PyTorch, and performs the actual computation of the module. It can take additional arguments if needed, like whether we are training or validation."
   ]
  },
  {
   "cell_type": "markdown",
   "id": "140a1566",
   "metadata": {},
   "source": [
    "#### Simple classifier\n",
    "\n",
    "To get an intuition behind how we work with modules in Flax, let's define our own small neural network. We will use a minimal network with a input layer, one hidden layer with tanh as activation function, and a output layer. In other words, our networks should look something like this:\n",
    "\n",
    "<center width=\"100%\"><img src=\"assets/small_neural_network.svg\" width=\"300px\"></center>\n",
    "\n",
    "The input neurons are shown in blue, which represent the coordinates $x_1$ and $x_2$ of a data point. The hidden neurons including a tanh activation are shown in white, and the output neuron in red.\n",
    "In Flax, we can define this as follows:"
   ]
  },
  {
   "cell_type": "code",
   "execution_count": 34,
   "id": "f0709370",
   "metadata": {},
   "outputs": [],
   "source": [
    "class SimpleClassifier(nn.Module):\n",
    "    num_hidden: int  # Number of hidden neurons\n",
    "    num_outputs: int  # Number of output neurons\n",
    "\n",
    "    def setup(self):\n",
    "        # Create the modules we need to build the network\n",
    "        # nn.Dense is a linear layer\n",
    "        self.linear1 = nn.Dense(features=self.num_hidden)\n",
    "        self.linear2 = nn.Dense(features=self.num_outputs)\n",
    "\n",
    "    def __call__(self, x):\n",
    "        # Perform the calculation of the model to determine the prediction\n",
    "        x = self.linear1(x)\n",
    "        x = nn.tanh(x)\n",
    "        x = self.linear2(x)\n",
    "        return x"
   ]
  },
  {
   "cell_type": "markdown",
   "id": "c9c5062b",
   "metadata": {},
   "source": [
    "One thing you may notice is that usually, all layers that we define in `setup` are also used in the `__call__` function. To reduce the code overhead, Flax provides an alternative, more compact network creation with `nn.compact`. With that, we can remove the setup function and instead our model as:"
   ]
  },
  {
   "cell_type": "code",
   "execution_count": 35,
   "id": "c68c1706",
   "metadata": {},
   "outputs": [],
   "source": [
    "class SimpleClassifierCompact(nn.Module):\n",
    "    num_hidden: int  # Number of hidden neurons\n",
    "    num_outputs: int  # Number of output neurons\n",
    "\n",
    "    @nn.compact  # Tells Flax to look for defined submodules\n",
    "    def __call__(self, x):\n",
    "        # Perform the calculation of the model to determine the prediction\n",
    "        # while defining necessary layers\n",
    "        x = nn.Dense(features=self.num_hidden)(x)\n",
    "        x = nn.tanh(x)\n",
    "        x = nn.Dense(features=self.num_outputs)(x)\n",
    "        return x"
   ]
  },
  {
   "cell_type": "markdown",
   "id": "8835db24",
   "metadata": {},
   "source": [
    "The `nn.compact` annotation of the `__call__` method signals Flax to look for submodules that we define in the forward pass. These are automatically recognized as such, so that we can use them for initialization etc. Which of the two model definition you use is often up to you (see the [Flax documentation](https://flax.readthedocs.io/en/latest/design_notes/setup_or_nncompact.html) for some pros and cons for both methods). In the following tutorials, we will mostly use the compact version, but occasionally come back to the explicit setup function where necessary. For instance, if we define more functions on a module besides `__call__` and want to reuse some modules, it is recommended to use the setup version."
   ]
  },
  {
   "cell_type": "markdown",
   "id": "c8096c54",
   "metadata": {},
   "source": [
    "For the examples in this notebook, we will use a tiny neural network with two input neurons and eight hidden neurons. As we perform binary classification, we will use a single output neuron. Note that we do not apply a sigmoid on the output yet. This is because other functions, especially the loss, are more efficient and precise to calculate on the original outputs instead of the sigmoid output. We will discuss the detailed reason later.\n",
    "\n",
    "Now, let's create an instance of this network:"
   ]
  },
  {
   "cell_type": "code",
   "execution_count": 36,
   "id": "f3773927",
   "metadata": {},
   "outputs": [
    {
     "name": "stdout",
     "output_type": "stream",
     "text": [
      "SimpleClassifier(\n",
      "    # attributes\n",
      "    num_hidden = 8\n",
      "    num_outputs = 1\n",
      ")\n"
     ]
    }
   ],
   "source": [
    "model = SimpleClassifier(num_hidden=8, num_outputs=1)\n",
    "# Printing the model shows its attributes\n",
    "print(model)"
   ]
  },
  {
   "cell_type": "markdown",
   "id": "3e828055",
   "metadata": {},
   "source": [
    "At this stage, the model has no parameters initialized. To do this, let's create a random input of our dataset, and apply the init function:"
   ]
  },
  {
   "cell_type": "code",
   "execution_count": 37,
   "id": "5cde7905",
   "metadata": {},
   "outputs": [
    {
     "name": "stdout",
     "output_type": "stream",
     "text": [
      "FrozenDict({\n",
      "    params: {\n",
      "        linear1: {\n",
      "            kernel: Array([[ 0.31476858, -0.46477678, -0.78620416, -0.48842612, -0.65373844,\n",
      "                     0.38925445,  0.3038055 ,  0.0417986 ],\n",
      "                   [-0.32982358,  1.1110363 ,  0.54909384, -0.81688154,  0.4005725 ,\n",
      "                    -0.86659867,  1.2087963 ,  1.0364621 ]], dtype=float32),\n",
      "            bias: Array([0., 0., 0., 0., 0., 0., 0., 0.], dtype=float32),\n",
      "        },\n",
      "        linear2: {\n",
      "            kernel: Array([[-0.2797181 ],\n",
      "                   [-0.74667746],\n",
      "                   [ 0.29791605],\n",
      "                   [-0.26267233],\n",
      "                   [-0.50843847],\n",
      "                   [ 0.04573093],\n",
      "                   [-0.4725701 ],\n",
      "                   [ 0.50458497]], dtype=float32),\n",
      "            bias: Array([0.], dtype=float32),\n",
      "        },\n",
      "    },\n",
      "})\n"
     ]
    }
   ],
   "source": [
    "rng, inp_rng, init_rng = jax.random.split(rng, 3)\n",
    "inp = jax.random.normal(inp_rng, (8, 2))  # Batch size 8, input size 2\n",
    "# Initialize the model\n",
    "params = model.init(init_rng, inp)\n",
    "print(params)"
   ]
  },
  {
   "cell_type": "markdown",
   "id": "8c8fbfc7",
   "metadata": {},
   "source": [
    "Now, we have parameters with which we can apply the network. We see that the parameters follow the same structure as defined in our module, and each linear layer contains one `kernel`, i.e. the weights, and a bias parameter. With this, we could apply the model on an input using the `apply` function:"
   ]
  },
  {
   "cell_type": "code",
   "execution_count": 38,
   "id": "bd41972d",
   "metadata": {},
   "outputs": [
    {
     "data": {
      "text/plain": [
       "Array([[-0.4836821 ],\n",
       "       [ 0.04365462],\n",
       "       [ 0.0666853 ],\n",
       "       [-0.34203655],\n",
       "       [ 0.48351482],\n",
       "       [ 0.37424877],\n",
       "       [ 0.14232653],\n",
       "       [-0.5916512 ]], dtype=float32)"
      ]
     },
     "execution_count": 38,
     "metadata": {},
     "output_type": "execute_result"
    }
   ],
   "source": [
    "model.apply(params, inp)"
   ]
  },
  {
   "cell_type": "markdown",
   "id": "e15dfa58",
   "metadata": {},
   "source": [
    "The model returns an output array of shape `[8,1]`, which corresponds to the one output neuron in the model for all 8 batch elements. With that, we now know how to initialize a model, and run a model. Next, let's look at the data."
   ]
  },
  {
   "cell_type": "markdown",
   "id": "aa45f48d",
   "metadata": {},
   "source": [
    "### The data\n",
    "\n",
    "As mentioned before, JAX is not meant to 'reinvent the wheel' for every part of the deep learning pipeline. Hence, JAX and Flax do not natively provide a data loading functionality, but instead refer to other available libraries like Tensorflow and PyTorch. Here, let's use again the package `torch.utils.data` library."
   ]
  },
  {
   "cell_type": "code",
   "execution_count": 39,
   "id": "50d8c7c8",
   "metadata": {},
   "outputs": [],
   "source": [
    "import torch.utils.data as data"
   ]
  },
  {
   "cell_type": "markdown",
   "id": "59d418ec",
   "metadata": {},
   "source": [
    "The data package defines two classes which are the standard interface for handling data in PyTorch: `data.Dataset`, and `data.DataLoader`. The dataset class provides an uniform interface to access the training/test data, while the data loader makes sure to efficiently load and stack the data points from the dataset into batches during training."
   ]
  },
  {
   "cell_type": "markdown",
   "id": "c28a204c",
   "metadata": {},
   "source": [
    "#### The dataset class\n",
    "\n",
    "The dataset class summarizes the basic functionality of a dataset in a natural way. To define a dataset in PyTorch, we simply specify two functions: `__getitem__`, and `__len__`. The get-item function has to return the $i$-th data point in the dataset, while the len function returns the size of the dataset. For the XOR dataset, we can define the dataset class as follows:"
   ]
  },
  {
   "cell_type": "code",
   "execution_count": 40,
   "id": "22c49212",
   "metadata": {},
   "outputs": [],
   "source": [
    "class XORDataset(data.Dataset):\n",
    "    def __init__(self, size, seed, std=0.1):\n",
    "        \"\"\"\n",
    "        Inputs:\n",
    "            size - Number of data points we want to generate\n",
    "            seed - The seed to use to create the PRNG state with which we want to generate the data points\n",
    "            std - Standard deviation of the noise (see generate_continuous_xor function)\n",
    "        \"\"\"\n",
    "        super().__init__()\n",
    "        self.size = size\n",
    "        self.np_rng = np.random.RandomState(seed=seed)\n",
    "        self.std = std\n",
    "        self.generate_continuous_xor()\n",
    "\n",
    "    def generate_continuous_xor(self):\n",
    "        # Each data point in the XOR dataset has two variables, x and y, that can be either 0 or 1\n",
    "        # The label is their XOR combination, i.e. 1 if only x or only y is 1 while the other is 0.\n",
    "        # If x=y, the label is 0.\n",
    "        data = self.np_rng.randint(low=0, high=2, size=(self.size, 2)).astype(\n",
    "            np.float32\n",
    "        )\n",
    "        label = (data.sum(axis=1) == 1).astype(np.int32)\n",
    "        # To make it slightly more challenging, we add a bit of gaussian noise to the data points.\n",
    "        data += self.np_rng.normal(loc=0.0, scale=self.std, size=data.shape)\n",
    "\n",
    "        self.data = data\n",
    "        self.label = label\n",
    "\n",
    "    def __len__(self):\n",
    "        # Number of data point we have. Alternatively self.data.shape[0], or self.label.shape[0]\n",
    "        return self.size\n",
    "\n",
    "    def __getitem__(self, idx):\n",
    "        # Return the idx-th data point of the dataset\n",
    "        # If we have multiple things to return (data point and label), we can return them as tuple\n",
    "        data_point = self.data[idx]\n",
    "        data_label = self.label[idx]\n",
    "        return data_point, data_label"
   ]
  },
  {
   "cell_type": "markdown",
   "id": "34a8769a",
   "metadata": {},
   "source": [
    "Note that in contrast to our [PyTorch tutorial](https://uvadlc-notebooks.readthedocs.io/en/latest/tutorial_notebooks/tutorial2/Introduction_to_PyTorch.html#The-data), we use NumPy to generate the random data. Similar to JAX, NumPy also allows the pseudo-number generation based on a PRNG state. Hence, for better reproducibility, we are doing the same here. Let's try to create such a dataset and inspect it:"
   ]
  },
  {
   "cell_type": "code",
   "execution_count": 41,
   "id": "de1d5448",
   "metadata": {},
   "outputs": [
    {
     "name": "stdout",
     "output_type": "stream",
     "text": [
      "Size of dataset: 200\n",
      "Data point 0: (array([-0.06800247,  1.0232254 ], dtype=float32), 1)\n"
     ]
    }
   ],
   "source": [
    "dataset = XORDataset(size=200, seed=42)\n",
    "print(\"Size of dataset:\", len(dataset))\n",
    "print(\"Data point 0:\", dataset[0])"
   ]
  },
  {
   "cell_type": "markdown",
   "id": "c49d37c0",
   "metadata": {},
   "source": [
    "To better relate to the dataset, we visualize the samples below. "
   ]
  },
  {
   "cell_type": "code",
   "execution_count": 42,
   "id": "4a133ca4",
   "metadata": {},
   "outputs": [],
   "source": [
    "def visualize_samples(data, label):\n",
    "    data_0 = data[label == 0]\n",
    "    data_1 = data[label == 1]\n",
    "\n",
    "    plt.figure(figsize=(4, 4))\n",
    "    plt.scatter(data_0[:, 0], data_0[:, 1], edgecolor=\"#333\", label=\"Class 0\")\n",
    "    plt.scatter(data_1[:, 0], data_1[:, 1], edgecolor=\"#333\", label=\"Class 1\")\n",
    "    plt.title(\"Dataset samples\")\n",
    "    plt.ylabel(r\"$x_2$\")\n",
    "    plt.xlabel(r\"$x_1$\")\n",
    "    plt.legend()"
   ]
  },
  {
   "cell_type": "code",
   "execution_count": 43,
   "id": "b6783615",
   "metadata": {},
   "outputs": [
    {
     "data": {
      "application/pdf": "[encoded data removed]",
      "image/svg+xml": "<?xml version=\"1.0\" encoding=\"utf-8\" standalone=\"no\"?>\n<!DOCTYPE svg PUBLIC \"-//W3C//DTD SVG 1.1//EN\"\n  \"http://www.w3.org/Graphics/SVG/1.1/DTD/svg11.dtd\">\n<svg xmlns:xlink=\"http://www.w3.org/1999/xlink\" width=\"289.424844pt\" height=\"287.037813pt\" viewBox=\"0 0 289.424844 287.037813\" xmlns=\"http://www.w3.org/2000/svg\" version=\"1.1\">\n <metadata>\n  <rdf:RDF xmlns:dc=\"http://purl.org/dc/elements/1.1/\" xmlns:cc=\"http://creativecommons.org/ns#\" xmlns:rdf=\"http://www.w3.org/1999/02/22-rdf-syntax-ns#\">\n   <cc:Work>\n    <dc:type rdf:resource=\"http://purl.org/dc/dcmitype/StillImage\"/>\n    <dc:date>2023-03-30T01:19:21.529273</dc:date>\n    <dc:format>image/svg+xml</dc:format>\n    <dc:creator>\n     <cc:Agent>\n      <dc:title>Matplotlib v3.7.0, https://matplotlib.org/</dc:title>\n     </cc:Agent>\n    </dc:creator>\n   </cc:Work>\n  </rdf:RDF>\n </metadata>\n <defs>\n  <style type=\"text/css\">*{stroke-linejoin: round; stroke-linecap: butt}</style>\n </defs>\n <g id=\"figure_1\">\n  <g id=\"patch_1\">\n   <path d=\"M 0 287.037813 \nL 289.424844 287.037813 \nL 289.424844 0 \nL 0 0 \nz\n\" style=\"fill: #ffffff\"/>\n  </g>\n  <g id=\"axes_1\">\n   <g id=\"patch_2\">\n    <path d=\"M 59.024844 244.078125 \nL 282.224844 244.078125 \nL 282.224844 22.318125 \nL 59.024844 22.318125 \nz\n\" style=\"fill: #eaeaf2\"/>\n   </g>\n   <g id=\"matplotlib.axis_1\">\n    <g id=\"xtick_1\">\n     <g id=\"line2d_1\">\n      <path d=\"M 98.338694 244.078125 \nL 98.338694 22.318125 \n\" clip-path=\"url(#p5edf745eb3)\" style=\"fill: none; stroke: #ffffff; stroke-linecap: round\"/>\n     </g>\n     <g id=\"text_1\">\n      <!-- 0.0 -->\n      <g style=\"fill: #262626\" transform=\"translate(89.591975 261.936406) scale(0.11 -0.11)\">\n       <defs>\n        <path id=\"DejaVuSans-30\" d=\"M 2034 4250 \nQ 1547 4250 1301 3770 \nQ 1056 3291 1056 2328 \nQ 1056 1369 1301 889 \nQ 1547 409 2034 409 \nQ 2525 409 2770 889 \nQ 3016 1369 3016 2328 \nQ 3016 3291 2770 3770 \nQ 2525 4250 2034 4250 \nz\nM 2034 4750 \nQ 2819 4750 3233 4129 \nQ 3647 3509 3647 2328 \nQ 3647 1150 3233 529 \nQ 2819 -91 2034 -91 \nQ 1250 -91 836 529 \nQ 422 1150 422 2328 \nQ 422 3509 836 4129 \nQ 1250 4750 2034 4750 \nz\n\" transform=\"scale(0.015625)\"/>\n        <path id=\"DejaVuSans-2e\" d=\"M 684 794 \nL 1344 794 \nL 1344 0 \nL 684 0 \nL 684 794 \nz\n\" transform=\"scale(0.015625)\"/>\n       </defs>\n       <use xlink:href=\"#DejaVuSans-30\"/>\n       <use xlink:href=\"#DejaVuSans-2e\" x=\"63.623047\"/>\n       <use xlink:href=\"#DejaVuSans-30\" x=\"95.410156\"/>\n      </g>\n     </g>\n    </g>\n    <g id=\"xtick_2\">\n     <g id=\"line2d_2\">\n      <path d=\"M 168.880926 244.078125 \nL 168.880926 22.318125 \n\" clip-path=\"url(#p5edf745eb3)\" style=\"fill: none; stroke: #ffffff; stroke-linecap: round\"/>\n     </g>\n     <g id=\"text_2\">\n      <!-- 0.5 -->\n      <g style=\"fill: #262626\" transform=\"translate(160.134208 261.936406) scale(0.11 -0.11)\">\n       <defs>\n        <path id=\"DejaVuSans-35\" d=\"M 691 4666 \nL 3169 4666 \nL 3169 4134 \nL 1269 4134 \nL 1269 2991 \nQ 1406 3038 1543 3061 \nQ 1681 3084 1819 3084 \nQ 2600 3084 3056 2656 \nQ 3513 2228 3513 1497 \nQ 3513 744 3044 326 \nQ 2575 -91 1722 -91 \nQ 1428 -91 1123 -41 \nQ 819 9 494 109 \nL 494 744 \nQ 775 591 1075 516 \nQ 1375 441 1709 441 \nQ 2250 441 2565 725 \nQ 2881 1009 2881 1497 \nQ 2881 1984 2565 2268 \nQ 2250 2553 1709 2553 \nQ 1456 2553 1204 2497 \nQ 953 2441 691 2322 \nL 691 4666 \nz\n\" transform=\"scale(0.015625)\"/>\n       </defs>\n       <use xlink:href=\"#DejaVuSans-30\"/>\n       <use xlink:href=\"#DejaVuSans-2e\" x=\"63.623047\"/>\n       <use xlink:href=\"#DejaVuSans-35\" x=\"95.410156\"/>\n      </g>\n     </g>\n    </g>\n    <g id=\"xtick_3\">\n     <g id=\"line2d_3\">\n      <path d=\"M 239.423158 244.078125 \nL 239.423158 22.318125 \n\" clip-path=\"url(#p5edf745eb3)\" style=\"fill: none; stroke: #ffffff; stroke-linecap: round\"/>\n     </g>\n     <g id=\"text_3\">\n      <!-- 1.0 -->\n      <g style=\"fill: #262626\" transform=\"translate(230.67644 261.936406) scale(0.11 -0.11)\">\n       <defs>\n        <path id=\"DejaVuSans-31\" d=\"M 794 531 \nL 1825 531 \nL 1825 4091 \nL 703 3866 \nL 703 4441 \nL 1819 4666 \nL 2450 4666 \nL 2450 531 \nL 3481 531 \nL 3481 0 \nL 794 0 \nL 794 531 \nz\n\" transform=\"scale(0.015625)\"/>\n       </defs>\n       <use xlink:href=\"#DejaVuSans-31\"/>\n       <use xlink:href=\"#DejaVuSans-2e\" x=\"63.623047\"/>\n       <use xlink:href=\"#DejaVuSans-30\" x=\"95.410156\"/>\n      </g>\n     </g>\n    </g>\n    <g id=\"text_4\">\n     <!-- $x_1$ -->\n     <g style=\"fill: #262626\" transform=\"translate(164.204844 277.342188) scale(0.12 -0.12)\">\n      <defs>\n       <path id=\"DejaVuSans-Oblique-78\" d=\"M 3841 3500 \nL 2234 1784 \nL 3219 0 \nL 2559 0 \nL 1819 1388 \nL 531 0 \nL -166 0 \nL 1556 1844 \nL 641 3500 \nL 1300 3500 \nL 1972 2234 \nL 3144 3500 \nL 3841 3500 \nz\n\" transform=\"scale(0.015625)\"/>\n      </defs>\n      <use xlink:href=\"#DejaVuSans-Oblique-78\" transform=\"translate(0 0.3125)\"/>\n      <use xlink:href=\"#DejaVuSans-31\" transform=\"translate(59.179688 -16.09375) scale(0.7)\"/>\n     </g>\n    </g>\n   </g>\n   <g id=\"matplotlib.axis_2\">\n    <g id=\"ytick_1\">\n     <g id=\"line2d_4\">\n      <path d=\"M 59.024844 234.65645 \nL 282.224844 234.65645 \n\" clip-path=\"url(#p5edf745eb3)\" style=\"fill: none; stroke: #ffffff; stroke-linecap: round\"/>\n     </g>\n     <g id=\"text_5\">\n      <!-- −0.2 -->\n      <g style=\"fill: #262626\" transform=\"translate(22.81375 238.835591) scale(0.11 -0.11)\">\n       <defs>\n        <path id=\"DejaVuSans-2212\" d=\"M 678 2272 \nL 4684 2272 \nL 4684 1741 \nL 678 1741 \nL 678 2272 \nz\n\" transform=\"scale(0.015625)\"/>\n        <path id=\"DejaVuSans-32\" d=\"M 1228 531 \nL 3431 531 \nL 3431 0 \nL 469 0 \nL 469 531 \nQ 828 903 1448 1529 \nQ 2069 2156 2228 2338 \nQ 2531 2678 2651 2914 \nQ 2772 3150 2772 3378 \nQ 2772 3750 2511 3984 \nQ 2250 4219 1831 4219 \nQ 1534 4219 1204 4116 \nQ 875 4013 500 3803 \nL 500 4441 \nQ 881 4594 1212 4672 \nQ 1544 4750 1819 4750 \nQ 2544 4750 2975 4387 \nQ 3406 4025 3406 3419 \nQ 3406 3131 3298 2873 \nQ 3191 2616 2906 2266 \nQ 2828 2175 2409 1742 \nQ 1991 1309 1228 531 \nz\n\" transform=\"scale(0.015625)\"/>\n       </defs>\n       <use xlink:href=\"#DejaVuSans-2212\"/>\n       <use xlink:href=\"#DejaVuSans-30\" x=\"83.789062\"/>\n       <use xlink:href=\"#DejaVuSans-2e\" x=\"147.412109\"/>\n       <use xlink:href=\"#DejaVuSans-32\" x=\"179.199219\"/>\n      </g>\n     </g>\n    </g>\n    <g id=\"ytick_2\">\n     <g id=\"line2d_5\">\n      <path d=\"M 59.024844 207.176015 \nL 282.224844 207.176015 \n\" clip-path=\"url(#p5edf745eb3)\" style=\"fill: none; stroke: #ffffff; stroke-linecap: round\"/>\n     </g>\n     <g id=\"text_6\">\n      <!-- 0.0 -->\n      <g style=\"fill: #262626\" transform=\"translate(32.031406 211.355155) scale(0.11 -0.11)\">\n       <use xlink:href=\"#DejaVuSans-30\"/>\n       <use xlink:href=\"#DejaVuSans-2e\" x=\"63.623047\"/>\n       <use xlink:href=\"#DejaVuSans-30\" x=\"95.410156\"/>\n      </g>\n     </g>\n    </g>\n    <g id=\"ytick_3\">\n     <g id=\"line2d_6\">\n      <path d=\"M 59.024844 179.695579 \nL 282.224844 179.695579 \n\" clip-path=\"url(#p5edf745eb3)\" style=\"fill: none; stroke: #ffffff; stroke-linecap: round\"/>\n     </g>\n     <g id=\"text_7\">\n      <!-- 0.2 -->\n      <g style=\"fill: #262626\" transform=\"translate(32.031406 183.87472) scale(0.11 -0.11)\">\n       <use xlink:href=\"#DejaVuSans-30\"/>\n       <use xlink:href=\"#DejaVuSans-2e\" x=\"63.623047\"/>\n       <use xlink:href=\"#DejaVuSans-32\" x=\"95.410156\"/>\n      </g>\n     </g>\n    </g>\n    <g id=\"ytick_4\">\n     <g id=\"line2d_7\">\n      <path d=\"M 59.024844 152.215144 \nL 282.224844 152.215144 \n\" clip-path=\"url(#p5edf745eb3)\" style=\"fill: none; stroke: #ffffff; stroke-linecap: round\"/>\n     </g>\n     <g id=\"text_8\">\n      <!-- 0.4 -->\n      <g style=\"fill: #262626\" transform=\"translate(32.031406 156.394284) scale(0.11 -0.11)\">\n       <defs>\n        <path id=\"DejaVuSans-34\" d=\"M 2419 4116 \nL 825 1625 \nL 2419 1625 \nL 2419 4116 \nz\nM 2253 4666 \nL 3047 4666 \nL 3047 1625 \nL 3713 1625 \nL 3713 1100 \nL 3047 1100 \nL 3047 0 \nL 2419 0 \nL 2419 1100 \nL 313 1100 \nL 313 1709 \nL 2253 4666 \nz\n\" transform=\"scale(0.015625)\"/>\n       </defs>\n       <use xlink:href=\"#DejaVuSans-30\"/>\n       <use xlink:href=\"#DejaVuSans-2e\" x=\"63.623047\"/>\n       <use xlink:href=\"#DejaVuSans-34\" x=\"95.410156\"/>\n      </g>\n     </g>\n    </g>\n    <g id=\"ytick_5\">\n     <g id=\"line2d_8\">\n      <path d=\"M 59.024844 124.734708 \nL 282.224844 124.734708 \n\" clip-path=\"url(#p5edf745eb3)\" style=\"fill: none; stroke: #ffffff; stroke-linecap: round\"/>\n     </g>\n     <g id=\"text_9\">\n      <!-- 0.6 -->\n      <g style=\"fill: #262626\" transform=\"translate(32.031406 128.913849) scale(0.11 -0.11)\">\n       <defs>\n        <path id=\"DejaVuSans-36\" d=\"M 2113 2584 \nQ 1688 2584 1439 2293 \nQ 1191 2003 1191 1497 \nQ 1191 994 1439 701 \nQ 1688 409 2113 409 \nQ 2538 409 2786 701 \nQ 3034 994 3034 1497 \nQ 3034 2003 2786 2293 \nQ 2538 2584 2113 2584 \nz\nM 3366 4563 \nL 3366 3988 \nQ 3128 4100 2886 4159 \nQ 2644 4219 2406 4219 \nQ 1781 4219 1451 3797 \nQ 1122 3375 1075 2522 \nQ 1259 2794 1537 2939 \nQ 1816 3084 2150 3084 \nQ 2853 3084 3261 2657 \nQ 3669 2231 3669 1497 \nQ 3669 778 3244 343 \nQ 2819 -91 2113 -91 \nQ 1303 -91 875 529 \nQ 447 1150 447 2328 \nQ 447 3434 972 4092 \nQ 1497 4750 2381 4750 \nQ 2619 4750 2861 4703 \nQ 3103 4656 3366 4563 \nz\n\" transform=\"scale(0.015625)\"/>\n       </defs>\n       <use xlink:href=\"#DejaVuSans-30\"/>\n       <use xlink:href=\"#DejaVuSans-2e\" x=\"63.623047\"/>\n       <use xlink:href=\"#DejaVuSans-36\" x=\"95.410156\"/>\n      </g>\n     </g>\n    </g>\n    <g id=\"ytick_6\">\n     <g id=\"line2d_9\">\n      <path d=\"M 59.024844 97.254273 \nL 282.224844 97.254273 \n\" clip-path=\"url(#p5edf745eb3)\" style=\"fill: none; stroke: #ffffff; stroke-linecap: round\"/>\n     </g>\n     <g id=\"text_10\">\n      <!-- 0.8 -->\n      <g style=\"fill: #262626\" transform=\"translate(32.031406 101.433413) scale(0.11 -0.11)\">\n       <defs>\n        <path id=\"DejaVuSans-38\" d=\"M 2034 2216 \nQ 1584 2216 1326 1975 \nQ 1069 1734 1069 1313 \nQ 1069 891 1326 650 \nQ 1584 409 2034 409 \nQ 2484 409 2743 651 \nQ 3003 894 3003 1313 \nQ 3003 1734 2745 1975 \nQ 2488 2216 2034 2216 \nz\nM 1403 2484 \nQ 997 2584 770 2862 \nQ 544 3141 544 3541 \nQ 544 4100 942 4425 \nQ 1341 4750 2034 4750 \nQ 2731 4750 3128 4425 \nQ 3525 4100 3525 3541 \nQ 3525 3141 3298 2862 \nQ 3072 2584 2669 2484 \nQ 3125 2378 3379 2068 \nQ 3634 1759 3634 1313 \nQ 3634 634 3220 271 \nQ 2806 -91 2034 -91 \nQ 1263 -91 848 271 \nQ 434 634 434 1313 \nQ 434 1759 690 2068 \nQ 947 2378 1403 2484 \nz\nM 1172 3481 \nQ 1172 3119 1398 2916 \nQ 1625 2713 2034 2713 \nQ 2441 2713 2670 2916 \nQ 2900 3119 2900 3481 \nQ 2900 3844 2670 4047 \nQ 2441 4250 2034 4250 \nQ 1625 4250 1398 4047 \nQ 1172 3844 1172 3481 \nz\n\" transform=\"scale(0.015625)\"/>\n       </defs>\n       <use xlink:href=\"#DejaVuSans-30\"/>\n       <use xlink:href=\"#DejaVuSans-2e\" x=\"63.623047\"/>\n       <use xlink:href=\"#DejaVuSans-38\" x=\"95.410156\"/>\n      </g>\n     </g>\n    </g>\n    <g id=\"ytick_7\">\n     <g id=\"line2d_10\">\n      <path d=\"M 59.024844 69.773837 \nL 282.224844 69.773837 \n\" clip-path=\"url(#p5edf745eb3)\" style=\"fill: none; stroke: #ffffff; stroke-linecap: round\"/>\n     </g>\n     <g id=\"text_11\">\n      <!-- 1.0 -->\n      <g style=\"fill: #262626\" transform=\"translate(32.031406 73.952978) scale(0.11 -0.11)\">\n       <use xlink:href=\"#DejaVuSans-31\"/>\n       <use xlink:href=\"#DejaVuSans-2e\" x=\"63.623047\"/>\n       <use xlink:href=\"#DejaVuSans-30\" x=\"95.410156\"/>\n      </g>\n     </g>\n    </g>\n    <g id=\"ytick_8\">\n     <g id=\"line2d_11\">\n      <path d=\"M 59.024844 42.293402 \nL 282.224844 42.293402 \n\" clip-path=\"url(#p5edf745eb3)\" style=\"fill: none; stroke: #ffffff; stroke-linecap: round\"/>\n     </g>\n     <g id=\"text_12\">\n      <!-- 1.2 -->\n      <g style=\"fill: #262626\" transform=\"translate(32.031406 46.472542) scale(0.11 -0.11)\">\n       <use xlink:href=\"#DejaVuSans-31\"/>\n       <use xlink:href=\"#DejaVuSans-2e\" x=\"63.623047\"/>\n       <use xlink:href=\"#DejaVuSans-32\" x=\"95.410156\"/>\n      </g>\n     </g>\n    </g>\n    <g id=\"text_13\">\n     <!-- $x_2$ -->\n     <g style=\"fill: #262626\" transform=\"translate(16.318125 139.618125) rotate(-90) scale(0.12 -0.12)\">\n      <use xlink:href=\"#DejaVuSans-Oblique-78\" transform=\"translate(0 0.3125)\"/>\n      <use xlink:href=\"#DejaVuSans-32\" transform=\"translate(59.179688 -16.09375) scale(0.7)\"/>\n     </g>\n    </g>\n   </g>\n   <g id=\"PathCollection_1\">\n    <defs>\n     <path id=\"med3dcc21c7\" d=\"M 0 3 \nC 0.795609 3 1.55874 2.683901 2.12132 2.12132 \nC 2.683901 1.55874 3 0.795609 3 0 \nC 3 -0.795609 2.683901 -1.55874 2.12132 -2.12132 \nC 1.55874 -2.683901 0.795609 -3 0 -3 \nC -0.795609 -3 -1.55874 -2.683901 -2.12132 -2.12132 \nC -2.683901 -1.55874 -3 -0.795609 -3 0 \nC -3 0.795609 -2.683901 1.55874 -2.12132 2.12132 \nC -1.55874 2.683901 -0.795609 3 0 3 \nz\n\" style=\"stroke: #333333\"/>\n    </defs>\n    <g clip-path=\"url(#p5edf745eb3)\">\n     <use xlink:href=\"#med3dcc21c7\" x=\"102.473492\" y=\"216.991358\" style=\"fill: #4c72b0; stroke: #333333\"/>\n     <use xlink:href=\"#med3dcc21c7\" x=\"81.531253\" y=\"198.154825\" style=\"fill: #4c72b0; stroke: #333333\"/>\n     <use xlink:href=\"#med3dcc21c7\" x=\"114.684678\" y=\"218.452369\" style=\"fill: #4c72b0; stroke: #333333\"/>\n     <use xlink:href=\"#med3dcc21c7\" x=\"111.930435\" y=\"201.504315\" style=\"fill: #4c72b0; stroke: #333333\"/>\n     <use xlink:href=\"#med3dcc21c7\" x=\"235.961113\" y=\"80.130332\" style=\"fill: #4c72b0; stroke: #333333\"/>\n     <use xlink:href=\"#med3dcc21c7\" x=\"243.326835\" y=\"58.408153\" style=\"fill: #4c72b0; stroke: #333333\"/>\n     <use xlink:href=\"#med3dcc21c7\" x=\"239.606599\" y=\"49.801958\" style=\"fill: #4c72b0; stroke: #333333\"/>\n     <use xlink:href=\"#med3dcc21c7\" x=\"235.689266\" y=\"32.398125\" style=\"fill: #4c72b0; stroke: #333333\"/>\n     <use xlink:href=\"#med3dcc21c7\" x=\"248.250356\" y=\"81.551371\" style=\"fill: #4c72b0; stroke: #333333\"/>\n     <use xlink:href=\"#med3dcc21c7\" x=\"83.230065\" y=\"200.546739\" style=\"fill: #4c72b0; stroke: #333333\"/>\n     <use xlink:href=\"#med3dcc21c7\" x=\"236.270449\" y=\"59.963315\" style=\"fill: #4c72b0; stroke: #333333\"/>\n     <use xlink:href=\"#med3dcc21c7\" x=\"92.039062\" y=\"195.408909\" style=\"fill: #4c72b0; stroke: #333333\"/>\n     <use xlink:href=\"#med3dcc21c7\" x=\"101.359224\" y=\"224.292737\" style=\"fill: #4c72b0; stroke: #333333\"/>\n     <use xlink:href=\"#med3dcc21c7\" x=\"241.866478\" y=\"64.479487\" style=\"fill: #4c72b0; stroke: #333333\"/>\n     <use xlink:href=\"#med3dcc21c7\" x=\"226.953301\" y=\"67.66162\" style=\"fill: #4c72b0; stroke: #333333\"/>\n     <use xlink:href=\"#med3dcc21c7\" x=\"244.470986\" y=\"62.068538\" style=\"fill: #4c72b0; stroke: #333333\"/>\n     <use xlink:href=\"#med3dcc21c7\" x=\"106.393072\" y=\"191.573095\" style=\"fill: #4c72b0; stroke: #333333\"/>\n     <use xlink:href=\"#med3dcc21c7\" x=\"111.798177\" y=\"198.225757\" style=\"fill: #4c72b0; stroke: #333333\"/>\n     <use xlink:href=\"#med3dcc21c7\" x=\"93.890735\" y=\"196.747613\" style=\"fill: #4c72b0; stroke: #333333\"/>\n     <use xlink:href=\"#med3dcc21c7\" x=\"272.079389\" y=\"95.430466\" style=\"fill: #4c72b0; stroke: #333333\"/>\n     <use xlink:href=\"#med3dcc21c7\" x=\"249.105227\" y=\"91.932902\" style=\"fill: #4c72b0; stroke: #333333\"/>\n     <use xlink:href=\"#med3dcc21c7\" x=\"229.331339\" y=\"60.436015\" style=\"fill: #4c72b0; stroke: #333333\"/>\n     <use xlink:href=\"#med3dcc21c7\" x=\"69.767078\" y=\"204.614092\" style=\"fill: #4c72b0; stroke: #333333\"/>\n     <use xlink:href=\"#med3dcc21c7\" x=\"228.241923\" y=\"71.350342\" style=\"fill: #4c72b0; stroke: #333333\"/>\n     <use xlink:href=\"#med3dcc21c7\" x=\"246.547744\" y=\"57.878174\" style=\"fill: #4c72b0; stroke: #333333\"/>\n     <use xlink:href=\"#med3dcc21c7\" x=\"222.488843\" y=\"74.369957\" style=\"fill: #4c72b0; stroke: #333333\"/>\n     <use xlink:href=\"#med3dcc21c7\" x=\"232.722418\" y=\"78.750727\" style=\"fill: #4c72b0; stroke: #333333\"/>\n     <use xlink:href=\"#med3dcc21c7\" x=\"264.330969\" y=\"64.209305\" style=\"fill: #4c72b0; stroke: #333333\"/>\n     <use xlink:href=\"#med3dcc21c7\" x=\"217.987207\" y=\"76.427319\" style=\"fill: #4c72b0; stroke: #333333\"/>\n     <use xlink:href=\"#med3dcc21c7\" x=\"257.297305\" y=\"79.497367\" style=\"fill: #4c72b0; stroke: #333333\"/>\n     <use xlink:href=\"#med3dcc21c7\" x=\"245.684766\" y=\"59.130199\" style=\"fill: #4c72b0; stroke: #333333\"/>\n     <use xlink:href=\"#med3dcc21c7\" x=\"235.859815\" y=\"86.918651\" style=\"fill: #4c72b0; stroke: #333333\"/>\n     <use xlink:href=\"#med3dcc21c7\" x=\"241.024708\" y=\"60.676025\" style=\"fill: #4c72b0; stroke: #333333\"/>\n     <use xlink:href=\"#med3dcc21c7\" x=\"128.432482\" y=\"233.998125\" style=\"fill: #4c72b0; stroke: #333333\"/>\n     <use xlink:href=\"#med3dcc21c7\" x=\"96.197242\" y=\"199.092408\" style=\"fill: #4c72b0; stroke: #333333\"/>\n     <use xlink:href=\"#med3dcc21c7\" x=\"102.303053\" y=\"215.732042\" style=\"fill: #4c72b0; stroke: #333333\"/>\n     <use xlink:href=\"#med3dcc21c7\" x=\"95.402413\" y=\"213.949955\" style=\"fill: #4c72b0; stroke: #333333\"/>\n     <use xlink:href=\"#med3dcc21c7\" x=\"244.460087\" y=\"79.294563\" style=\"fill: #4c72b0; stroke: #333333\"/>\n     <use xlink:href=\"#med3dcc21c7\" x=\"109.806916\" y=\"198.524777\" style=\"fill: #4c72b0; stroke: #333333\"/>\n     <use xlink:href=\"#med3dcc21c7\" x=\"108.881846\" y=\"198.789394\" style=\"fill: #4c72b0; stroke: #333333\"/>\n     <use xlink:href=\"#med3dcc21c7\" x=\"98.043805\" y=\"205.563911\" style=\"fill: #4c72b0; stroke: #333333\"/>\n     <use xlink:href=\"#med3dcc21c7\" x=\"109.984037\" y=\"195.998214\" style=\"fill: #4c72b0; stroke: #333333\"/>\n     <use xlink:href=\"#med3dcc21c7\" x=\"257.841436\" y=\"69.485245\" style=\"fill: #4c72b0; stroke: #333333\"/>\n     <use xlink:href=\"#med3dcc21c7\" x=\"255.762307\" y=\"58.896216\" style=\"fill: #4c72b0; stroke: #333333\"/>\n     <use xlink:href=\"#med3dcc21c7\" x=\"107.144055\" y=\"198.54241\" style=\"fill: #4c72b0; stroke: #333333\"/>\n     <use xlink:href=\"#med3dcc21c7\" x=\"98.165911\" y=\"219.504485\" style=\"fill: #4c72b0; stroke: #333333\"/>\n     <use xlink:href=\"#med3dcc21c7\" x=\"99.408179\" y=\"216.480364\" style=\"fill: #4c72b0; stroke: #333333\"/>\n     <use xlink:href=\"#med3dcc21c7\" x=\"86.692211\" y=\"211.591926\" style=\"fill: #4c72b0; stroke: #333333\"/>\n     <use xlink:href=\"#med3dcc21c7\" x=\"101.794792\" y=\"214.141524\" style=\"fill: #4c72b0; stroke: #333333\"/>\n     <use xlink:href=\"#med3dcc21c7\" x=\"91.693076\" y=\"203.987598\" style=\"fill: #4c72b0; stroke: #333333\"/>\n     <use xlink:href=\"#med3dcc21c7\" x=\"229.28703\" y=\"72.706648\" style=\"fill: #4c72b0; stroke: #333333\"/>\n     <use xlink:href=\"#med3dcc21c7\" x=\"102.725117\" y=\"186.904299\" style=\"fill: #4c72b0; stroke: #333333\"/>\n     <use xlink:href=\"#med3dcc21c7\" x=\"98.070405\" y=\"220.950986\" style=\"fill: #4c72b0; stroke: #333333\"/>\n     <use xlink:href=\"#med3dcc21c7\" x=\"243.976217\" y=\"81.140168\" style=\"fill: #4c72b0; stroke: #333333\"/>\n     <use xlink:href=\"#med3dcc21c7\" x=\"96.804258\" y=\"201.656408\" style=\"fill: #4c72b0; stroke: #333333\"/>\n     <use xlink:href=\"#med3dcc21c7\" x=\"108.075554\" y=\"212.688871\" style=\"fill: #4c72b0; stroke: #333333\"/>\n     <use xlink:href=\"#med3dcc21c7\" x=\"101.500291\" y=\"207.002992\" style=\"fill: #4c72b0; stroke: #333333\"/>\n     <use xlink:href=\"#med3dcc21c7\" x=\"118.812076\" y=\"193.995425\" style=\"fill: #4c72b0; stroke: #333333\"/>\n     <use xlink:href=\"#med3dcc21c7\" x=\"269.801212\" y=\"80.317363\" style=\"fill: #4c72b0; stroke: #333333\"/>\n     <use xlink:href=\"#med3dcc21c7\" x=\"251.730254\" y=\"67.254685\" style=\"fill: #4c72b0; stroke: #333333\"/>\n     <use xlink:href=\"#med3dcc21c7\" x=\"86.491523\" y=\"215.4118\" style=\"fill: #4c72b0; stroke: #333333\"/>\n     <use xlink:href=\"#med3dcc21c7\" x=\"209.458287\" y=\"76.997829\" style=\"fill: #4c72b0; stroke: #333333\"/>\n     <use xlink:href=\"#med3dcc21c7\" x=\"228.712978\" y=\"67.707401\" style=\"fill: #4c72b0; stroke: #333333\"/>\n     <use xlink:href=\"#med3dcc21c7\" x=\"244.24481\" y=\"43.994844\" style=\"fill: #4c72b0; stroke: #333333\"/>\n     <use xlink:href=\"#med3dcc21c7\" x=\"252.832157\" y=\"77.700621\" style=\"fill: #4c72b0; stroke: #333333\"/>\n     <use xlink:href=\"#med3dcc21c7\" x=\"96.722715\" y=\"190.168149\" style=\"fill: #4c72b0; stroke: #333333\"/>\n     <use xlink:href=\"#med3dcc21c7\" x=\"75.843797\" y=\"215.411558\" style=\"fill: #4c72b0; stroke: #333333\"/>\n     <use xlink:href=\"#med3dcc21c7\" x=\"83.276228\" y=\"209.13234\" style=\"fill: #4c72b0; stroke: #333333\"/>\n     <use xlink:href=\"#med3dcc21c7\" x=\"103.027129\" y=\"217.460382\" style=\"fill: #4c72b0; stroke: #333333\"/>\n     <use xlink:href=\"#med3dcc21c7\" x=\"256.061207\" y=\"68.846112\" style=\"fill: #4c72b0; stroke: #333333\"/>\n     <use xlink:href=\"#med3dcc21c7\" x=\"127.412645\" y=\"183.057249\" style=\"fill: #4c72b0; stroke: #333333\"/>\n     <use xlink:href=\"#med3dcc21c7\" x=\"235.910657\" y=\"56.424237\" style=\"fill: #4c72b0; stroke: #333333\"/>\n     <use xlink:href=\"#med3dcc21c7\" x=\"248.528417\" y=\"50.968547\" style=\"fill: #4c72b0; stroke: #333333\"/>\n     <use xlink:href=\"#med3dcc21c7\" x=\"235.622244\" y=\"59.914651\" style=\"fill: #4c72b0; stroke: #333333\"/>\n     <use xlink:href=\"#med3dcc21c7\" x=\"74.306614\" y=\"207.939252\" style=\"fill: #4c72b0; stroke: #333333\"/>\n     <use xlink:href=\"#med3dcc21c7\" x=\"69.170298\" y=\"208.400543\" style=\"fill: #4c72b0; stroke: #333333\"/>\n     <use xlink:href=\"#med3dcc21c7\" x=\"244.595292\" y=\"82.687993\" style=\"fill: #4c72b0; stroke: #333333\"/>\n     <use xlink:href=\"#med3dcc21c7\" x=\"84.431631\" y=\"200.250305\" style=\"fill: #4c72b0; stroke: #333333\"/>\n     <use xlink:href=\"#med3dcc21c7\" x=\"231.61203\" y=\"86.232943\" style=\"fill: #4c72b0; stroke: #333333\"/>\n     <use xlink:href=\"#med3dcc21c7\" x=\"267.14238\" y=\"69.289312\" style=\"fill: #4c72b0; stroke: #333333\"/>\n     <use xlink:href=\"#med3dcc21c7\" x=\"90.854147\" y=\"215.087882\" style=\"fill: #4c72b0; stroke: #333333\"/>\n     <use xlink:href=\"#med3dcc21c7\" x=\"262.631098\" y=\"73.195645\" style=\"fill: #4c72b0; stroke: #333333\"/>\n     <use xlink:href=\"#med3dcc21c7\" x=\"247.557481\" y=\"65.497185\" style=\"fill: #4c72b0; stroke: #333333\"/>\n     <use xlink:href=\"#med3dcc21c7\" x=\"141.776921\" y=\"191.792812\" style=\"fill: #4c72b0; stroke: #333333\"/>\n     <use xlink:href=\"#med3dcc21c7\" x=\"237.618441\" y=\"82.903172\" style=\"fill: #4c72b0; stroke: #333333\"/>\n     <use xlink:href=\"#med3dcc21c7\" x=\"75.674232\" y=\"204.38038\" style=\"fill: #4c72b0; stroke: #333333\"/>\n     <use xlink:href=\"#med3dcc21c7\" x=\"230.301022\" y=\"84.634538\" style=\"fill: #4c72b0; stroke: #333333\"/>\n     <use xlink:href=\"#med3dcc21c7\" x=\"122.141642\" y=\"195.062092\" style=\"fill: #4c72b0; stroke: #333333\"/>\n     <use xlink:href=\"#med3dcc21c7\" x=\"239.310676\" y=\"49.439084\" style=\"fill: #4c72b0; stroke: #333333\"/>\n     <use xlink:href=\"#med3dcc21c7\" x=\"83.704763\" y=\"209.791309\" style=\"fill: #4c72b0; stroke: #333333\"/>\n     <use xlink:href=\"#med3dcc21c7\" x=\"240.107725\" y=\"81.191273\" style=\"fill: #4c72b0; stroke: #333333\"/>\n     <use xlink:href=\"#med3dcc21c7\" x=\"102.15442\" y=\"207.866297\" style=\"fill: #4c72b0; stroke: #333333\"/>\n     <use xlink:href=\"#med3dcc21c7\" x=\"105.405857\" y=\"220.607836\" style=\"fill: #4c72b0; stroke: #333333\"/>\n     <use xlink:href=\"#med3dcc21c7\" x=\"240.824583\" y=\"59.449618\" style=\"fill: #4c72b0; stroke: #333333\"/>\n     <use xlink:href=\"#med3dcc21c7\" x=\"74.78598\" y=\"199.710127\" style=\"fill: #4c72b0; stroke: #333333\"/>\n     <use xlink:href=\"#med3dcc21c7\" x=\"230.074568\" y=\"61.933685\" style=\"fill: #4c72b0; stroke: #333333\"/>\n     <use xlink:href=\"#med3dcc21c7\" x=\"228.654761\" y=\"94.573313\" style=\"fill: #4c72b0; stroke: #333333\"/>\n     <use xlink:href=\"#med3dcc21c7\" x=\"238.490871\" y=\"86.413463\" style=\"fill: #4c72b0; stroke: #333333\"/>\n     <use xlink:href=\"#med3dcc21c7\" x=\"112.535922\" y=\"215.102634\" style=\"fill: #4c72b0; stroke: #333333\"/>\n     <use xlink:href=\"#med3dcc21c7\" x=\"110.129012\" y=\"222.698433\" style=\"fill: #4c72b0; stroke: #333333\"/>\n     <use xlink:href=\"#med3dcc21c7\" x=\"105.813408\" y=\"187.368548\" style=\"fill: #4c72b0; stroke: #333333\"/>\n     <use xlink:href=\"#med3dcc21c7\" x=\"204.552098\" y=\"80.723348\" style=\"fill: #4c72b0; stroke: #333333\"/>\n     <use xlink:href=\"#med3dcc21c7\" x=\"244.659455\" y=\"78.072725\" style=\"fill: #4c72b0; stroke: #333333\"/>\n    </g>\n   </g>\n   <g id=\"PathCollection_2\">\n    <defs>\n     <path id=\"mede17c4b47\" d=\"M 0 3 \nC 0.795609 3 1.55874 2.683901 2.12132 2.12132 \nC 2.683901 1.55874 3 0.795609 3 0 \nC 3 -0.795609 2.683901 -1.55874 2.12132 -2.12132 \nC 1.55874 -2.683901 0.795609 -3 0 -3 \nC -0.795609 -3 -1.55874 -2.683901 -2.12132 -2.12132 \nC -2.683901 -1.55874 -3 -0.795609 -3 0 \nC -3 0.795609 -2.683901 1.55874 -2.12132 2.12132 \nC -1.55874 2.683901 -0.795609 3 0 3 \nz\n\" style=\"stroke: #333333\"/>\n    </defs>\n    <g clip-path=\"url(#p5edf745eb3)\">\n     <use xlink:href=\"#mede17c4b47\" x=\"88.744602\" y=\"66.582613\" style=\"fill: #dd8452; stroke: #333333\"/>\n     <use xlink:href=\"#mede17c4b47\" x=\"124.661874\" y=\"63.263267\" style=\"fill: #dd8452; stroke: #333333\"/>\n     <use xlink:href=\"#mede17c4b47\" x=\"84.58745\" y=\"58.95913\" style=\"fill: #dd8452; stroke: #333333\"/>\n     <use xlink:href=\"#mede17c4b47\" x=\"251.021149\" y=\"181.113666\" style=\"fill: #dd8452; stroke: #333333\"/>\n     <use xlink:href=\"#mede17c4b47\" x=\"226.873488\" y=\"218.385425\" style=\"fill: #dd8452; stroke: #333333\"/>\n     <use xlink:href=\"#mede17c4b47\" x=\"238.335375\" y=\"202.488512\" style=\"fill: #dd8452; stroke: #333333\"/>\n     <use xlink:href=\"#mede17c4b47\" x=\"246.099798\" y=\"208.1767\" style=\"fill: #dd8452; stroke: #333333\"/>\n     <use xlink:href=\"#mede17c4b47\" x=\"227.476216\" y=\"227.990346\" style=\"fill: #dd8452; stroke: #333333\"/>\n     <use xlink:href=\"#mede17c4b47\" x=\"240.244393\" y=\"222.880676\" style=\"fill: #dd8452; stroke: #333333\"/>\n     <use xlink:href=\"#mede17c4b47\" x=\"113.618865\" y=\"55.294371\" style=\"fill: #dd8452; stroke: #333333\"/>\n     <use xlink:href=\"#mede17c4b47\" x=\"78.901919\" y=\"82.659755\" style=\"fill: #dd8452; stroke: #333333\"/>\n     <use xlink:href=\"#mede17c4b47\" x=\"105.605042\" y=\"62.714304\" style=\"fill: #dd8452; stroke: #333333\"/>\n     <use xlink:href=\"#mede17c4b47\" x=\"246.689676\" y=\"154.238644\" style=\"fill: #dd8452; stroke: #333333\"/>\n     <use xlink:href=\"#mede17c4b47\" x=\"87.435332\" y=\"73.027779\" style=\"fill: #dd8452; stroke: #333333\"/>\n     <use xlink:href=\"#mede17c4b47\" x=\"232.575432\" y=\"206.051046\" style=\"fill: #dd8452; stroke: #333333\"/>\n     <use xlink:href=\"#mede17c4b47\" x=\"91.680469\" y=\"54.811418\" style=\"fill: #dd8452; stroke: #333333\"/>\n     <use xlink:href=\"#mede17c4b47\" x=\"99.245585\" y=\"84.582287\" style=\"fill: #dd8452; stroke: #333333\"/>\n     <use xlink:href=\"#mede17c4b47\" x=\"88.034356\" y=\"66.799643\" style=\"fill: #dd8452; stroke: #333333\"/>\n     <use xlink:href=\"#mede17c4b47\" x=\"98.981642\" y=\"78.726968\" style=\"fill: #dd8452; stroke: #333333\"/>\n     <use xlink:href=\"#mede17c4b47\" x=\"128.586414\" y=\"61.063649\" style=\"fill: #dd8452; stroke: #333333\"/>\n     <use xlink:href=\"#mede17c4b47\" x=\"230.086383\" y=\"195.463394\" style=\"fill: #dd8452; stroke: #333333\"/>\n     <use xlink:href=\"#mede17c4b47\" x=\"221.634047\" y=\"194.564391\" style=\"fill: #dd8452; stroke: #333333\"/>\n     <use xlink:href=\"#mede17c4b47\" x=\"128.279021\" y=\"55.587534\" style=\"fill: #dd8452; stroke: #333333\"/>\n     <use xlink:href=\"#mede17c4b47\" x=\"226.345612\" y=\"207.993906\" style=\"fill: #dd8452; stroke: #333333\"/>\n     <use xlink:href=\"#mede17c4b47\" x=\"193.693914\" y=\"221.251324\" style=\"fill: #dd8452; stroke: #333333\"/>\n     <use xlink:href=\"#mede17c4b47\" x=\"121.369482\" y=\"89.42429\" style=\"fill: #dd8452; stroke: #333333\"/>\n     <use xlink:href=\"#mede17c4b47\" x=\"92.13035\" y=\"67.977435\" style=\"fill: #dd8452; stroke: #333333\"/>\n     <use xlink:href=\"#mede17c4b47\" x=\"259.757291\" y=\"226.905074\" style=\"fill: #dd8452; stroke: #333333\"/>\n     <use xlink:href=\"#mede17c4b47\" x=\"255.833584\" y=\"207.03541\" style=\"fill: #dd8452; stroke: #333333\"/>\n     <use xlink:href=\"#mede17c4b47\" x=\"225.575598\" y=\"200.826612\" style=\"fill: #dd8452; stroke: #333333\"/>\n     <use xlink:href=\"#mede17c4b47\" x=\"101.147117\" y=\"78.020949\" style=\"fill: #dd8452; stroke: #333333\"/>\n     <use xlink:href=\"#mede17c4b47\" x=\"240.407954\" y=\"212.470307\" style=\"fill: #dd8452; stroke: #333333\"/>\n     <use xlink:href=\"#mede17c4b47\" x=\"261.799386\" y=\"224.183869\" style=\"fill: #dd8452; stroke: #333333\"/>\n     <use xlink:href=\"#mede17c4b47\" x=\"231.108137\" y=\"195.502297\" style=\"fill: #dd8452; stroke: #333333\"/>\n     <use xlink:href=\"#mede17c4b47\" x=\"252.115114\" y=\"202.953652\" style=\"fill: #dd8452; stroke: #333333\"/>\n     <use xlink:href=\"#mede17c4b47\" x=\"86.642862\" y=\"77.470848\" style=\"fill: #dd8452; stroke: #333333\"/>\n     <use xlink:href=\"#mede17c4b47\" x=\"116.364561\" y=\"77.902156\" style=\"fill: #dd8452; stroke: #333333\"/>\n     <use xlink:href=\"#mede17c4b47\" x=\"106.057388\" y=\"72.552008\" style=\"fill: #dd8452; stroke: #333333\"/>\n     <use xlink:href=\"#mede17c4b47\" x=\"95.267551\" y=\"54.676401\" style=\"fill: #dd8452; stroke: #333333\"/>\n     <use xlink:href=\"#mede17c4b47\" x=\"249.044462\" y=\"211.439147\" style=\"fill: #dd8452; stroke: #333333\"/>\n     <use xlink:href=\"#mede17c4b47\" x=\"243.996635\" y=\"208.964208\" style=\"fill: #dd8452; stroke: #333333\"/>\n     <use xlink:href=\"#mede17c4b47\" x=\"99.707157\" y=\"61.596248\" style=\"fill: #dd8452; stroke: #333333\"/>\n     <use xlink:href=\"#mede17c4b47\" x=\"227.879332\" y=\"178.426158\" style=\"fill: #dd8452; stroke: #333333\"/>\n     <use xlink:href=\"#mede17c4b47\" x=\"84.145352\" y=\"86.457049\" style=\"fill: #dd8452; stroke: #333333\"/>\n     <use xlink:href=\"#mede17c4b47\" x=\"253.180588\" y=\"209.196615\" style=\"fill: #dd8452; stroke: #333333\"/>\n     <use xlink:href=\"#mede17c4b47\" x=\"245.24898\" y=\"214.921713\" style=\"fill: #dd8452; stroke: #333333\"/>\n     <use xlink:href=\"#mede17c4b47\" x=\"86.738442\" y=\"66.425516\" style=\"fill: #dd8452; stroke: #333333\"/>\n     <use xlink:href=\"#mede17c4b47\" x=\"77.908473\" y=\"89.112693\" style=\"fill: #dd8452; stroke: #333333\"/>\n     <use xlink:href=\"#mede17c4b47\" x=\"110.43894\" y=\"71.971425\" style=\"fill: #dd8452; stroke: #333333\"/>\n     <use xlink:href=\"#mede17c4b47\" x=\"239.161966\" y=\"211.142247\" style=\"fill: #dd8452; stroke: #333333\"/>\n     <use xlink:href=\"#mede17c4b47\" x=\"246.750324\" y=\"186.115848\" style=\"fill: #dd8452; stroke: #333333\"/>\n     <use xlink:href=\"#mede17c4b47\" x=\"240.801222\" y=\"217.797338\" style=\"fill: #dd8452; stroke: #333333\"/>\n     <use xlink:href=\"#mede17c4b47\" x=\"239.768965\" y=\"200.333409\" style=\"fill: #dd8452; stroke: #333333\"/>\n     <use xlink:href=\"#mede17c4b47\" x=\"129.233412\" y=\"80.880027\" style=\"fill: #dd8452; stroke: #333333\"/>\n     <use xlink:href=\"#mede17c4b47\" x=\"85.663459\" y=\"63.014756\" style=\"fill: #dd8452; stroke: #333333\"/>\n     <use xlink:href=\"#mede17c4b47\" x=\"220.796717\" y=\"182.011372\" style=\"fill: #dd8452; stroke: #333333\"/>\n     <use xlink:href=\"#mede17c4b47\" x=\"256.063225\" y=\"213.62259\" style=\"fill: #dd8452; stroke: #333333\"/>\n     <use xlink:href=\"#mede17c4b47\" x=\"74.169028\" y=\"51.171343\" style=\"fill: #dd8452; stroke: #333333\"/>\n     <use xlink:href=\"#mede17c4b47\" x=\"239.497143\" y=\"206.530491\" style=\"fill: #dd8452; stroke: #333333\"/>\n     <use xlink:href=\"#mede17c4b47\" x=\"233.07343\" y=\"198.617921\" style=\"fill: #dd8452; stroke: #333333\"/>\n     <use xlink:href=\"#mede17c4b47\" x=\"100.035879\" y=\"62.705328\" style=\"fill: #dd8452; stroke: #333333\"/>\n     <use xlink:href=\"#mede17c4b47\" x=\"249.462942\" y=\"222.628842\" style=\"fill: #dd8452; stroke: #333333\"/>\n     <use xlink:href=\"#mede17c4b47\" x=\"76.694727\" y=\"52.218279\" style=\"fill: #dd8452; stroke: #333333\"/>\n     <use xlink:href=\"#mede17c4b47\" x=\"120.223039\" y=\"68.184441\" style=\"fill: #dd8452; stroke: #333333\"/>\n     <use xlink:href=\"#mede17c4b47\" x=\"84.725124\" y=\"60.347335\" style=\"fill: #dd8452; stroke: #333333\"/>\n     <use xlink:href=\"#mede17c4b47\" x=\"113.271419\" y=\"93.939299\" style=\"fill: #dd8452; stroke: #333333\"/>\n     <use xlink:href=\"#mede17c4b47\" x=\"81.644755\" y=\"97.793332\" style=\"fill: #dd8452; stroke: #333333\"/>\n     <use xlink:href=\"#mede17c4b47\" x=\"260.619075\" y=\"206.157936\" style=\"fill: #dd8452; stroke: #333333\"/>\n     <use xlink:href=\"#mede17c4b47\" x=\"262.400398\" y=\"226.138909\" style=\"fill: #dd8452; stroke: #333333\"/>\n     <use xlink:href=\"#mede17c4b47\" x=\"103.757261\" y=\"70.223073\" style=\"fill: #dd8452; stroke: #333333\"/>\n     <use xlink:href=\"#mede17c4b47\" x=\"79.934655\" y=\"60.572391\" style=\"fill: #dd8452; stroke: #333333\"/>\n     <use xlink:href=\"#mede17c4b47\" x=\"232.173291\" y=\"221.729839\" style=\"fill: #dd8452; stroke: #333333\"/>\n     <use xlink:href=\"#mede17c4b47\" x=\"97.45439\" y=\"56.649981\" style=\"fill: #dd8452; stroke: #333333\"/>\n     <use xlink:href=\"#mede17c4b47\" x=\"90.857583\" y=\"80.668083\" style=\"fill: #dd8452; stroke: #333333\"/>\n     <use xlink:href=\"#mede17c4b47\" x=\"237.913128\" y=\"221.400469\" style=\"fill: #dd8452; stroke: #333333\"/>\n     <use xlink:href=\"#mede17c4b47\" x=\"229.551115\" y=\"204.235884\" style=\"fill: #dd8452; stroke: #333333\"/>\n     <use xlink:href=\"#mede17c4b47\" x=\"237.838386\" y=\"210.212185\" style=\"fill: #dd8452; stroke: #333333\"/>\n     <use xlink:href=\"#mede17c4b47\" x=\"107.003632\" y=\"59.365508\" style=\"fill: #dd8452; stroke: #333333\"/>\n     <use xlink:href=\"#mede17c4b47\" x=\"94.458142\" y=\"101.402736\" style=\"fill: #dd8452; stroke: #333333\"/>\n     <use xlink:href=\"#mede17c4b47\" x=\"218.046165\" y=\"188.394864\" style=\"fill: #dd8452; stroke: #333333\"/>\n     <use xlink:href=\"#mede17c4b47\" x=\"228.752224\" y=\"226.71809\" style=\"fill: #dd8452; stroke: #333333\"/>\n     <use xlink:href=\"#mede17c4b47\" x=\"99.430241\" y=\"81.608069\" style=\"fill: #dd8452; stroke: #333333\"/>\n     <use xlink:href=\"#mede17c4b47\" x=\"119.827609\" y=\"62.369088\" style=\"fill: #dd8452; stroke: #333333\"/>\n     <use xlink:href=\"#mede17c4b47\" x=\"85.985081\" y=\"88.773807\" style=\"fill: #dd8452; stroke: #333333\"/>\n     <use xlink:href=\"#mede17c4b47\" x=\"252.490084\" y=\"180.940214\" style=\"fill: #dd8452; stroke: #333333\"/>\n     <use xlink:href=\"#mede17c4b47\" x=\"219.691543\" y=\"199.440695\" style=\"fill: #dd8452; stroke: #333333\"/>\n     <use xlink:href=\"#mede17c4b47\" x=\"89.159138\" y=\"76.467048\" style=\"fill: #dd8452; stroke: #333333\"/>\n     <use xlink:href=\"#mede17c4b47\" x=\"231.065401\" y=\"219.047436\" style=\"fill: #dd8452; stroke: #333333\"/>\n     <use xlink:href=\"#mede17c4b47\" x=\"236.051975\" y=\"219.646137\" style=\"fill: #dd8452; stroke: #333333\"/>\n     <use xlink:href=\"#mede17c4b47\" x=\"90.201347\" y=\"59.394599\" style=\"fill: #dd8452; stroke: #333333\"/>\n     <use xlink:href=\"#mede17c4b47\" x=\"75.3766\" y=\"69.113132\" style=\"fill: #dd8452; stroke: #333333\"/>\n     <use xlink:href=\"#mede17c4b47\" x=\"243.087439\" y=\"219.601522\" style=\"fill: #dd8452; stroke: #333333\"/>\n     <use xlink:href=\"#mede17c4b47\" x=\"248.432703\" y=\"230.005661\" style=\"fill: #dd8452; stroke: #333333\"/>\n     <use xlink:href=\"#mede17c4b47\" x=\"230.22676\" y=\"206.524746\" style=\"fill: #dd8452; stroke: #333333\"/>\n     <use xlink:href=\"#mede17c4b47\" x=\"86.199598\" y=\"75.057713\" style=\"fill: #dd8452; stroke: #333333\"/>\n     <use xlink:href=\"#mede17c4b47\" x=\"106.480285\" y=\"72.563728\" style=\"fill: #dd8452; stroke: #333333\"/>\n     <use xlink:href=\"#mede17c4b47\" x=\"240.64481\" y=\"209.315054\" style=\"fill: #dd8452; stroke: #333333\"/>\n    </g>\n   </g>\n   <g id=\"patch_3\">\n    <path d=\"M 59.024844 244.078125 \nL 59.024844 22.318125 \n\" style=\"fill: none; stroke: #ffffff; stroke-width: 1.25; stroke-linejoin: miter; stroke-linecap: square\"/>\n   </g>\n   <g id=\"patch_4\">\n    <path d=\"M 282.224844 244.078125 \nL 282.224844 22.318125 \n\" style=\"fill: none; stroke: #ffffff; stroke-width: 1.25; stroke-linejoin: miter; stroke-linecap: square\"/>\n   </g>\n   <g id=\"patch_5\">\n    <path d=\"M 59.024844 244.078125 \nL 282.224844 244.078125 \n\" style=\"fill: none; stroke: #ffffff; stroke-width: 1.25; stroke-linejoin: miter; stroke-linecap: square\"/>\n   </g>\n   <g id=\"patch_6\">\n    <path d=\"M 59.024844 22.318125 \nL 282.224844 22.318125 \n\" style=\"fill: none; stroke: #ffffff; stroke-width: 1.25; stroke-linejoin: miter; stroke-linecap: square\"/>\n   </g>\n   <g id=\"text_14\">\n    <!-- Dataset samples -->\n    <g style=\"fill: #262626\" transform=\"translate(120.282031 16.318125) scale(0.12 -0.12)\">\n     <defs>\n      <path id=\"DejaVuSans-44\" d=\"M 1259 4147 \nL 1259 519 \nL 2022 519 \nQ 2988 519 3436 956 \nQ 3884 1394 3884 2338 \nQ 3884 3275 3436 3711 \nQ 2988 4147 2022 4147 \nL 1259 4147 \nz\nM 628 4666 \nL 1925 4666 \nQ 3281 4666 3915 4102 \nQ 4550 3538 4550 2338 \nQ 4550 1131 3912 565 \nQ 3275 0 1925 0 \nL 628 0 \nL 628 4666 \nz\n\" transform=\"scale(0.015625)\"/>\n      <path id=\"DejaVuSans-61\" d=\"M 2194 1759 \nQ 1497 1759 1228 1600 \nQ 959 1441 959 1056 \nQ 959 750 1161 570 \nQ 1363 391 1709 391 \nQ 2188 391 2477 730 \nQ 2766 1069 2766 1631 \nL 2766 1759 \nL 2194 1759 \nz\nM 3341 1997 \nL 3341 0 \nL 2766 0 \nL 2766 531 \nQ 2569 213 2275 61 \nQ 1981 -91 1556 -91 \nQ 1019 -91 701 211 \nQ 384 513 384 1019 \nQ 384 1609 779 1909 \nQ 1175 2209 1959 2209 \nL 2766 2209 \nL 2766 2266 \nQ 2766 2663 2505 2880 \nQ 2244 3097 1772 3097 \nQ 1472 3097 1187 3025 \nQ 903 2953 641 2809 \nL 641 3341 \nQ 956 3463 1253 3523 \nQ 1550 3584 1831 3584 \nQ 2591 3584 2966 3190 \nQ 3341 2797 3341 1997 \nz\n\" transform=\"scale(0.015625)\"/>\n      <path id=\"DejaVuSans-74\" d=\"M 1172 4494 \nL 1172 3500 \nL 2356 3500 \nL 2356 3053 \nL 1172 3053 \nL 1172 1153 \nQ 1172 725 1289 603 \nQ 1406 481 1766 481 \nL 2356 481 \nL 2356 0 \nL 1766 0 \nQ 1100 0 847 248 \nQ 594 497 594 1153 \nL 594 3053 \nL 172 3053 \nL 172 3500 \nL 594 3500 \nL 594 4494 \nL 1172 4494 \nz\n\" transform=\"scale(0.015625)\"/>\n      <path id=\"DejaVuSans-73\" d=\"M 2834 3397 \nL 2834 2853 \nQ 2591 2978 2328 3040 \nQ 2066 3103 1784 3103 \nQ 1356 3103 1142 2972 \nQ 928 2841 928 2578 \nQ 928 2378 1081 2264 \nQ 1234 2150 1697 2047 \nL 1894 2003 \nQ 2506 1872 2764 1633 \nQ 3022 1394 3022 966 \nQ 3022 478 2636 193 \nQ 2250 -91 1575 -91 \nQ 1294 -91 989 -36 \nQ 684 19 347 128 \nL 347 722 \nQ 666 556 975 473 \nQ 1284 391 1588 391 \nQ 1994 391 2212 530 \nQ 2431 669 2431 922 \nQ 2431 1156 2273 1281 \nQ 2116 1406 1581 1522 \nL 1381 1569 \nQ 847 1681 609 1914 \nQ 372 2147 372 2553 \nQ 372 3047 722 3315 \nQ 1072 3584 1716 3584 \nQ 2034 3584 2315 3537 \nQ 2597 3491 2834 3397 \nz\n\" transform=\"scale(0.015625)\"/>\n      <path id=\"DejaVuSans-65\" d=\"M 3597 1894 \nL 3597 1613 \nL 953 1613 \nQ 991 1019 1311 708 \nQ 1631 397 2203 397 \nQ 2534 397 2845 478 \nQ 3156 559 3463 722 \nL 3463 178 \nQ 3153 47 2828 -22 \nQ 2503 -91 2169 -91 \nQ 1331 -91 842 396 \nQ 353 884 353 1716 \nQ 353 2575 817 3079 \nQ 1281 3584 2069 3584 \nQ 2775 3584 3186 3129 \nQ 3597 2675 3597 1894 \nz\nM 3022 2063 \nQ 3016 2534 2758 2815 \nQ 2500 3097 2075 3097 \nQ 1594 3097 1305 2825 \nQ 1016 2553 972 2059 \nL 3022 2063 \nz\n\" transform=\"scale(0.015625)\"/>\n      <path id=\"DejaVuSans-20\" transform=\"scale(0.015625)\"/>\n      <path id=\"DejaVuSans-6d\" d=\"M 3328 2828 \nQ 3544 3216 3844 3400 \nQ 4144 3584 4550 3584 \nQ 5097 3584 5394 3201 \nQ 5691 2819 5691 2113 \nL 5691 0 \nL 5113 0 \nL 5113 2094 \nQ 5113 2597 4934 2840 \nQ 4756 3084 4391 3084 \nQ 3944 3084 3684 2787 \nQ 3425 2491 3425 1978 \nL 3425 0 \nL 2847 0 \nL 2847 2094 \nQ 2847 2600 2669 2842 \nQ 2491 3084 2119 3084 \nQ 1678 3084 1418 2786 \nQ 1159 2488 1159 1978 \nL 1159 0 \nL 581 0 \nL 581 3500 \nL 1159 3500 \nL 1159 2956 \nQ 1356 3278 1631 3431 \nQ 1906 3584 2284 3584 \nQ 2666 3584 2933 3390 \nQ 3200 3197 3328 2828 \nz\n\" transform=\"scale(0.015625)\"/>\n      <path id=\"DejaVuSans-70\" d=\"M 1159 525 \nL 1159 -1331 \nL 581 -1331 \nL 581 3500 \nL 1159 3500 \nL 1159 2969 \nQ 1341 3281 1617 3432 \nQ 1894 3584 2278 3584 \nQ 2916 3584 3314 3078 \nQ 3713 2572 3713 1747 \nQ 3713 922 3314 415 \nQ 2916 -91 2278 -91 \nQ 1894 -91 1617 61 \nQ 1341 213 1159 525 \nz\nM 3116 1747 \nQ 3116 2381 2855 2742 \nQ 2594 3103 2138 3103 \nQ 1681 3103 1420 2742 \nQ 1159 2381 1159 1747 \nQ 1159 1113 1420 752 \nQ 1681 391 2138 391 \nQ 2594 391 2855 752 \nQ 3116 1113 3116 1747 \nz\n\" transform=\"scale(0.015625)\"/>\n      <path id=\"DejaVuSans-6c\" d=\"M 603 4863 \nL 1178 4863 \nL 1178 0 \nL 603 0 \nL 603 4863 \nz\n\" transform=\"scale(0.015625)\"/>\n     </defs>\n     <use xlink:href=\"#DejaVuSans-44\"/>\n     <use xlink:href=\"#DejaVuSans-61\" x=\"77.001953\"/>\n     <use xlink:href=\"#DejaVuSans-74\" x=\"138.28125\"/>\n     <use xlink:href=\"#DejaVuSans-61\" x=\"177.490234\"/>\n     <use xlink:href=\"#DejaVuSans-73\" x=\"238.769531\"/>\n     <use xlink:href=\"#DejaVuSans-65\" x=\"290.869141\"/>\n     <use xlink:href=\"#DejaVuSans-74\" x=\"352.392578\"/>\n     <use xlink:href=\"#DejaVuSans-20\" x=\"391.601562\"/>\n     <use xlink:href=\"#DejaVuSans-73\" x=\"423.388672\"/>\n     <use xlink:href=\"#DejaVuSans-61\" x=\"475.488281\"/>\n     <use xlink:href=\"#DejaVuSans-6d\" x=\"536.767578\"/>\n     <use xlink:href=\"#DejaVuSans-70\" x=\"634.179688\"/>\n     <use xlink:href=\"#DejaVuSans-6c\" x=\"697.65625\"/>\n     <use xlink:href=\"#DejaVuSans-65\" x=\"725.439453\"/>\n     <use xlink:href=\"#DejaVuSans-73\" x=\"786.962891\"/>\n    </g>\n   </g>\n   <g id=\"legend_1\">\n    <g id=\"patch_7\">\n     <path d=\"M 199.891562 150.994063 \nL 274.524844 150.994063 \nQ 276.724844 150.994063 276.724844 148.794063 \nL 276.724844 117.602188 \nQ 276.724844 115.402188 274.524844 115.402188 \nL 199.891562 115.402188 \nQ 197.691562 115.402188 197.691562 117.602188 \nL 197.691562 148.794063 \nQ 197.691562 150.994063 199.891562 150.994063 \nz\n\" style=\"fill: #eaeaf2; opacity: 0.8; stroke: #cccccc; stroke-linejoin: miter\"/>\n    </g>\n    <g id=\"PathCollection_3\">\n     <g>\n      <use xlink:href=\"#med3dcc21c7\" x=\"213.091562\" y=\"125.272969\" style=\"fill: #4c72b0; stroke: #333333\"/>\n     </g>\n    </g>\n    <g id=\"text_15\">\n     <!-- Class 0 -->\n     <g style=\"fill: #262626\" transform=\"translate(232.891562 128.160469) scale(0.11 -0.11)\">\n      <defs>\n       <path id=\"DejaVuSans-43\" d=\"M 4122 4306 \nL 4122 3641 \nQ 3803 3938 3442 4084 \nQ 3081 4231 2675 4231 \nQ 1875 4231 1450 3742 \nQ 1025 3253 1025 2328 \nQ 1025 1406 1450 917 \nQ 1875 428 2675 428 \nQ 3081 428 3442 575 \nQ 3803 722 4122 1019 \nL 4122 359 \nQ 3791 134 3420 21 \nQ 3050 -91 2638 -91 \nQ 1578 -91 968 557 \nQ 359 1206 359 2328 \nQ 359 3453 968 4101 \nQ 1578 4750 2638 4750 \nQ 3056 4750 3426 4639 \nQ 3797 4528 4122 4306 \nz\n\" transform=\"scale(0.015625)\"/>\n      </defs>\n      <use xlink:href=\"#DejaVuSans-43\"/>\n      <use xlink:href=\"#DejaVuSans-6c\" x=\"69.824219\"/>\n      <use xlink:href=\"#DejaVuSans-61\" x=\"97.607422\"/>\n      <use xlink:href=\"#DejaVuSans-73\" x=\"158.886719\"/>\n      <use xlink:href=\"#DejaVuSans-73\" x=\"210.986328\"/>\n      <use xlink:href=\"#DejaVuSans-20\" x=\"263.085938\"/>\n      <use xlink:href=\"#DejaVuSans-30\" x=\"294.873047\"/>\n     </g>\n    </g>\n    <g id=\"PathCollection_4\">\n     <g>\n      <use xlink:href=\"#mede17c4b47\" x=\"213.091562\" y=\"141.418906\" style=\"fill: #dd8452; stroke: #333333\"/>\n     </g>\n    </g>\n    <g id=\"text_16\">\n     <!-- Class 1 -->\n     <g style=\"fill: #262626\" transform=\"translate(232.891562 144.306406) scale(0.11 -0.11)\">\n      <use xlink:href=\"#DejaVuSans-43\"/>\n      <use xlink:href=\"#DejaVuSans-6c\" x=\"69.824219\"/>\n      <use xlink:href=\"#DejaVuSans-61\" x=\"97.607422\"/>\n      <use xlink:href=\"#DejaVuSans-73\" x=\"158.886719\"/>\n      <use xlink:href=\"#DejaVuSans-73\" x=\"210.986328\"/>\n      <use xlink:href=\"#DejaVuSans-20\" x=\"263.085938\"/>\n      <use xlink:href=\"#DejaVuSans-31\" x=\"294.873047\"/>\n     </g>\n    </g>\n   </g>\n  </g>\n </g>\n <defs>\n  <clipPath id=\"p5edf745eb3\">\n   <rect x=\"59.024844\" y=\"22.318125\" width=\"223.2\" height=\"221.76\"/>\n  </clipPath>\n </defs>\n</svg>\n",
      "text/plain": [
       "<Figure size 400x400 with 1 Axes>"
      ]
     },
     "metadata": {},
     "output_type": "display_data"
    }
   ],
   "source": [
    "visualize_samples(dataset.data, dataset.label)\n",
    "plt.show()"
   ]
  },
  {
   "cell_type": "markdown",
   "id": "dcc14f55",
   "metadata": {},
   "source": [
    "#### The data loader class\n",
    "\n",
    "The class `torch.utils.data.DataLoader` represents a Python iterable over a dataset with support for automatic batching, multi-process data loading and many more features. The data loader communicates with the dataset using the function `__getitem__`, and stacks its outputs as tensors over the first dimension to form a batch.\n",
    "In contrast to the dataset class, we usually don't have to define our own data loader class, but can just create an object of it with the dataset as input. Additionally, we can configure our data loader with the following input arguments (only a selection, see full list [here](https://pytorch.org/docs/stable/data.html#torch.utils.data.DataLoader)):\n",
    "\n",
    "* `batch_size`: Number of samples to stack per batch\n",
    "* `shuffle`: If True, the data is returned in a random order. This is important during training for introducing stochasticity. \n",
    "* `num_workers`: Number of subprocesses to use for data loading. The default, 0, means that the data will be loaded in the main process which can slow down training for datasets where loading a data point takes a considerable amount of time (e.g. large images). More workers are recommended for those, but can cause issues on Windows computers. For tiny datasets as ours, 0 workers are usually faster.\n",
    "* `persistent_workers`: If True, workers will not be shutdown after an iteration over the dataset has finished. This can be useful if the time per epoch is small, or if you face issues with workers being killed during training. \n",
    "* `drop_last`: If True, the last batch is dropped in case it is smaller than the specified batch size. This occurs when the dataset size is not a multiple of the batch size. Only potentially helpful during training to keep a consistent batch size.\n",
    "* `collate_fn`: A function that defines how the elements per batch are combined. By default, PyTorch stacks them as PyTorch tensors. For JAX, we will change it to NumPy arrays.\n",
    "\n",
    "Let's create a simple data loader below with a function that stacks batch elements as NumPy array instead of PyTorch Tensors:"
   ]
  },
  {
   "cell_type": "code",
   "execution_count": 44,
   "id": "73a2f9ae",
   "metadata": {},
   "outputs": [],
   "source": [
    "# This collate function is taken from the JAX tutorial with PyTorch Data Loading\n",
    "# https://jax.readthedocs.io/en/latest/notebooks/Neural_Network_and_Data_Loading.html\n",
    "def numpy_collate(batch):\n",
    "    if isinstance(batch[0], np.ndarray):\n",
    "        return np.stack(batch)\n",
    "    elif isinstance(batch[0], (tuple, list)):\n",
    "        transposed = zip(*batch)\n",
    "        return [numpy_collate(samples) for samples in transposed]\n",
    "    else:\n",
    "        return np.array(batch)\n",
    "\n",
    "\n",
    "data_loader = data.DataLoader(\n",
    "    dataset, batch_size=8, shuffle=True, collate_fn=numpy_collate\n",
    ")"
   ]
  },
  {
   "cell_type": "code",
   "execution_count": 45,
   "id": "05c00219",
   "metadata": {},
   "outputs": [
    {
     "name": "stdout",
     "output_type": "stream",
     "text": [
      "Data inputs (8, 2) \n",
      " [[-0.0985726   0.05040465]\n",
      " [ 0.3078881   0.11195749]\n",
      " [-0.0828995   0.9439819 ]\n",
      " [ 1.0058209  -0.11429703]\n",
      " [ 0.9981487  -0.02886586]\n",
      " [ 1.0519346   0.1532739 ]\n",
      " [ 1.1765454   1.0404981 ]\n",
      " [-0.02176812  1.1098777 ]]\n",
      "Data labels (8,) \n",
      " [0 0 1 1 1 1 0 1]\n"
     ]
    }
   ],
   "source": [
    "# next(iter(...)) catches the first batch of the data loader\n",
    "# If shuffle is True, this will return a different batch every time we run this cell\n",
    "# For iterating over the whole dataset, we can simple use \"for batch in data_loader: ...\"\n",
    "data_inputs, data_labels = next(iter(data_loader))\n",
    "\n",
    "# The shape of the outputs are [batch_size, d_1,...,d_N] where d_1,...,d_N are the\n",
    "# dimensions of the data point returned from the dataset class\n",
    "print(\"Data inputs\", data_inputs.shape, \"\\n\", data_inputs)\n",
    "print(\"Data labels\", data_labels.shape, \"\\n\", data_labels)"
   ]
  },
  {
   "cell_type": "markdown",
   "id": "65a6c190",
   "metadata": {},
   "source": [
    "### Optimization\n",
    "\n",
    "After defining the model and the dataset, it is time to prepare the optimization of the model. During training, we will perform the following steps:\n",
    "\n",
    "1. Get a batch from the data loader\n",
    "2. Obtain the predictions from the model for the batch\n",
    "3. Calculate the loss based on the difference between predictions and labels\n",
    "4. Backpropagation: calculate the gradients for every parameter with respect to the loss\n",
    "5. Update the parameters of the model in the direction of the gradients\n",
    "\n",
    "We have seen how we can do step 1, 2 and 4 in JAX and Flax. Now, we will look at step 3 and 5."
   ]
  },
  {
   "cell_type": "markdown",
   "id": "6f70ea1c",
   "metadata": {},
   "source": [
    "#### Stochastic Gradient Descent\n",
    "\n",
    "For updating the parameters, Flax does not directly provide support for optimizers, but instead refers to another package called `optax` ([documentation](https://optax.readthedocs.io/en/latest/index.html)). Optax is an optimization library for JAX, which offers most common deep learning optimizers (SGD, Adam, Adagrad, RMSProp, etc.) and utilities (gradient clipping, weight decay, etc.)."
   ]
  },
  {
   "cell_type": "code",
   "execution_count": 46,
   "id": "b8706e3f",
   "metadata": {},
   "outputs": [],
   "source": [
    "try:\n",
    "    import optax\n",
    "except ModuleNotFoundError:  # Install optax if missing\n",
    "    !pip install --quiet optax\n",
    "    import optax"
   ]
  },
  {
   "cell_type": "markdown",
   "id": "12cac2ef",
   "metadata": {},
   "source": [
    "For now, we will use the simplest optimizer, namely `optax.sgd`. Stochastic Gradient Descent updates parameters by multiplying the gradients with a small constant, called learning rate, and subtracting those from the parameters (hence minimizing the loss). Therefore, we slowly move towards the direction of minimizing the loss. A good default value of the learning rate for a small network as ours is 0.1. Remember that we again aim to write functional code. Hence, the optimizer does not take as input the parameters, but only the optimizer hyperparameters."
   ]
  },
  {
   "cell_type": "code",
   "execution_count": 47,
   "id": "d9cf2212",
   "metadata": {},
   "outputs": [],
   "source": [
    "# Input to the optimizer are optimizer settings like learning rate\n",
    "optimizer = optax.sgd(learning_rate=0.1)"
   ]
  },
  {
   "cell_type": "markdown",
   "id": "9a7a01f3",
   "metadata": {},
   "source": [
    "Since JAX calculates gradients via function transformations, we do not have functions like `backward()`, `optimizer.step()` or `optimizer.backward()` as in PyTorch. Instead, a optimizer is a function on the parameters and gradients. To simplify this step and bundle important parts of the training procedure, Flax offers the `flax.training` package. As a first step, we can create a `TrainState` which bundles the parameters, the optimizer, and the forward step of the model:"
   ]
  },
  {
   "cell_type": "code",
   "execution_count": 48,
   "id": "40aecbc6",
   "metadata": {},
   "outputs": [],
   "source": [
    "from flax.training import train_state\n",
    "\n",
    "model_state = train_state.TrainState.create(\n",
    "    apply_fn=model.apply, params=params, tx=optimizer\n",
    ")"
   ]
  },
  {
   "cell_type": "markdown",
   "id": "1c303b3a",
   "metadata": {},
   "source": [
    "With this state object, it is easier to handle the training."
   ]
  },
  {
   "cell_type": "markdown",
   "id": "83850de5",
   "metadata": {},
   "source": [
    "#### Loss function\n",
    "\n",
    "For performing gradient updates, we need a function that can calculate the loss for a batch. Afterwards, we can apply JAX's gradient transformation to obtain a gradient function of it. In our setting, which is binary classification, we can use Binary Cross Entropy (BCE) which is defined as follows:\n",
    "\n",
    "$$\\mathcal{L}_{BCE} = -\\sum_i \\left[ y_i \\log x_i + (1 - y_i) \\log (1 - x_i) \\right]$$\n",
    "\n",
    "where $y$ are our labels, and $x$ our predictions, both in the range of $[0,1]$. Similar to PyTorch, Optax already provides a function for this: `optax.sigmoid_binary_cross_entropy(logits, labels)`. We calculate the loss on the logits instead of the sigmoid outputs for numerical stability. Let's write a function that takes as input a state (for the forward function), parameters, and a batch, and return the binary cross entropy loss and accuracy: "
   ]
  },
  {
   "cell_type": "code",
   "execution_count": 49,
   "id": "609fb4b3",
   "metadata": {},
   "outputs": [],
   "source": [
    "def calculate_loss_acc(state, params, batch):\n",
    "    data_input, labels = batch\n",
    "    # Obtain the logits and predictions of the model for the input data\n",
    "    logits = state.apply_fn(params, data_input).squeeze(axis=-1)\n",
    "    pred_labels = (logits > 0).astype(jnp.float32)\n",
    "    # Calculate the loss and accuracy\n",
    "    loss = optax.sigmoid_binary_cross_entropy(logits, labels).mean()\n",
    "    acc = (pred_labels == labels).mean()\n",
    "    return loss, acc"
   ]
  },
  {
   "cell_type": "markdown",
   "id": "4c47e776",
   "metadata": {},
   "source": [
    "Note that we explicitly add the parameters here as an input argument since we want to calculate the gradients with respect to them later. An example execution of the function would look like:"
   ]
  },
  {
   "cell_type": "code",
   "execution_count": 50,
   "id": "237b08e7",
   "metadata": {},
   "outputs": [
    {
     "data": {
      "text/plain": [
       "(Array(0.6542283, dtype=float32), Array(0.625, dtype=float32))"
      ]
     },
     "execution_count": 50,
     "metadata": {},
     "output_type": "execute_result"
    }
   ],
   "source": [
    "batch = next(iter(data_loader))\n",
    "calculate_loss_acc(model_state, model_state.params, batch)"
   ]
  },
  {
   "cell_type": "markdown",
   "id": "979978ba",
   "metadata": {},
   "source": [
    "### Creating an efficient training and validation step\n",
    "\n",
    "With this loss function and the optimizer, we are now ready to create an efficient training and validation/test step. First, let's consider the training. As input to each training step, we have a training state and a batch. We then want to calculate the loss for the input and take the gradients of it. Finally, we update the parameters with our optimizer and return the new state. All this can be summarized in the following function:"
   ]
  },
  {
   "cell_type": "code",
   "execution_count": 51,
   "id": "348a627f",
   "metadata": {},
   "outputs": [],
   "source": [
    "@jax.jit  # Jit the function for efficiency\n",
    "def train_step(state, batch):\n",
    "    # Gradient function\n",
    "    grad_fn = jax.value_and_grad(\n",
    "        calculate_loss_acc,  # Function to calculate the loss\n",
    "        argnums=1,  # Parameters are second argument of the function\n",
    "        has_aux=True,  # Function has additional outputs, here accuracy\n",
    "    )\n",
    "    # Determine gradients for current model, parameters and batch\n",
    "    (loss, acc), grads = grad_fn(state, state.params, batch)\n",
    "    # Perform parameter update with gradients and optimizer\n",
    "    state = state.apply_gradients(grads=grads)\n",
    "    # Return state and any other value we might want\n",
    "    return state, loss, acc"
   ]
  },
  {
   "cell_type": "markdown",
   "id": "37d8a0bb",
   "metadata": {},
   "source": [
    "By using the transformation `jax.jit`, the whole gradient calculation and application is optimized in XLA, providing an efficient function for updating the model.\n",
    "\n",
    "Next, let's look at the evaluation function. Here, we do not need to calculate gradients, but only want to get the accuracy of the model for the batch. This becomes a simpler version of the training step:"
   ]
  },
  {
   "cell_type": "code",
   "execution_count": 52,
   "id": "85205245",
   "metadata": {},
   "outputs": [],
   "source": [
    "@jax.jit  # Jit the function for efficiency\n",
    "def eval_step(state, batch):\n",
    "    # Determine the accuracy\n",
    "    _, acc = calculate_loss_acc(state, state.params, batch)\n",
    "    return acc"
   ]
  },
  {
   "cell_type": "markdown",
   "id": "4ebd224e",
   "metadata": {},
   "source": [
    "These two functions provide us now efficient utilities to train our model."
   ]
  },
  {
   "cell_type": "markdown",
   "id": "df0b91f6",
   "metadata": {},
   "source": [
    "### Training\n",
    "\n",
    "Finally, we are ready to train our model. As a first step, we create a slightly larger dataset and specify a data loader with a larger batch size. "
   ]
  },
  {
   "cell_type": "code",
   "execution_count": 53,
   "id": "ec924160",
   "metadata": {},
   "outputs": [],
   "source": [
    "train_dataset = XORDataset(size=2500, seed=42)\n",
    "train_data_loader = data.DataLoader(\n",
    "    train_dataset, batch_size=128, shuffle=True, collate_fn=numpy_collate\n",
    ")"
   ]
  },
  {
   "cell_type": "markdown",
   "id": "f074d1a0",
   "metadata": {},
   "source": [
    "Now, we can write a small training function. In contrast to PyTorch, we do not need to explicitly push our model to GPU, since the parameters are already automatically created on GPU. Further, since the model itself is stateless, we do not have a `train()` or `eval()` function to switch between modes of e.g. dropout. When necessary, we can add an argument `train : bool` to the model forward pass. For this simple network here, however, this is not necessary.\n",
    "\n",
    "Following the PyTorch tutorial, let's write a function here that trains a model for several epochs:"
   ]
  },
  {
   "cell_type": "code",
   "execution_count": 54,
   "id": "afdc0424",
   "metadata": {},
   "outputs": [],
   "source": [
    "def train_model(state, data_loader, num_epochs=100):\n",
    "    # Training loop\n",
    "    for epoch in tqdm(range(num_epochs)):\n",
    "        for batch in data_loader:\n",
    "            state, loss, acc = train_step(state, batch)\n",
    "            # We could use the loss and accuracy for logging here, e.g. in TensorBoard\n",
    "            # For simplicity, we skip this part here\n",
    "    return state"
   ]
  },
  {
   "cell_type": "code",
   "execution_count": 55,
   "id": "5eb65c92",
   "metadata": {},
   "outputs": [
    {
     "data": {
      "application/vnd.jupyter.widget-view+json": {
       "model_id": "c89ece486a6440e29618305e68e25682",
       "version_major": 2,
       "version_minor": 0
      },
      "text/plain": [
       "  0%|          | 0/100 [00:00<?, ?it/s]"
      ]
     },
     "metadata": {},
     "output_type": "display_data"
    }
   ],
   "source": [
    "trained_model_state = train_model(model_state, train_data_loader, num_epochs=100)"
   ]
  },
  {
   "cell_type": "markdown",
   "id": "0dd18970",
   "metadata": {},
   "source": [
    "Training this model for 100 epochs does take barely a second... This shows the impressive speed JAX can reach, especially for small models!"
   ]
  },
  {
   "cell_type": "markdown",
   "id": "d93c37e6",
   "metadata": {},
   "source": [
    "#### Saving a model\n",
    "\n",
    "After we finished training a model, we save the model to disk so that we can load the same weights at a later time. In JAX, this means we want to save the `state.params` dictionary. Luckily, the `flax.training` package again provides us with nice utilities for that, which uses TensorFlow as underlying framework."
   ]
  },
  {
   "cell_type": "code",
   "execution_count": 56,
   "id": "dba666a2",
   "metadata": {},
   "outputs": [
    {
     "name": "stderr",
     "output_type": "stream",
     "text": [
      "WARNING:absl:Tensorflow library not found, tensorflow.io.gfile operations will use native shim calls. GCS paths (i.e. 'gs://...') cannot be accessed.\n"
     ]
    }
   ],
   "source": [
    "from flax.training import checkpoints\n",
    "from pathlib import Path"
   ]
  },
  {
   "cell_type": "markdown",
   "id": "1b83eab5",
   "metadata": {},
   "source": [
    "To save the whole model state, we can write:"
   ]
  },
  {
   "cell_type": "code",
   "execution_count": 57,
   "id": "a50e8ded",
   "metadata": {},
   "outputs": [
    {
     "data": {
      "text/plain": [
       "'statedicts/my_jax_model100'"
      ]
     },
     "execution_count": 57,
     "metadata": {},
     "output_type": "execute_result"
    }
   ],
   "source": [
    "# define where to save model checkpoints\n",
    "statedicts_folder = Path(\"statedicts\")\n",
    "\n",
    "# create statedicts folder if it does not already exist\n",
    "statedicts_folder.mkdir(parents=True, exist_ok=True)\n",
    "\n",
    "checkpoints.save_checkpoint(\n",
    "    ckpt_dir=str(statedicts_folder),  # Folder to save checkpoint in\n",
    "    target=trained_model_state,  # What to save. To only save parameters, use model_state.params\n",
    "    step=100,  # Training step or other metric to save best model on\n",
    "    prefix=\"my_jax_model\",  # Checkpoint file name prefix\n",
    "    overwrite=True,  # Overwrite existing checkpoint files\n",
    ")"
   ]
  },
  {
   "cell_type": "markdown",
   "id": "ad255da8",
   "metadata": {},
   "source": [
    "To load this state dict again, we can use `checkpoints.restore_checkpoint`:"
   ]
  },
  {
   "cell_type": "code",
   "execution_count": 58,
   "id": "4254ffa7",
   "metadata": {},
   "outputs": [],
   "source": [
    "loaded_model_state = checkpoints.restore_checkpoint(\n",
    "    ckpt_dir=\"my_checkpoints/\",  # Folder with the checkpoints\n",
    "    target=model_state,  # (optional) matching object to rebuild state in\n",
    "    prefix=\"my_model\",  # Checkpoint file name prefix\n",
    ")"
   ]
  },
  {
   "cell_type": "markdown",
   "id": "20e4f27b",
   "metadata": {},
   "source": [
    "The states `loaded_model_state` and `trained_model_state` have the identical parameter values."
   ]
  },
  {
   "cell_type": "markdown",
   "id": "e7be32dc",
   "metadata": {},
   "source": [
    "### Evaluation\n",
    "\n",
    "Once we have trained a model, it is time to evaluate it on a held-out test set. As our dataset consist of randomly generated data points, we need to first create a test set with a corresponding data loader."
   ]
  },
  {
   "cell_type": "code",
   "execution_count": 59,
   "id": "9ef9eeca",
   "metadata": {},
   "outputs": [],
   "source": [
    "test_dataset = XORDataset(size=500, seed=123)\n",
    "# drop_last -> Don't drop the last batch although it is smaller than 128\n",
    "test_data_loader = data.DataLoader(\n",
    "    test_dataset,\n",
    "    batch_size=128,\n",
    "    shuffle=False,\n",
    "    drop_last=False,\n",
    "    collate_fn=numpy_collate,\n",
    ")"
   ]
  },
  {
   "cell_type": "markdown",
   "id": "c4310486",
   "metadata": {},
   "source": [
    "We can use our `eval_step` function to efficiently evaluate our model:"
   ]
  },
  {
   "cell_type": "code",
   "execution_count": 60,
   "id": "4e860561",
   "metadata": {},
   "outputs": [],
   "source": [
    "def eval_model(state, data_loader):\n",
    "    all_accs, batch_sizes = [], []\n",
    "    for batch in data_loader:\n",
    "        batch_acc = eval_step(state, batch)\n",
    "        all_accs.append(batch_acc)\n",
    "        batch_sizes.append(batch[0].shape[0])\n",
    "    # Weighted average since some batches might be smaller\n",
    "    acc = sum([a * b for a, b in zip(all_accs, batch_sizes)]) / sum(batch_sizes)\n",
    "    print(f\"Accuracy of the model: {100.0*acc:4.2f}%\")"
   ]
  },
  {
   "cell_type": "code",
   "execution_count": 61,
   "id": "cf27466c",
   "metadata": {},
   "outputs": [
    {
     "name": "stdout",
     "output_type": "stream",
     "text": [
      "Accuracy of the model: 100.00%\n"
     ]
    }
   ],
   "source": [
    "eval_model(trained_model_state, test_data_loader)"
   ]
  },
  {
   "cell_type": "markdown",
   "id": "277e4ff5",
   "metadata": {},
   "source": [
    "If we trained our model correctly, we should see a score close to 100% accuracy. However, this is only possible because of our simple task, and unfortunately, we usually don't get such high scores on test sets of more complex tasks."
   ]
  },
  {
   "cell_type": "markdown",
   "id": "279eeb39",
   "metadata": {},
   "source": [
    "#### Binding model parameters\n",
    "\n",
    "Once we have trained the model, we might want to do multiple application of the same model and parameters. It can get a bit annoying to always write `model.apply(params, ...)` and keep track of the model and parameters separately. To prevent this, Flax's module can be bound to specific parameters to simplify our application. Specifically, we can bind the instance `model` of our `SimpleClassifier` class to our trained parameter as follows:"
   ]
  },
  {
   "cell_type": "code",
   "execution_count": 62,
   "id": "e56bdbb2",
   "metadata": {},
   "outputs": [],
   "source": [
    "trained_model = model.bind(trained_model_state.params)"
   ]
  },
  {
   "cell_type": "markdown",
   "id": "3fab4544",
   "metadata": {},
   "source": [
    "With the model being binded to the parameters, we can use it as we would any PyTorch module. For instance, to apply it to an input array, we can simply run:"
   ]
  },
  {
   "cell_type": "code",
   "execution_count": 63,
   "id": "43470946",
   "metadata": {},
   "outputs": [
    {
     "data": {
      "text/plain": [
       "(8, 1)"
      ]
     },
     "execution_count": 63,
     "metadata": {},
     "output_type": "execute_result"
    }
   ],
   "source": [
    "data_input, labels = next(iter(data_loader))\n",
    "out = trained_model(data_input)  # No explicit parameter passing necessary anymore\n",
    "out.shape"
   ]
  },
  {
   "cell_type": "markdown",
   "id": "0adebac4",
   "metadata": {},
   "source": [
    "This can simplify the analysis of models, and provide a more familiar interface to PyTorch users."
   ]
  },
  {
   "cell_type": "markdown",
   "id": "d9ae9f5a",
   "metadata": {},
   "source": [
    "#### Visualizing classification boundaries\n",
    "\n",
    "To visualize what our model has learned, we can perform a prediction for every data point in a range of $[-0.5, 1.5]$, and visualize the predicted class as in the sample figure at the beginning of this section. This shows where the model has created decision boundaries, and which points would be classified as $0$, and which as $1$. We therefore get a background image out of blue (class 0) and orange (class 1). The spots where the model is uncertain we will see a blurry overlap. The specific code is less relevant compared to the output figure which should hopefully show us a clear separation of classes:"
   ]
  },
  {
   "cell_type": "code",
   "execution_count": 64,
   "id": "3402ee4c",
   "metadata": {},
   "outputs": [
    {
     "data": {
      "application/pdf": "[encoded data removed]",
      "image/svg+xml": "<?xml version=\"1.0\" encoding=\"utf-8\" standalone=\"no\"?>\n<!DOCTYPE svg PUBLIC \"-//W3C//DTD SVG 1.1//EN\"\n  \"http://www.w3.org/Graphics/SVG/1.1/DTD/svg11.dtd\">\n<svg xmlns:xlink=\"http://www.w3.org/1999/xlink\" width=\"303.730313pt\" height=\"287.037813pt\" viewBox=\"0 0 303.730313 287.037813\" xmlns=\"http://www.w3.org/2000/svg\" version=\"1.1\">\n <metadata>\n  <rdf:RDF xmlns:dc=\"http://purl.org/dc/elements/1.1/\" xmlns:cc=\"http://creativecommons.org/ns#\" xmlns:rdf=\"http://www.w3.org/1999/02/22-rdf-syntax-ns#\">\n   <cc:Work>\n    <dc:type rdf:resource=\"http://purl.org/dc/dcmitype/StillImage\"/>\n    <dc:date>2023-03-30T01:19:25.879657</dc:date>\n    <dc:format>image/svg+xml</dc:format>\n    <dc:creator>\n     <cc:Agent>\n      <dc:title>Matplotlib v3.7.0, https://matplotlib.org/</dc:title>\n     </cc:Agent>\n    </dc:creator>\n   </cc:Work>\n  </rdf:RDF>\n </metadata>\n <defs>\n  <style type=\"text/css\">*{stroke-linejoin: round; stroke-linecap: butt}</style>\n </defs>\n <g id=\"figure_1\">\n  <g id=\"patch_1\">\n   <path d=\"M 0 287.037813 \nL 303.730313 287.037813 \nL 303.730313 0 \nL 0 0 \nz\n\" style=\"fill: #ffffff\"/>\n  </g>\n  <g id=\"axes_1\">\n   <g id=\"patch_2\">\n    <path d=\"M 66.023594 244.078125 \nL 287.783594 244.078125 \nL 287.783594 22.318125 \nL 66.023594 22.318125 \nz\n\" style=\"fill: #eaeaf2\"/>\n   </g>\n   <g clip-path=\"url(#p1a19eaa5e0)\">\n    <image xlink:href=\"data:image/png;base64,\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\" id=\"imagebf920c6de2\" transform=\"scale(1 -1) translate(0 -221.904)\" x=\"66.023594\" y=\"-22.174125\" width=\"221.904\" height=\"221.904\"/>\n   </g>\n   <g id=\"matplotlib.axis_1\">\n    <g id=\"xtick_1\">\n     <g id=\"text_1\">\n      <!-- −0.5 -->\n      <g style=\"fill: #262626\" transform=\"translate(52.668047 261.936406) scale(0.11 -0.11)\">\n       <defs>\n        <path id=\"DejaVuSans-2212\" d=\"M 678 2272 \nL 4684 2272 \nL 4684 1741 \nL 678 1741 \nL 678 2272 \nz\n\" transform=\"scale(0.015625)\"/>\n        <path id=\"DejaVuSans-30\" d=\"M 2034 4250 \nQ 1547 4250 1301 3770 \nQ 1056 3291 1056 2328 \nQ 1056 1369 1301 889 \nQ 1547 409 2034 409 \nQ 2525 409 2770 889 \nQ 3016 1369 3016 2328 \nQ 3016 3291 2770 3770 \nQ 2525 4250 2034 4250 \nz\nM 2034 4750 \nQ 2819 4750 3233 4129 \nQ 3647 3509 3647 2328 \nQ 3647 1150 3233 529 \nQ 2819 -91 2034 -91 \nQ 1250 -91 836 529 \nQ 422 1150 422 2328 \nQ 422 3509 836 4129 \nQ 1250 4750 2034 4750 \nz\n\" transform=\"scale(0.015625)\"/>\n        <path id=\"DejaVuSans-2e\" d=\"M 684 794 \nL 1344 794 \nL 1344 0 \nL 684 0 \nL 684 794 \nz\n\" transform=\"scale(0.015625)\"/>\n        <path id=\"DejaVuSans-35\" d=\"M 691 4666 \nL 3169 4666 \nL 3169 4134 \nL 1269 4134 \nL 1269 2991 \nQ 1406 3038 1543 3061 \nQ 1681 3084 1819 3084 \nQ 2600 3084 3056 2656 \nQ 3513 2228 3513 1497 \nQ 3513 744 3044 326 \nQ 2575 -91 1722 -91 \nQ 1428 -91 1123 -41 \nQ 819 9 494 109 \nL 494 744 \nQ 775 591 1075 516 \nQ 1375 441 1709 441 \nQ 2250 441 2565 725 \nQ 2881 1009 2881 1497 \nQ 2881 1984 2565 2268 \nQ 2250 2553 1709 2553 \nQ 1456 2553 1204 2497 \nQ 953 2441 691 2322 \nL 691 4666 \nz\n\" transform=\"scale(0.015625)\"/>\n       </defs>\n       <use xlink:href=\"#DejaVuSans-2212\"/>\n       <use xlink:href=\"#DejaVuSans-30\" x=\"83.789062\"/>\n       <use xlink:href=\"#DejaVuSans-2e\" x=\"147.412109\"/>\n       <use xlink:href=\"#DejaVuSans-35\" x=\"179.199219\"/>\n      </g>\n     </g>\n    </g>\n    <g id=\"xtick_2\">\n     <g id=\"text_2\">\n      <!-- 0.0 -->\n      <g style=\"fill: #262626\" transform=\"translate(112.716875 261.936406) scale(0.11 -0.11)\">\n       <use xlink:href=\"#DejaVuSans-30\"/>\n       <use xlink:href=\"#DejaVuSans-2e\" x=\"63.623047\"/>\n       <use xlink:href=\"#DejaVuSans-30\" x=\"95.410156\"/>\n      </g>\n     </g>\n    </g>\n    <g id=\"xtick_3\">\n     <g id=\"text_3\">\n      <!-- 0.5 -->\n      <g style=\"fill: #262626\" transform=\"translate(168.156875 261.936406) scale(0.11 -0.11)\">\n       <use xlink:href=\"#DejaVuSans-30\"/>\n       <use xlink:href=\"#DejaVuSans-2e\" x=\"63.623047\"/>\n       <use xlink:href=\"#DejaVuSans-35\" x=\"95.410156\"/>\n      </g>\n     </g>\n    </g>\n    <g id=\"xtick_4\">\n     <g id=\"text_4\">\n      <!-- 1.0 -->\n      <g style=\"fill: #262626\" transform=\"translate(223.596875 261.936406) scale(0.11 -0.11)\">\n       <defs>\n        <path id=\"DejaVuSans-31\" d=\"M 794 531 \nL 1825 531 \nL 1825 4091 \nL 703 3866 \nL 703 4441 \nL 1819 4666 \nL 2450 4666 \nL 2450 531 \nL 3481 531 \nL 3481 0 \nL 794 0 \nL 794 531 \nz\n\" transform=\"scale(0.015625)\"/>\n       </defs>\n       <use xlink:href=\"#DejaVuSans-31\"/>\n       <use xlink:href=\"#DejaVuSans-2e\" x=\"63.623047\"/>\n       <use xlink:href=\"#DejaVuSans-30\" x=\"95.410156\"/>\n      </g>\n     </g>\n    </g>\n    <g id=\"xtick_5\">\n     <g id=\"text_5\">\n      <!-- 1.5 -->\n      <g style=\"fill: #262626\" transform=\"translate(279.036875 261.936406) scale(0.11 -0.11)\">\n       <use xlink:href=\"#DejaVuSans-31\"/>\n       <use xlink:href=\"#DejaVuSans-2e\" x=\"63.623047\"/>\n       <use xlink:href=\"#DejaVuSans-35\" x=\"95.410156\"/>\n      </g>\n     </g>\n    </g>\n    <g id=\"text_6\">\n     <!-- $x_1$ -->\n     <g style=\"fill: #262626\" transform=\"translate(170.483594 277.342188) scale(0.12 -0.12)\">\n      <defs>\n       <path id=\"DejaVuSans-Oblique-78\" d=\"M 3841 3500 \nL 2234 1784 \nL 3219 0 \nL 2559 0 \nL 1819 1388 \nL 531 0 \nL -166 0 \nL 1556 1844 \nL 641 3500 \nL 1300 3500 \nL 1972 2234 \nL 3144 3500 \nL 3841 3500 \nz\n\" transform=\"scale(0.015625)\"/>\n      </defs>\n      <use xlink:href=\"#DejaVuSans-Oblique-78\" transform=\"translate(0 0.3125)\"/>\n      <use xlink:href=\"#DejaVuSans-31\" transform=\"translate(59.179688 -16.09375) scale(0.7)\"/>\n     </g>\n    </g>\n   </g>\n   <g id=\"matplotlib.axis_2\">\n    <g id=\"ytick_1\">\n     <g id=\"text_7\">\n      <!-- −0.50 -->\n      <g style=\"fill: #262626\" transform=\"translate(22.81375 248.257266) scale(0.11 -0.11)\">\n       <use xlink:href=\"#DejaVuSans-2212\"/>\n       <use xlink:href=\"#DejaVuSans-30\" x=\"83.789062\"/>\n       <use xlink:href=\"#DejaVuSans-2e\" x=\"147.412109\"/>\n       <use xlink:href=\"#DejaVuSans-35\" x=\"179.199219\"/>\n       <use xlink:href=\"#DejaVuSans-30\" x=\"242.822266\"/>\n      </g>\n     </g>\n    </g>\n    <g id=\"ytick_2\">\n     <g id=\"text_8\">\n      <!-- −0.25 -->\n      <g style=\"fill: #262626\" transform=\"translate(22.81375 220.537266) scale(0.11 -0.11)\">\n       <defs>\n        <path id=\"DejaVuSans-32\" d=\"M 1228 531 \nL 3431 531 \nL 3431 0 \nL 469 0 \nL 469 531 \nQ 828 903 1448 1529 \nQ 2069 2156 2228 2338 \nQ 2531 2678 2651 2914 \nQ 2772 3150 2772 3378 \nQ 2772 3750 2511 3984 \nQ 2250 4219 1831 4219 \nQ 1534 4219 1204 4116 \nQ 875 4013 500 3803 \nL 500 4441 \nQ 881 4594 1212 4672 \nQ 1544 4750 1819 4750 \nQ 2544 4750 2975 4387 \nQ 3406 4025 3406 3419 \nQ 3406 3131 3298 2873 \nQ 3191 2616 2906 2266 \nQ 2828 2175 2409 1742 \nQ 1991 1309 1228 531 \nz\n\" transform=\"scale(0.015625)\"/>\n       </defs>\n       <use xlink:href=\"#DejaVuSans-2212\"/>\n       <use xlink:href=\"#DejaVuSans-30\" x=\"83.789062\"/>\n       <use xlink:href=\"#DejaVuSans-2e\" x=\"147.412109\"/>\n       <use xlink:href=\"#DejaVuSans-32\" x=\"179.199219\"/>\n       <use xlink:href=\"#DejaVuSans-35\" x=\"242.822266\"/>\n      </g>\n     </g>\n    </g>\n    <g id=\"ytick_3\">\n     <g id=\"text_9\">\n      <!-- 0.00 -->\n      <g style=\"fill: #262626\" transform=\"translate(32.031406 192.817266) scale(0.11 -0.11)\">\n       <use xlink:href=\"#DejaVuSans-30\"/>\n       <use xlink:href=\"#DejaVuSans-2e\" x=\"63.623047\"/>\n       <use xlink:href=\"#DejaVuSans-30\" x=\"95.410156\"/>\n       <use xlink:href=\"#DejaVuSans-30\" x=\"159.033203\"/>\n      </g>\n     </g>\n    </g>\n    <g id=\"ytick_4\">\n     <g id=\"text_10\">\n      <!-- 0.25 -->\n      <g style=\"fill: #262626\" transform=\"translate(32.031406 165.097266) scale(0.11 -0.11)\">\n       <use xlink:href=\"#DejaVuSans-30\"/>\n       <use xlink:href=\"#DejaVuSans-2e\" x=\"63.623047\"/>\n       <use xlink:href=\"#DejaVuSans-32\" x=\"95.410156\"/>\n       <use xlink:href=\"#DejaVuSans-35\" x=\"159.033203\"/>\n      </g>\n     </g>\n    </g>\n    <g id=\"ytick_5\">\n     <g id=\"text_11\">\n      <!-- 0.50 -->\n      <g style=\"fill: #262626\" transform=\"translate(32.031406 137.377266) scale(0.11 -0.11)\">\n       <use xlink:href=\"#DejaVuSans-30\"/>\n       <use xlink:href=\"#DejaVuSans-2e\" x=\"63.623047\"/>\n       <use xlink:href=\"#DejaVuSans-35\" x=\"95.410156\"/>\n       <use xlink:href=\"#DejaVuSans-30\" x=\"159.033203\"/>\n      </g>\n     </g>\n    </g>\n    <g id=\"ytick_6\">\n     <g id=\"text_12\">\n      <!-- 0.75 -->\n      <g style=\"fill: #262626\" transform=\"translate(32.031406 109.657266) scale(0.11 -0.11)\">\n       <defs>\n        <path id=\"DejaVuSans-37\" d=\"M 525 4666 \nL 3525 4666 \nL 3525 4397 \nL 1831 0 \nL 1172 0 \nL 2766 4134 \nL 525 4134 \nL 525 4666 \nz\n\" transform=\"scale(0.015625)\"/>\n       </defs>\n       <use xlink:href=\"#DejaVuSans-30\"/>\n       <use xlink:href=\"#DejaVuSans-2e\" x=\"63.623047\"/>\n       <use xlink:href=\"#DejaVuSans-37\" x=\"95.410156\"/>\n       <use xlink:href=\"#DejaVuSans-35\" x=\"159.033203\"/>\n      </g>\n     </g>\n    </g>\n    <g id=\"ytick_7\">\n     <g id=\"text_13\">\n      <!-- 1.00 -->\n      <g style=\"fill: #262626\" transform=\"translate(32.031406 81.937266) scale(0.11 -0.11)\">\n       <use xlink:href=\"#DejaVuSans-31\"/>\n       <use xlink:href=\"#DejaVuSans-2e\" x=\"63.623047\"/>\n       <use xlink:href=\"#DejaVuSans-30\" x=\"95.410156\"/>\n       <use xlink:href=\"#DejaVuSans-30\" x=\"159.033203\"/>\n      </g>\n     </g>\n    </g>\n    <g id=\"ytick_8\">\n     <g id=\"text_14\">\n      <!-- 1.25 -->\n      <g style=\"fill: #262626\" transform=\"translate(32.031406 54.217266) scale(0.11 -0.11)\">\n       <use xlink:href=\"#DejaVuSans-31\"/>\n       <use xlink:href=\"#DejaVuSans-2e\" x=\"63.623047\"/>\n       <use xlink:href=\"#DejaVuSans-32\" x=\"95.410156\"/>\n       <use xlink:href=\"#DejaVuSans-35\" x=\"159.033203\"/>\n      </g>\n     </g>\n    </g>\n    <g id=\"ytick_9\">\n     <g id=\"text_15\">\n      <!-- 1.50 -->\n      <g style=\"fill: #262626\" transform=\"translate(32.031406 26.497266) scale(0.11 -0.11)\">\n       <use xlink:href=\"#DejaVuSans-31\"/>\n       <use xlink:href=\"#DejaVuSans-2e\" x=\"63.623047\"/>\n       <use xlink:href=\"#DejaVuSans-35\" x=\"95.410156\"/>\n       <use xlink:href=\"#DejaVuSans-30\" x=\"159.033203\"/>\n      </g>\n     </g>\n    </g>\n    <g id=\"text_16\">\n     <!-- $x_2$ -->\n     <g style=\"fill: #262626\" transform=\"translate(16.318125 139.618125) rotate(-90) scale(0.12 -0.12)\">\n      <use xlink:href=\"#DejaVuSans-Oblique-78\" transform=\"translate(0 0.3125)\"/>\n      <use xlink:href=\"#DejaVuSans-32\" transform=\"translate(59.179688 -16.09375) scale(0.7)\"/>\n     </g>\n    </g>\n   </g>\n   <g id=\"PathCollection_1\">\n    <defs>\n     <path id=\"m8db1ac5cbb\" d=\"M 0 3 \nC 0.795609 3 1.55874 2.683901 2.12132 2.12132 \nC 2.683901 1.55874 3 0.795609 3 0 \nC 3 -0.795609 2.683901 -1.55874 2.12132 -2.12132 \nC 1.55874 -2.683901 0.795609 -3 0 -3 \nC -0.795609 -3 -1.55874 -2.683901 -2.12132 -2.12132 \nC -2.683901 -1.55874 -3 -0.795609 -3 0 \nC -3 0.795609 -2.683901 1.55874 -2.12132 2.12132 \nC -1.55874 2.683901 -0.795609 3 0 3 \nz\n\" style=\"stroke: #333333\"/>\n    </defs>\n    <g clip-path=\"url(#p1a19eaa5e0)\">\n     <use xlink:href=\"#m8db1ac5cbb\" x=\"124.713181\" y=\"196.558853\" style=\"fill: #4c72b0; stroke: #333333\"/>\n     <use xlink:href=\"#m8db1ac5cbb\" x=\"108.25442\" y=\"181.358259\" style=\"fill: #4c72b0; stroke: #333333\"/>\n     <use xlink:href=\"#m8db1ac5cbb\" x=\"134.310102\" y=\"197.737851\" style=\"fill: #4c72b0; stroke: #333333\"/>\n     <use xlink:href=\"#m8db1ac5cbb\" x=\"132.145509\" y=\"184.06121\" style=\"fill: #4c72b0; stroke: #333333\"/>\n     <use xlink:href=\"#m8db1ac5cbb\" x=\"229.62273\" y=\"86.115549\" style=\"fill: #4c72b0; stroke: #333333\"/>\n     <use xlink:href=\"#m8db1ac5cbb\" x=\"235.41154\" y=\"68.586312\" style=\"fill: #4c72b0; stroke: #333333\"/>\n     <use xlink:href=\"#m8db1ac5cbb\" x=\"232.487762\" y=\"61.641336\" style=\"fill: #4c72b0; stroke: #333333\"/>\n     <use xlink:href=\"#m8db1ac5cbb\" x=\"229.409082\" y=\"47.596893\" style=\"fill: #4c72b0; stroke: #333333\"/>\n     <use xlink:href=\"#m8db1ac5cbb\" x=\"239.280996\" y=\"87.26229\" style=\"fill: #4c72b0; stroke: #333333\"/>\n     <use xlink:href=\"#m8db1ac5cbb\" x=\"109.589538\" y=\"183.288471\" style=\"fill: #4c72b0; stroke: #333333\"/>\n     <use xlink:href=\"#m8db1ac5cbb\" x=\"229.865841\" y=\"69.841288\" style=\"fill: #4c72b0; stroke: #333333\"/>\n     <use xlink:href=\"#m8db1ac5cbb\" x=\"116.512636\" y=\"179.142375\" style=\"fill: #4c72b0; stroke: #333333\"/>\n     <use xlink:href=\"#m8db1ac5cbb\" x=\"123.837465\" y=\"202.450877\" style=\"fill: #4c72b0; stroke: #333333\"/>\n     <use xlink:href=\"#m8db1ac5cbb\" x=\"234.263828\" y=\"73.485721\" style=\"fill: #4c72b0; stroke: #333333\"/>\n     <use xlink:href=\"#m8db1ac5cbb\" x=\"222.543381\" y=\"76.053621\" style=\"fill: #4c72b0; stroke: #333333\"/>\n     <use xlink:href=\"#m8db1ac5cbb\" x=\"236.310743\" y=\"71.540148\" style=\"fill: #4c72b0; stroke: #333333\"/>\n     <use xlink:href=\"#m8db1ac5cbb\" x=\"127.793628\" y=\"176.046973\" style=\"fill: #4c72b0; stroke: #333333\"/>\n     <use xlink:href=\"#m8db1ac5cbb\" x=\"132.041565\" y=\"181.415499\" style=\"fill: #4c72b0; stroke: #333333\"/>\n     <use xlink:href=\"#m8db1ac5cbb\" x=\"117.967889\" y=\"180.222675\" style=\"fill: #4c72b0; stroke: #333333\"/>\n     <use xlink:href=\"#m8db1ac5cbb\" x=\"258.008523\" y=\"98.46236\" style=\"fill: #4c72b0; stroke: #333333\"/>\n     <use xlink:href=\"#m8db1ac5cbb\" x=\"239.95285\" y=\"95.639917\" style=\"fill: #4c72b0; stroke: #333333\"/>\n     <use xlink:href=\"#m8db1ac5cbb\" x=\"224.412309\" y=\"70.222744\" style=\"fill: #4c72b0; stroke: #333333\"/>\n     <use xlink:href=\"#m8db1ac5cbb\" x=\"99.008812\" y=\"186.57072\" style=\"fill: #4c72b0; stroke: #333333\"/>\n     <use xlink:href=\"#m8db1ac5cbb\" x=\"223.556125\" y=\"79.030324\" style=\"fill: #4c72b0; stroke: #333333\"/>\n     <use xlink:href=\"#m8db1ac5cbb\" x=\"237.942892\" y=\"68.158633\" style=\"fill: #4c72b0; stroke: #333333\"/>\n     <use xlink:href=\"#m8db1ac5cbb\" x=\"219.034709\" y=\"81.467075\" style=\"fill: #4c72b0; stroke: #333333\"/>\n     <use xlink:href=\"#m8db1ac5cbb\" x=\"227.0774\" y=\"85.002242\" style=\"fill: #4c72b0; stroke: #333333\"/>\n     <use xlink:href=\"#m8db1ac5cbb\" x=\"251.918946\" y=\"73.267692\" style=\"fill: #4c72b0; stroke: #333333\"/>\n     <use xlink:href=\"#m8db1ac5cbb\" x=\"215.496818\" y=\"83.127313\" style=\"fill: #4c72b0; stroke: #333333\"/>\n     <use xlink:href=\"#m8db1ac5cbb\" x=\"246.391103\" y=\"85.604762\" style=\"fill: #4c72b0; stroke: #333333\"/>\n     <use xlink:href=\"#m8db1ac5cbb\" x=\"237.264667\" y=\"69.168984\" style=\"fill: #4c72b0; stroke: #333333\"/>\n     <use xlink:href=\"#m8db1ac5cbb\" x=\"229.543118\" y=\"91.593546\" style=\"fill: #4c72b0; stroke: #333333\"/>\n     <use xlink:href=\"#m8db1ac5cbb\" x=\"233.602271\" y=\"70.416426\" style=\"fill: #4c72b0; stroke: #333333\"/>\n     <use xlink:href=\"#m8db1ac5cbb\" x=\"145.114668\" y=\"210.282874\" style=\"fill: #4c72b0; stroke: #333333\"/>\n     <use xlink:href=\"#m8db1ac5cbb\" x=\"119.780601\" y=\"182.114864\" style=\"fill: #4c72b0; stroke: #333333\"/>\n     <use xlink:href=\"#m8db1ac5cbb\" x=\"124.579232\" y=\"195.542617\" style=\"fill: #4c72b0; stroke: #333333\"/>\n     <use xlink:href=\"#m8db1ac5cbb\" x=\"119.155934\" y=\"194.104519\" style=\"fill: #4c72b0; stroke: #333333\"/>\n     <use xlink:href=\"#m8db1ac5cbb\" x=\"236.302178\" y=\"85.441104\" style=\"fill: #4c72b0; stroke: #333333\"/>\n     <use xlink:href=\"#m8db1ac5cbb\" x=\"130.476609\" y=\"181.656801\" style=\"fill: #4c72b0; stroke: #333333\"/>\n     <use xlink:href=\"#m8db1ac5cbb\" x=\"129.749585\" y=\"181.87034\" style=\"fill: #4c72b0; stroke: #333333\"/>\n     <use xlink:href=\"#m8db1ac5cbb\" x=\"121.231837\" y=\"187.337199\" style=\"fill: #4c72b0; stroke: #333333\"/>\n     <use xlink:href=\"#m8db1ac5cbb\" x=\"130.61581\" y=\"179.61793\" style=\"fill: #4c72b0; stroke: #333333\"/>\n     <use xlink:href=\"#m8db1ac5cbb\" x=\"246.818743\" y=\"77.525238\" style=\"fill: #4c72b0; stroke: #333333\"/>\n     <use xlink:href=\"#m8db1ac5cbb\" x=\"245.18473\" y=\"68.980166\" style=\"fill: #4c72b0; stroke: #333333\"/>\n     <use xlink:href=\"#m8db1ac5cbb\" x=\"128.383834\" y=\"181.67103\" style=\"fill: #4c72b0; stroke: #333333\"/>\n     <use xlink:href=\"#m8db1ac5cbb\" x=\"121.327802\" y=\"198.586881\" style=\"fill: #4c72b0; stroke: #333333\"/>\n     <use xlink:href=\"#m8db1ac5cbb\" x=\"122.304115\" y=\"196.146494\" style=\"fill: #4c72b0; stroke: #333333\"/>\n     <use xlink:href=\"#m8db1ac5cbb\" x=\"112.310481\" y=\"192.201651\" style=\"fill: #4c72b0; stroke: #333333\"/>\n     <use xlink:href=\"#m8db1ac5cbb\" x=\"124.179783\" y=\"194.259111\" style=\"fill: #4c72b0; stroke: #333333\"/>\n     <use xlink:href=\"#m8db1ac5cbb\" x=\"116.240721\" y=\"186.065155\" style=\"fill: #4c72b0; stroke: #333333\"/>\n     <use xlink:href=\"#m8db1ac5cbb\" x=\"224.377487\" y=\"80.124828\" style=\"fill: #4c72b0; stroke: #333333\"/>\n     <use xlink:href=\"#m8db1ac5cbb\" x=\"124.910937\" y=\"172.279375\" style=\"fill: #4c72b0; stroke: #333333\"/>\n     <use xlink:href=\"#m8db1ac5cbb\" x=\"121.252742\" y=\"199.75417\" style=\"fill: #4c72b0; stroke: #333333\"/>\n     <use xlink:href=\"#m8db1ac5cbb\" x=\"235.921898\" y=\"86.93046\" style=\"fill: #4c72b0; stroke: #333333\"/>\n     <use xlink:href=\"#m8db1ac5cbb\" x=\"120.257661\" y=\"184.183945\" style=\"fill: #4c72b0; stroke: #333333\"/>\n     <use xlink:href=\"#m8db1ac5cbb\" x=\"129.11591\" y=\"193.086858\" style=\"fill: #4c72b0; stroke: #333333\"/>\n     <use xlink:href=\"#m8db1ac5cbb\" x=\"123.948331\" y=\"188.4985\" style=\"fill: #4c72b0; stroke: #333333\"/>\n     <use xlink:href=\"#m8db1ac5cbb\" x=\"137.553874\" y=\"178.00173\" style=\"fill: #4c72b0; stroke: #333333\"/>\n     <use xlink:href=\"#m8db1ac5cbb\" x=\"256.218076\" y=\"86.266478\" style=\"fill: #4c72b0; stroke: #333333\"/>\n     <use xlink:href=\"#m8db1ac5cbb\" x=\"242.01589\" y=\"75.725234\" style=\"fill: #4c72b0; stroke: #333333\"/>\n     <use xlink:href=\"#m8db1ac5cbb\" x=\"112.152758\" y=\"195.284191\" style=\"fill: #4c72b0; stroke: #333333\"/>\n     <use xlink:href=\"#m8db1ac5cbb\" x=\"208.793836\" y=\"83.5877\" style=\"fill: #4c72b0; stroke: #333333\"/>\n     <use xlink:href=\"#m8db1ac5cbb\" x=\"223.926333\" y=\"76.090565\" style=\"fill: #4c72b0; stroke: #333333\"/>\n     <use xlink:href=\"#m8db1ac5cbb\" x=\"236.132988\" y=\"56.955145\" style=\"fill: #4c72b0; stroke: #333333\"/>\n     <use xlink:href=\"#m8db1ac5cbb\" x=\"242.881889\" y=\"84.154835\" style=\"fill: #4c72b0; stroke: #333333\"/>\n     <use xlink:href=\"#m8db1ac5cbb\" x=\"120.193576\" y=\"174.913218\" style=\"fill: #4c72b0; stroke: #333333\"/>\n     <use xlink:href=\"#m8db1ac5cbb\" x=\"103.78458\" y=\"195.283995\" style=\"fill: #4c72b0; stroke: #333333\"/>\n     <use xlink:href=\"#m8db1ac5cbb\" x=\"109.625818\" y=\"190.216829\" style=\"fill: #4c72b0; stroke: #333333\"/>\n     <use xlink:href=\"#m8db1ac5cbb\" x=\"125.148291\" y=\"196.937344\" style=\"fill: #4c72b0; stroke: #333333\"/>\n     <use xlink:href=\"#m8db1ac5cbb\" x=\"245.419639\" y=\"77.009475\" style=\"fill: #4c72b0; stroke: #333333\"/>\n     <use xlink:href=\"#m8db1ac5cbb\" x=\"144.313166\" y=\"169.174906\" style=\"fill: #4c72b0; stroke: #333333\"/>\n     <use xlink:href=\"#m8db1ac5cbb\" x=\"229.583076\" y=\"66.985343\" style=\"fill: #4c72b0; stroke: #333333\"/>\n     <use xlink:href=\"#m8db1ac5cbb\" x=\"239.499528\" y=\"62.582743\" style=\"fill: #4c72b0; stroke: #333333\"/>\n     <use xlink:href=\"#m8db1ac5cbb\" x=\"229.356409\" y=\"69.802017\" style=\"fill: #4c72b0; stroke: #333333\"/>\n     <use xlink:href=\"#m8db1ac5cbb\" x=\"102.576489\" y=\"189.254038\" style=\"fill: #4c72b0; stroke: #333333\"/>\n     <use xlink:href=\"#m8db1ac5cbb\" x=\"98.539796\" y=\"189.626288\" style=\"fill: #4c72b0; stroke: #333333\"/>\n     <use xlink:href=\"#m8db1ac5cbb\" x=\"236.408436\" y=\"88.179515\" style=\"fill: #4c72b0; stroke: #333333\"/>\n     <use xlink:href=\"#m8db1ac5cbb\" x=\"110.533863\" y=\"183.049257\" style=\"fill: #4c72b0; stroke: #333333\"/>\n     <use xlink:href=\"#m8db1ac5cbb\" x=\"226.204733\" y=\"91.040198\" style=\"fill: #4c72b0; stroke: #333333\"/>\n     <use xlink:href=\"#m8db1ac5cbb\" x=\"254.128467\" y=\"77.367126\" style=\"fill: #4c72b0; stroke: #333333\"/>\n     <use xlink:href=\"#m8db1ac5cbb\" x=\"115.581397\" y=\"195.022798\" style=\"fill: #4c72b0; stroke: #333333\"/>\n     <use xlink:href=\"#m8db1ac5cbb\" x=\"250.582997\" y=\"80.519436\" style=\"fill: #4c72b0; stroke: #333333\"/>\n     <use xlink:href=\"#m8db1ac5cbb\" x=\"238.736457\" y=\"74.306977\" style=\"fill: #4c72b0; stroke: #333333\"/>\n     <use xlink:href=\"#m8db1ac5cbb\" x=\"155.602225\" y=\"176.224278\" style=\"fill: #4c72b0; stroke: #333333\"/>\n     <use xlink:href=\"#m8db1ac5cbb\" x=\"230.925244\" y=\"88.353158\" style=\"fill: #4c72b0; stroke: #333333\"/>\n     <use xlink:href=\"#m8db1ac5cbb\" x=\"103.651317\" y=\"186.38212\" style=\"fill: #4c72b0; stroke: #333333\"/>\n     <use xlink:href=\"#m8db1ac5cbb\" x=\"225.174396\" y=\"89.750326\" style=\"fill: #4c72b0; stroke: #333333\"/>\n     <use xlink:href=\"#m8db1ac5cbb\" x=\"140.17062\" y=\"178.862503\" style=\"fill: #4c72b0; stroke: #333333\"/>\n     <use xlink:href=\"#m8db1ac5cbb\" x=\"232.255192\" y=\"61.348506\" style=\"fill: #4c72b0; stroke: #333333\"/>\n     <use xlink:href=\"#m8db1ac5cbb\" x=\"109.962609\" y=\"190.7486\" style=\"fill: #4c72b0; stroke: #333333\"/>\n     <use xlink:href=\"#m8db1ac5cbb\" x=\"232.881603\" y=\"86.9717\" style=\"fill: #4c72b0; stroke: #333333\"/>\n     <use xlink:href=\"#m8db1ac5cbb\" x=\"124.462419\" y=\"189.195165\" style=\"fill: #4c72b0; stroke: #333333\"/>\n     <use xlink:href=\"#m8db1ac5cbb\" x=\"127.017763\" y=\"199.477257\" style=\"fill: #4c72b0; stroke: #333333\"/>\n     <use xlink:href=\"#m8db1ac5cbb\" x=\"233.444991\" y=\"69.426747\" style=\"fill: #4c72b0; stroke: #333333\"/>\n     <use xlink:href=\"#m8db1ac5cbb\" x=\"102.953228\" y=\"182.613347\" style=\"fill: #4c72b0; stroke: #333333\"/>\n     <use xlink:href=\"#m8db1ac5cbb\" x=\"224.996423\" y=\"71.431325\" style=\"fill: #4c72b0; stroke: #333333\"/>\n     <use xlink:href=\"#m8db1ac5cbb\" x=\"223.880579\" y=\"97.77066\" style=\"fill: #4c72b0; stroke: #333333\"/>\n     <use xlink:href=\"#m8db1ac5cbb\" x=\"231.610898\" y=\"91.185872\" style=\"fill: #4c72b0; stroke: #333333\"/>\n     <use xlink:href=\"#m8db1ac5cbb\" x=\"132.621368\" y=\"195.034702\" style=\"fill: #4c72b0; stroke: #333333\"/>\n     <use xlink:href=\"#m8db1ac5cbb\" x=\"130.729748\" y=\"201.164315\" style=\"fill: #4c72b0; stroke: #333333\"/>\n     <use xlink:href=\"#m8db1ac5cbb\" x=\"127.338063\" y=\"172.654013\" style=\"fill: #4c72b0; stroke: #333333\"/>\n     <use xlink:href=\"#m8db1ac5cbb\" x=\"204.938002\" y=\"86.594097\" style=\"fill: #4c72b0; stroke: #333333\"/>\n     <use xlink:href=\"#m8db1ac5cbb\" x=\"236.458863\" y=\"84.455113\" style=\"fill: #4c72b0; stroke: #333333\"/>\n    </g>\n   </g>\n   <g id=\"PathCollection_2\">\n    <defs>\n     <path id=\"mb0f2ce1602\" d=\"M 0 3 \nC 0.795609 3 1.55874 2.683901 2.12132 2.12132 \nC 2.683901 1.55874 3 0.795609 3 0 \nC 3 -0.795609 2.683901 -1.55874 2.12132 -2.12132 \nC 1.55874 -2.683901 0.795609 -3 0 -3 \nC -0.795609 -3 -1.55874 -2.683901 -2.12132 -2.12132 \nC -2.683901 -1.55874 -3 -0.795609 -3 0 \nC -3 0.795609 -2.683901 1.55874 -2.12132 2.12132 \nC -1.55874 2.683901 -0.795609 3 0 3 \nz\n\" style=\"stroke: #333333\"/>\n    </defs>\n    <g clip-path=\"url(#p1a19eaa5e0)\">\n     <use xlink:href=\"#mb0f2ce1602\" x=\"113.92348\" y=\"75.18289\" style=\"fill: #dd8452; stroke: #333333\"/>\n     <use xlink:href=\"#mb0f2ce1602\" x=\"142.151302\" y=\"72.504264\" style=\"fill: #dd8452; stroke: #333333\"/>\n     <use xlink:href=\"#mb0f2ce1602\" x=\"110.656323\" y=\"69.030936\" style=\"fill: #dd8452; stroke: #333333\"/>\n     <use xlink:href=\"#mb0f2ce1602\" x=\"241.458596\" y=\"167.606485\" style=\"fill: #dd8452; stroke: #333333\"/>\n     <use xlink:href=\"#mb0f2ce1602\" x=\"222.480655\" y=\"197.683829\" style=\"fill: #dd8452; stroke: #333333\"/>\n     <use xlink:href=\"#mb0f2ce1602\" x=\"231.488691\" y=\"184.855432\" style=\"fill: #dd8452; stroke: #333333\"/>\n     <use xlink:href=\"#mb0f2ce1602\" x=\"237.590846\" y=\"189.445652\" style=\"fill: #dd8452; stroke: #333333\"/>\n     <use xlink:href=\"#mb0f2ce1602\" x=\"222.954346\" y=\"205.434752\" style=\"fill: #dd8452; stroke: #333333\"/>\n     <use xlink:href=\"#mb0f2ce1602\" x=\"232.989012\" y=\"201.31138\" style=\"fill: #dd8452; stroke: #333333\"/>\n     <use xlink:href=\"#mb0f2ce1602\" x=\"133.472466\" y=\"66.073571\" style=\"fill: #dd8452; stroke: #333333\"/>\n     <use xlink:href=\"#mb0f2ce1602\" x=\"106.187995\" y=\"88.156727\" style=\"fill: #dd8452; stroke: #333333\"/>\n     <use xlink:href=\"#mb0f2ce1602\" x=\"127.174305\" y=\"72.061265\" style=\"fill: #dd8452; stroke: #333333\"/>\n     <use xlink:href=\"#mb0f2ce1602\" x=\"238.054438\" y=\"145.919037\" style=\"fill: #dd8452; stroke: #333333\"/>\n     <use xlink:href=\"#mb0f2ce1602\" x=\"112.894508\" y=\"80.383972\" style=\"fill: #dd8452; stroke: #333333\"/>\n     <use xlink:href=\"#mb0f2ce1602\" x=\"226.961882\" y=\"187.730305\" style=\"fill: #dd8452; stroke: #333333\"/>\n     <use xlink:href=\"#mb0f2ce1602\" x=\"116.230813\" y=\"65.68384\" style=\"fill: #dd8452; stroke: #333333\"/>\n     <use xlink:href=\"#mb0f2ce1602\" x=\"122.176331\" y=\"89.708161\" style=\"fill: #dd8452; stroke: #333333\"/>\n     <use xlink:href=\"#mb0f2ce1602\" x=\"113.365289\" y=\"75.358027\" style=\"fill: #dd8452; stroke: #333333\"/>\n     <use xlink:href=\"#mb0f2ce1602\" x=\"121.968894\" y=\"84.98307\" style=\"fill: #dd8452; stroke: #333333\"/>\n     <use xlink:href=\"#mb0f2ce1602\" x=\"145.235645\" y=\"70.729228\" style=\"fill: #dd8452; stroke: #333333\"/>\n     <use xlink:href=\"#mb0f2ce1602\" x=\"225.005708\" y=\"179.186344\" style=\"fill: #dd8452; stroke: #333333\"/>\n     <use xlink:href=\"#mb0f2ce1602\" x=\"218.362914\" y=\"178.460871\" style=\"fill: #dd8452; stroke: #333333\"/>\n     <use xlink:href=\"#mb0f2ce1602\" x=\"144.994061\" y=\"66.310145\" style=\"fill: #dd8452; stroke: #333333\"/>\n     <use xlink:href=\"#mb0f2ce1602\" x=\"222.06579\" y=\"189.298142\" style=\"fill: #dd8452; stroke: #333333\"/>\n     <use xlink:href=\"#mb0f2ce1602\" x=\"196.404423\" y=\"199.996535\" style=\"fill: #dd8452; stroke: #333333\"/>\n     <use xlink:href=\"#mb0f2ce1602\" x=\"139.563771\" y=\"93.615532\" style=\"fill: #dd8452; stroke: #333333\"/>\n     <use xlink:href=\"#mb0f2ce1602\" x=\"116.584381\" y=\"76.308475\" style=\"fill: #dd8452; stroke: #333333\"/>\n     <use xlink:href=\"#mb0f2ce1602\" x=\"248.324436\" y=\"204.558965\" style=\"fill: #dd8452; stroke: #333333\"/>\n     <use xlink:href=\"#mb0f2ce1602\" x=\"245.240747\" y=\"188.524661\" style=\"fill: #dd8452; stroke: #333333\"/>\n     <use xlink:href=\"#mb0f2ce1602\" x=\"221.460628\" y=\"183.514322\" style=\"fill: #dd8452; stroke: #333333\"/>\n     <use xlink:href=\"#mb0f2ce1602\" x=\"123.670768\" y=\"84.413331\" style=\"fill: #dd8452; stroke: #333333\"/>\n     <use xlink:href=\"#mb0f2ce1602\" x=\"233.117556\" y=\"192.910482\" style=\"fill: #dd8452; stroke: #333333\"/>\n     <use xlink:href=\"#mb0f2ce1602\" x=\"249.929344\" y=\"202.363023\" style=\"fill: #dd8452; stroke: #333333\"/>\n     <use xlink:href=\"#mb0f2ce1602\" x=\"225.808717\" y=\"179.217737\" style=\"fill: #dd8452; stroke: #333333\"/>\n     <use xlink:href=\"#mb0f2ce1602\" x=\"242.318356\" y=\"185.230788\" style=\"fill: #dd8452; stroke: #333333\"/>\n     <use xlink:href=\"#mb0f2ce1602\" x=\"112.271697\" y=\"83.969413\" style=\"fill: #dd8452; stroke: #333333\"/>\n     <use xlink:href=\"#mb0f2ce1602\" x=\"135.630342\" y=\"84.317468\" style=\"fill: #dd8452; stroke: #333333\"/>\n     <use xlink:href=\"#mb0f2ce1602\" x=\"127.529809\" y=\"80.000037\" style=\"fill: #dd8452; stroke: #333333\"/>\n     <use xlink:href=\"#mb0f2ce1602\" x=\"119.049944\" y=\"65.574885\" style=\"fill: #dd8452; stroke: #333333\"/>\n     <use xlink:href=\"#mb0f2ce1602\" x=\"239.905093\" y=\"192.078363\" style=\"fill: #dd8452; stroke: #333333\"/>\n     <use xlink:href=\"#mb0f2ce1602\" x=\"235.937944\" y=\"190.081151\" style=\"fill: #dd8452; stroke: #333333\"/>\n     <use xlink:href=\"#mb0f2ce1602\" x=\"122.539085\" y=\"71.159023\" style=\"fill: #dd8452; stroke: #333333\"/>\n     <use xlink:href=\"#mb0f2ce1602\" x=\"223.27116\" y=\"165.437735\" style=\"fill: #dd8452; stroke: #333333\"/>\n     <use xlink:href=\"#mb0f2ce1602\" x=\"110.308873\" y=\"91.221045\" style=\"fill: #dd8452; stroke: #333333\"/>\n     <use xlink:href=\"#mb0f2ce1602\" x=\"243.155725\" y=\"190.268697\" style=\"fill: #dd8452; stroke: #333333\"/>\n     <use xlink:href=\"#mb0f2ce1602\" x=\"236.922178\" y=\"194.888703\" style=\"fill: #dd8452; stroke: #333333\"/>\n     <use xlink:href=\"#mb0f2ce1602\" x=\"112.346814\" y=\"75.056117\" style=\"fill: #dd8452; stroke: #333333\"/>\n     <use xlink:href=\"#mb0f2ce1602\" x=\"105.407234\" y=\"93.364081\" style=\"fill: #dd8452; stroke: #333333\"/>\n     <use xlink:href=\"#mb0f2ce1602\" x=\"130.973324\" y=\"79.531521\" style=\"fill: #dd8452; stroke: #333333\"/>\n     <use xlink:href=\"#mb0f2ce1602\" x=\"232.138319\" y=\"191.838772\" style=\"fill: #dd8452; stroke: #333333\"/>\n     <use xlink:href=\"#mb0f2ce1602\" x=\"238.102102\" y=\"171.643115\" style=\"fill: #dd8452; stroke: #333333\"/>\n     <use xlink:href=\"#mb0f2ce1602\" x=\"233.426631\" y=\"197.209258\" style=\"fill: #dd8452; stroke: #333333\"/>\n     <use xlink:href=\"#mb0f2ce1602\" x=\"232.615368\" y=\"183.11632\" style=\"fill: #dd8452; stroke: #333333\"/>\n     <use xlink:href=\"#mb0f2ce1602\" x=\"145.744129\" y=\"86.720533\" style=\"fill: #dd8452; stroke: #333333\"/>\n     <use xlink:href=\"#mb0f2ce1602\" x=\"111.501972\" y=\"72.303721\" style=\"fill: #dd8452; stroke: #333333\"/>\n     <use xlink:href=\"#mb0f2ce1602\" x=\"217.704846\" y=\"168.33091\" style=\"fill: #dd8452; stroke: #333333\"/>\n     <use xlink:href=\"#mb0f2ce1602\" x=\"245.421225\" y=\"193.840345\" style=\"fill: #dd8452; stroke: #333333\"/>\n     <use xlink:href=\"#mb0f2ce1602\" x=\"102.468358\" y=\"62.746394\" style=\"fill: #dd8452; stroke: #333333\"/>\n     <use xlink:href=\"#mb0f2ce1602\" x=\"232.401739\" y=\"188.117204\" style=\"fill: #dd8452; stroke: #333333\"/>\n     <use xlink:href=\"#mb0f2ce1602\" x=\"227.353265\" y=\"181.731965\" style=\"fill: #dd8452; stroke: #333333\"/>\n     <use xlink:href=\"#mb0f2ce1602\" x=\"122.797432\" y=\"72.054022\" style=\"fill: #dd8452; stroke: #333333\"/>\n     <use xlink:href=\"#mb0f2ce1602\" x=\"240.233982\" y=\"201.108157\" style=\"fill: #dd8452; stroke: #333333\"/>\n     <use xlink:href=\"#mb0f2ce1602\" x=\"104.453336\" y=\"63.591244\" style=\"fill: #dd8452; stroke: #333333\"/>\n     <use xlink:href=\"#mb0f2ce1602\" x=\"138.662767\" y=\"76.475524\" style=\"fill: #dd8452; stroke: #333333\"/>\n     <use xlink:href=\"#mb0f2ce1602\" x=\"110.764523\" y=\"70.151182\" style=\"fill: #dd8452; stroke: #333333\"/>\n     <use xlink:href=\"#mb0f2ce1602\" x=\"133.199404\" y=\"97.259027\" style=\"fill: #dd8452; stroke: #333333\"/>\n     <use xlink:href=\"#mb0f2ce1602\" x=\"108.343623\" y=\"100.369132\" style=\"fill: #dd8452; stroke: #333333\"/>\n     <use xlink:href=\"#mb0f2ce1602\" x=\"249.001723\" y=\"187.816562\" style=\"fill: #dd8452; stroke: #333333\"/>\n     <use xlink:href=\"#mb0f2ce1602\" x=\"250.401686\" y=\"203.94069\" style=\"fill: #dd8452; stroke: #333333\"/>\n     <use xlink:href=\"#mb0f2ce1602\" x=\"125.722111\" y=\"78.120646\" style=\"fill: #dd8452; stroke: #333333\"/>\n     <use xlink:href=\"#mb0f2ce1602\" x=\"106.999635\" y=\"70.332796\" style=\"fill: #dd8452; stroke: #333333\"/>\n     <use xlink:href=\"#mb0f2ce1602\" x=\"226.645835\" y=\"200.382684\" style=\"fill: #dd8452; stroke: #333333\"/>\n     <use xlink:href=\"#mb0f2ce1602\" x=\"120.768608\" y=\"67.167513\" style=\"fill: #dd8452; stroke: #333333\"/>\n     <use xlink:href=\"#mb0f2ce1602\" x=\"115.584097\" y=\"86.5495\" style=\"fill: #dd8452; stroke: #333333\"/>\n     <use xlink:href=\"#mb0f2ce1602\" x=\"231.156842\" y=\"200.116892\" style=\"fill: #dd8452; stroke: #333333\"/>\n     <use xlink:href=\"#mb0f2ce1602\" x=\"224.585035\" y=\"186.265516\" style=\"fill: #dd8452; stroke: #333333\"/>\n     <use xlink:href=\"#mb0f2ce1602\" x=\"231.098102\" y=\"191.088236\" style=\"fill: #dd8452; stroke: #333333\"/>\n     <use xlink:href=\"#mb0f2ce1602\" x=\"128.273474\" y=\"69.358873\" style=\"fill: #dd8452; stroke: #333333\"/>\n     <use xlink:href=\"#mb0f2ce1602\" x=\"118.41382\" y=\"103.281828\" style=\"fill: #dd8452; stroke: #333333\"/>\n     <use xlink:href=\"#mb0f2ce1602\" x=\"215.543154\" y=\"173.482223\" style=\"fill: #dd8452; stroke: #333333\"/>\n     <use xlink:href=\"#mb0f2ce1602\" x=\"223.957177\" y=\"204.408074\" style=\"fill: #dd8452; stroke: #333333\"/>\n     <use xlink:href=\"#mb0f2ce1602\" x=\"122.321454\" y=\"87.308044\" style=\"fill: #dd8452; stroke: #333333\"/>\n     <use xlink:href=\"#mb0f2ce1602\" x=\"138.351994\" y=\"71.782684\" style=\"fill: #dd8452; stroke: #333333\"/>\n     <use xlink:href=\"#mb0f2ce1602\" x=\"111.754739\" y=\"93.090609\" style=\"fill: #dd8452; stroke: #333333\"/>\n     <use xlink:href=\"#mb0f2ce1602\" x=\"242.61305\" y=\"167.466514\" style=\"fill: #dd8452; stroke: #333333\"/>\n     <use xlink:href=\"#mb0f2ce1602\" x=\"216.836277\" y=\"182.395922\" style=\"fill: #dd8452; stroke: #333333\"/>\n     <use xlink:href=\"#mb0f2ce1602\" x=\"114.249269\" y=\"83.159373\" style=\"fill: #dd8452; stroke: #333333\"/>\n     <use xlink:href=\"#mb0f2ce1602\" x=\"225.77513\" y=\"198.218055\" style=\"fill: #dd8452; stroke: #333333\"/>\n     <use xlink:href=\"#mb0f2ce1602\" x=\"229.69414\" y=\"198.701191\" style=\"fill: #dd8452; stroke: #333333\"/>\n     <use xlink:href=\"#mb0f2ce1602\" x=\"115.068353\" y=\"69.382348\" style=\"fill: #dd8452; stroke: #333333\"/>\n     <use xlink:href=\"#mb0f2ce1602\" x=\"103.417404\" y=\"77.224954\" style=\"fill: #dd8452; stroke: #333333\"/>\n     <use xlink:href=\"#mb0f2ce1602\" x=\"235.223397\" y=\"198.665188\" style=\"fill: #dd8452; stroke: #333333\"/>\n     <use xlink:href=\"#mb0f2ce1602\" x=\"239.424305\" y=\"207.061059\" style=\"fill: #dd8452; stroke: #333333\"/>\n     <use xlink:href=\"#mb0f2ce1602\" x=\"225.116032\" y=\"188.112569\" style=\"fill: #dd8452; stroke: #333333\"/>\n     <use xlink:href=\"#mb0f2ce1602\" x=\"111.92333\" y=\"82.022076\" style=\"fill: #dd8452; stroke: #333333\"/>\n     <use xlink:href=\"#mb0f2ce1602\" x=\"127.86217\" y=\"80.009495\" style=\"fill: #dd8452; stroke: #333333\"/>\n     <use xlink:href=\"#mb0f2ce1602\" x=\"233.303704\" y=\"190.364274\" style=\"fill: #dd8452; stroke: #333333\"/>\n    </g>\n   </g>\n   <g id=\"patch_3\">\n    <path d=\"M 66.023594 244.078125 \nL 66.023594 22.318125 \n\" style=\"fill: none; stroke: #ffffff; stroke-width: 1.25; stroke-linejoin: miter; stroke-linecap: square\"/>\n   </g>\n   <g id=\"patch_4\">\n    <path d=\"M 287.783594 244.078125 \nL 287.783594 22.318125 \n\" style=\"fill: none; stroke: #ffffff; stroke-width: 1.25; stroke-linejoin: miter; stroke-linecap: square\"/>\n   </g>\n   <g id=\"patch_5\">\n    <path d=\"M 66.023594 244.078125 \nL 287.783594 244.078125 \n\" style=\"fill: none; stroke: #ffffff; stroke-width: 1.25; stroke-linejoin: miter; stroke-linecap: square\"/>\n   </g>\n   <g id=\"patch_6\">\n    <path d=\"M 66.023594 22.318125 \nL 287.783594 22.318125 \n\" style=\"fill: none; stroke: #ffffff; stroke-width: 1.25; stroke-linejoin: miter; stroke-linecap: square\"/>\n   </g>\n   <g id=\"text_17\">\n    <!-- Dataset samples -->\n    <g style=\"fill: #262626\" transform=\"translate(126.560781 16.318125) scale(0.12 -0.12)\">\n     <defs>\n      <path id=\"DejaVuSans-44\" d=\"M 1259 4147 \nL 1259 519 \nL 2022 519 \nQ 2988 519 3436 956 \nQ 3884 1394 3884 2338 \nQ 3884 3275 3436 3711 \nQ 2988 4147 2022 4147 \nL 1259 4147 \nz\nM 628 4666 \nL 1925 4666 \nQ 3281 4666 3915 4102 \nQ 4550 3538 4550 2338 \nQ 4550 1131 3912 565 \nQ 3275 0 1925 0 \nL 628 0 \nL 628 4666 \nz\n\" transform=\"scale(0.015625)\"/>\n      <path id=\"DejaVuSans-61\" d=\"M 2194 1759 \nQ 1497 1759 1228 1600 \nQ 959 1441 959 1056 \nQ 959 750 1161 570 \nQ 1363 391 1709 391 \nQ 2188 391 2477 730 \nQ 2766 1069 2766 1631 \nL 2766 1759 \nL 2194 1759 \nz\nM 3341 1997 \nL 3341 0 \nL 2766 0 \nL 2766 531 \nQ 2569 213 2275 61 \nQ 1981 -91 1556 -91 \nQ 1019 -91 701 211 \nQ 384 513 384 1019 \nQ 384 1609 779 1909 \nQ 1175 2209 1959 2209 \nL 2766 2209 \nL 2766 2266 \nQ 2766 2663 2505 2880 \nQ 2244 3097 1772 3097 \nQ 1472 3097 1187 3025 \nQ 903 2953 641 2809 \nL 641 3341 \nQ 956 3463 1253 3523 \nQ 1550 3584 1831 3584 \nQ 2591 3584 2966 3190 \nQ 3341 2797 3341 1997 \nz\n\" transform=\"scale(0.015625)\"/>\n      <path id=\"DejaVuSans-74\" d=\"M 1172 4494 \nL 1172 3500 \nL 2356 3500 \nL 2356 3053 \nL 1172 3053 \nL 1172 1153 \nQ 1172 725 1289 603 \nQ 1406 481 1766 481 \nL 2356 481 \nL 2356 0 \nL 1766 0 \nQ 1100 0 847 248 \nQ 594 497 594 1153 \nL 594 3053 \nL 172 3053 \nL 172 3500 \nL 594 3500 \nL 594 4494 \nL 1172 4494 \nz\n\" transform=\"scale(0.015625)\"/>\n      <path id=\"DejaVuSans-73\" d=\"M 2834 3397 \nL 2834 2853 \nQ 2591 2978 2328 3040 \nQ 2066 3103 1784 3103 \nQ 1356 3103 1142 2972 \nQ 928 2841 928 2578 \nQ 928 2378 1081 2264 \nQ 1234 2150 1697 2047 \nL 1894 2003 \nQ 2506 1872 2764 1633 \nQ 3022 1394 3022 966 \nQ 3022 478 2636 193 \nQ 2250 -91 1575 -91 \nQ 1294 -91 989 -36 \nQ 684 19 347 128 \nL 347 722 \nQ 666 556 975 473 \nQ 1284 391 1588 391 \nQ 1994 391 2212 530 \nQ 2431 669 2431 922 \nQ 2431 1156 2273 1281 \nQ 2116 1406 1581 1522 \nL 1381 1569 \nQ 847 1681 609 1914 \nQ 372 2147 372 2553 \nQ 372 3047 722 3315 \nQ 1072 3584 1716 3584 \nQ 2034 3584 2315 3537 \nQ 2597 3491 2834 3397 \nz\n\" transform=\"scale(0.015625)\"/>\n      <path id=\"DejaVuSans-65\" d=\"M 3597 1894 \nL 3597 1613 \nL 953 1613 \nQ 991 1019 1311 708 \nQ 1631 397 2203 397 \nQ 2534 397 2845 478 \nQ 3156 559 3463 722 \nL 3463 178 \nQ 3153 47 2828 -22 \nQ 2503 -91 2169 -91 \nQ 1331 -91 842 396 \nQ 353 884 353 1716 \nQ 353 2575 817 3079 \nQ 1281 3584 2069 3584 \nQ 2775 3584 3186 3129 \nQ 3597 2675 3597 1894 \nz\nM 3022 2063 \nQ 3016 2534 2758 2815 \nQ 2500 3097 2075 3097 \nQ 1594 3097 1305 2825 \nQ 1016 2553 972 2059 \nL 3022 2063 \nz\n\" transform=\"scale(0.015625)\"/>\n      <path id=\"DejaVuSans-20\" transform=\"scale(0.015625)\"/>\n      <path id=\"DejaVuSans-6d\" d=\"M 3328 2828 \nQ 3544 3216 3844 3400 \nQ 4144 3584 4550 3584 \nQ 5097 3584 5394 3201 \nQ 5691 2819 5691 2113 \nL 5691 0 \nL 5113 0 \nL 5113 2094 \nQ 5113 2597 4934 2840 \nQ 4756 3084 4391 3084 \nQ 3944 3084 3684 2787 \nQ 3425 2491 3425 1978 \nL 3425 0 \nL 2847 0 \nL 2847 2094 \nQ 2847 2600 2669 2842 \nQ 2491 3084 2119 3084 \nQ 1678 3084 1418 2786 \nQ 1159 2488 1159 1978 \nL 1159 0 \nL 581 0 \nL 581 3500 \nL 1159 3500 \nL 1159 2956 \nQ 1356 3278 1631 3431 \nQ 1906 3584 2284 3584 \nQ 2666 3584 2933 3390 \nQ 3200 3197 3328 2828 \nz\n\" transform=\"scale(0.015625)\"/>\n      <path id=\"DejaVuSans-70\" d=\"M 1159 525 \nL 1159 -1331 \nL 581 -1331 \nL 581 3500 \nL 1159 3500 \nL 1159 2969 \nQ 1341 3281 1617 3432 \nQ 1894 3584 2278 3584 \nQ 2916 3584 3314 3078 \nQ 3713 2572 3713 1747 \nQ 3713 922 3314 415 \nQ 2916 -91 2278 -91 \nQ 1894 -91 1617 61 \nQ 1341 213 1159 525 \nz\nM 3116 1747 \nQ 3116 2381 2855 2742 \nQ 2594 3103 2138 3103 \nQ 1681 3103 1420 2742 \nQ 1159 2381 1159 1747 \nQ 1159 1113 1420 752 \nQ 1681 391 2138 391 \nQ 2594 391 2855 752 \nQ 3116 1113 3116 1747 \nz\n\" transform=\"scale(0.015625)\"/>\n      <path id=\"DejaVuSans-6c\" d=\"M 603 4863 \nL 1178 4863 \nL 1178 0 \nL 603 0 \nL 603 4863 \nz\n\" transform=\"scale(0.015625)\"/>\n     </defs>\n     <use xlink:href=\"#DejaVuSans-44\"/>\n     <use xlink:href=\"#DejaVuSans-61\" x=\"77.001953\"/>\n     <use xlink:href=\"#DejaVuSans-74\" x=\"138.28125\"/>\n     <use xlink:href=\"#DejaVuSans-61\" x=\"177.490234\"/>\n     <use xlink:href=\"#DejaVuSans-73\" x=\"238.769531\"/>\n     <use xlink:href=\"#DejaVuSans-65\" x=\"290.869141\"/>\n     <use xlink:href=\"#DejaVuSans-74\" x=\"352.392578\"/>\n     <use xlink:href=\"#DejaVuSans-20\" x=\"391.601562\"/>\n     <use xlink:href=\"#DejaVuSans-73\" x=\"423.388672\"/>\n     <use xlink:href=\"#DejaVuSans-61\" x=\"475.488281\"/>\n     <use xlink:href=\"#DejaVuSans-6d\" x=\"536.767578\"/>\n     <use xlink:href=\"#DejaVuSans-70\" x=\"634.179688\"/>\n     <use xlink:href=\"#DejaVuSans-6c\" x=\"697.65625\"/>\n     <use xlink:href=\"#DejaVuSans-65\" x=\"725.439453\"/>\n     <use xlink:href=\"#DejaVuSans-73\" x=\"786.962891\"/>\n    </g>\n   </g>\n   <g id=\"legend_1\">\n    <g id=\"patch_7\">\n     <path d=\"M 73.723594 150.994063 \nL 148.356875 150.994063 \nQ 150.556875 150.994063 150.556875 148.794063 \nL 150.556875 117.602188 \nQ 150.556875 115.402188 148.356875 115.402188 \nL 73.723594 115.402188 \nQ 71.523594 115.402188 71.523594 117.602188 \nL 71.523594 148.794063 \nQ 71.523594 150.994063 73.723594 150.994063 \nz\n\" style=\"fill: #eaeaf2; opacity: 0.8; stroke: #cccccc; stroke-linejoin: miter\"/>\n    </g>\n    <g id=\"PathCollection_3\">\n     <g>\n      <use xlink:href=\"#m8db1ac5cbb\" x=\"86.923594\" y=\"125.272969\" style=\"fill: #4c72b0; stroke: #333333\"/>\n     </g>\n    </g>\n    <g id=\"text_18\">\n     <!-- Class 0 -->\n     <g style=\"fill: #262626\" transform=\"translate(106.723594 128.160469) scale(0.11 -0.11)\">\n      <defs>\n       <path id=\"DejaVuSans-43\" d=\"M 4122 4306 \nL 4122 3641 \nQ 3803 3938 3442 4084 \nQ 3081 4231 2675 4231 \nQ 1875 4231 1450 3742 \nQ 1025 3253 1025 2328 \nQ 1025 1406 1450 917 \nQ 1875 428 2675 428 \nQ 3081 428 3442 575 \nQ 3803 722 4122 1019 \nL 4122 359 \nQ 3791 134 3420 21 \nQ 3050 -91 2638 -91 \nQ 1578 -91 968 557 \nQ 359 1206 359 2328 \nQ 359 3453 968 4101 \nQ 1578 4750 2638 4750 \nQ 3056 4750 3426 4639 \nQ 3797 4528 4122 4306 \nz\n\" transform=\"scale(0.015625)\"/>\n      </defs>\n      <use xlink:href=\"#DejaVuSans-43\"/>\n      <use xlink:href=\"#DejaVuSans-6c\" x=\"69.824219\"/>\n      <use xlink:href=\"#DejaVuSans-61\" x=\"97.607422\"/>\n      <use xlink:href=\"#DejaVuSans-73\" x=\"158.886719\"/>\n      <use xlink:href=\"#DejaVuSans-73\" x=\"210.986328\"/>\n      <use xlink:href=\"#DejaVuSans-20\" x=\"263.085938\"/>\n      <use xlink:href=\"#DejaVuSans-30\" x=\"294.873047\"/>\n     </g>\n    </g>\n    <g id=\"PathCollection_4\">\n     <g>\n      <use xlink:href=\"#mb0f2ce1602\" x=\"86.923594\" y=\"141.418906\" style=\"fill: #dd8452; stroke: #333333\"/>\n     </g>\n    </g>\n    <g id=\"text_19\">\n     <!-- Class 1 -->\n     <g style=\"fill: #262626\" transform=\"translate(106.723594 144.306406) scale(0.11 -0.11)\">\n      <use xlink:href=\"#DejaVuSans-43\"/>\n      <use xlink:href=\"#DejaVuSans-6c\" x=\"69.824219\"/>\n      <use xlink:href=\"#DejaVuSans-61\" x=\"97.607422\"/>\n      <use xlink:href=\"#DejaVuSans-73\" x=\"158.886719\"/>\n      <use xlink:href=\"#DejaVuSans-73\" x=\"210.986328\"/>\n      <use xlink:href=\"#DejaVuSans-20\" x=\"263.085938\"/>\n      <use xlink:href=\"#DejaVuSans-31\" x=\"294.873047\"/>\n     </g>\n    </g>\n   </g>\n  </g>\n </g>\n <defs>\n  <clipPath id=\"p1a19eaa5e0\">\n   <rect x=\"66.023594\" y=\"22.318125\" width=\"221.76\" height=\"221.76\"/>\n  </clipPath>\n </defs>\n</svg>\n",
      "text/plain": [
       "<Figure size 2000x2000 with 1 Axes>"
      ]
     },
     "metadata": {},
     "output_type": "display_data"
    }
   ],
   "source": [
    "def visualize_classification(model, data, label):\n",
    "    data_0 = data[label == 0]\n",
    "    data_1 = data[label == 1]\n",
    "\n",
    "    fig = plt.figure(figsize=(4, 4), dpi=500)\n",
    "    plt.scatter(data_0[:, 0], data_0[:, 1], edgecolor=\"#333\", label=\"Class 0\")\n",
    "    plt.scatter(data_1[:, 0], data_1[:, 1], edgecolor=\"#333\", label=\"Class 1\")\n",
    "    plt.title(\"Dataset samples\")\n",
    "    plt.ylabel(r\"$x_2$\")\n",
    "    plt.xlabel(r\"$x_1$\")\n",
    "    plt.legend()\n",
    "\n",
    "    # Let's make use of a lot of operations we have learned above\n",
    "    c0 = np.array(to_rgba(\"C0\"))\n",
    "    c1 = np.array(to_rgba(\"C1\"))\n",
    "    x1 = jnp.arange(-0.5, 1.5, step=0.01)\n",
    "    x2 = jnp.arange(-0.5, 1.5, step=0.01)\n",
    "    xx1, xx2 = jnp.meshgrid(x1, x2, indexing=\"ij\")  # Meshgrid function as in numpy\n",
    "    model_inputs = np.stack([xx1, xx2], axis=-1)\n",
    "    logits = model(model_inputs)\n",
    "    preds = nn.sigmoid(logits)\n",
    "    output_image = (1 - preds) * c0[None, None] + preds * c1[\n",
    "        None, None\n",
    "    ]  # Specifying \"None\" in a dimension creates a new one\n",
    "    output_image = jax.device_get(\n",
    "        output_image\n",
    "    )  # Convert to numpy array. This only works for tensors on CPU, hence first push to CPU\n",
    "    plt.imshow(output_image, origin=\"lower\", extent=(-0.5, 1.5, -0.5, 1.5))\n",
    "    plt.grid(False)\n",
    "    return fig\n",
    "\n",
    "\n",
    "_ = visualize_classification(trained_model, dataset.data, dataset.label)\n",
    "plt.show()"
   ]
  },
  {
   "cell_type": "markdown",
   "id": "a55bb0f7",
   "metadata": {},
   "source": [
    "The decision boundaries might not look exactly as in the figure in the preamble of this section, since this has been created with the PyTorch version of the tutorial. Nevertheless, the result on the accuracy metric should be the approximately the same. "
   ]
  },
  {
   "cell_type": "markdown",
   "id": "e32cc81e",
   "metadata": {},
   "source": [
    "### Conclusion\n",
    "\n",
    "This concludes our tutorial on training a neural network with JAX. While the functional programming perspective of JAX may seem very different to PyTorch at first, it enables a considerable speedup in training, not only for tiny models like here. If you are interested in seeing more practical use cases of JAX, we recommend checking out our other JAX Tutorials, such as:\n",
    "\n",
    "* [Tutorial 5 (JAX): Inception, ResNet and DenseNet](https://uvadlc-notebooks.readthedocs.io/en/latest/tutorial_notebooks/JAX/tutorial5/Inception_ResNet_DenseNet.html) gives an intro to training convolutional classifiers on CIFAR10;\n",
    "* [Tutorial 6 (JAX): Transformers and Multi-Head Attention](https://uvadlc-notebooks.readthedocs.io/en/latest/tutorial_notebooks/JAX/tutorial6/Transformers_and_MHAttention.html) builds a Transformer from scratch with Flax;\n",
    "* [Tutorial 7 (JAX): Graph Neural Networks](https://uvadlc-notebooks.readthedocs.io/en/latest/tutorial_notebooks/JAX/tutorial7/GNN_overview.html) implements basic Graph Neural Network layers;\n",
    "* [Tutorial 9 (JAX): Deep Autoencoders](https://uvadlc-notebooks.readthedocs.io/en/latest/tutorial_notebooks/JAX/tutorial9/AE_CIFAR10.html) shows how to train autoencoders on CIFAR10;\n",
    "* [Tutorial 11 (JAX): Normalizing Flows for image modeling](https://uvadlc-notebooks.readthedocs.io/en/latest/tutorial_notebooks/JAX/tutorial11/NF_image_modeling.html) discusses Normalizing Flows as generative model on images;\n",
    "* [Tutorial 15 (JAX): Vision Transformers](https://uvadlc-notebooks.readthedocs.io/en/latest/tutorial_notebooks/JAX/tutorial15/Vision_Transformer.html) trains a Transformer on image classification for CIFAR10."
   ]
  },
  {
   "cell_type": "markdown",
   "id": "308c6ef4",
   "metadata": {},
   "source": [
    "## ✨ The Fancy Bits ✨\n",
    "\n",
    "After reading this tutorial, you might wonder why we left out some key advertisement points of JAX: automatic vectorization, easy parallelization on multiple accelerators, etc. The reason why we did not include them in our previous discuss is that for building simple networks, and actual most models in our tutorials, you do not really need these methods. However, since they can be handy at some times, for instance, if you have access to a large cluster or are faced with functions that are annoying to vectorize, we review them here in a separate section: the Fancy Bits of JAX (the title is inspired by JAX's tutorial [🔪 JAX - The Sharp Bits 🔪](https://jax.readthedocs.io/en/latest/notebooks/Common_Gotchas_in_JAX.html))."
   ]
  },
  {
   "cell_type": "markdown",
   "id": "84ffa266",
   "metadata": {},
   "source": [
    "### Automatic Vectorization with vmap\n",
    "\n",
    "In machine learning, we often vectorize methods to efficiently process multiple inputs or batch elements at the same time. Usually, we have to write the code ourselves to support additional dimensions to vectorize over. However, since JAX can already transform functions to run efficiently on accelerators or calculate gradients, it can also automatically vectorize a function. For instance, let's consider a simple linear layer where we write a function for a single input `x` of shape `[c_in]`, a weight matrix `[c_in, c_out]`, and a bias vector `[c_out]`: "
   ]
  },
  {
   "cell_type": "code",
   "execution_count": 65,
   "id": "cf303717",
   "metadata": {},
   "outputs": [],
   "source": [
    "def simple_linear(x, w, b):\n",
    "    # We could already vectorize this function with matmul, but as an example,\n",
    "    # let us use a non-vectorized function with same output\n",
    "    return (x[:, None] * w).sum(axis=0) + b"
   ]
  },
  {
   "cell_type": "code",
   "execution_count": 66,
   "id": "6d7ae3f9",
   "metadata": {},
   "outputs": [
    {
     "data": {
      "text/plain": [
       "Array([-0.5393317,  1.4906642,  0.7108946], dtype=float32)"
      ]
     },
     "execution_count": 66,
     "metadata": {},
     "output_type": "execute_result"
    }
   ],
   "source": [
    "# Example inputs\n",
    "rng, x_rng, w_rng, b_rng = jax.random.split(rng, 4)\n",
    "x_in = jax.random.normal(x_rng, (4,))\n",
    "w_in = jax.random.normal(w_rng, (4, 3))\n",
    "b_in = jax.random.normal(b_rng, (3,))\n",
    "\n",
    "simple_linear(x_in, w_in, b_in)"
   ]
  },
  {
   "cell_type": "markdown",
   "id": "ff73b578",
   "metadata": {},
   "source": [
    "Now, we would like the function to support a batch dimension on `x`, i.e. `[batch, c_in]`. Our naive implementation above does not support this, since we specialized the axis we sum over. So, let's make JAX do the work for us and vectorize the function by using `jax.vmap`:"
   ]
  },
  {
   "cell_type": "code",
   "execution_count": 67,
   "id": "e77d9ada",
   "metadata": {},
   "outputs": [],
   "source": [
    "vectorized_linear = jax.vmap(\n",
    "    simple_linear,\n",
    "    in_axes=(0, None, None),  # Which axes to vectorize for each input\n",
    "    out_axes=0,  # Which axes to map to in the output\n",
    ")"
   ]
  },
  {
   "cell_type": "markdown",
   "id": "9c8dc7f0",
   "metadata": {},
   "source": [
    "Specifying `None` for the in-axes of the input arguments `w` and `b` means that we do not want to vectorize any of their input dimensions. With this vmap specification, the function `vectorized_linear` now supports an extra batch dimension in `x`! Let's try it out:"
   ]
  },
  {
   "cell_type": "code",
   "execution_count": 68,
   "id": "4db1aab2",
   "metadata": {},
   "outputs": [
    {
     "data": {
      "text/plain": [
       "Array([[-0.5393317,  1.4906642,  0.7108946],\n",
       "       [-0.5393317,  1.4906642,  0.7108946],\n",
       "       [-0.5393317,  1.4906642,  0.7108946],\n",
       "       [-0.5393317,  1.4906642,  0.7108946],\n",
       "       [-0.5393317,  1.4906642,  0.7108946]], dtype=float32)"
      ]
     },
     "execution_count": 68,
     "metadata": {},
     "output_type": "execute_result"
    }
   ],
   "source": [
    "x_vec_in = jnp.stack([x_in] * 5, axis=0)\n",
    "\n",
    "vectorized_linear(x_vec_in, w_in, b_in)"
   ]
  },
  {
   "cell_type": "markdown",
   "id": "94883303",
   "metadata": {},
   "source": [
    "The new function indeed vectorized our code, calculating $N$ applications of the weights and bias to the input. We can also vectorize the code to run multiple inputs `x` on multiple weights `w` and biases `b` by changing the input argument `in_axes` to `(0, 0, 0)`, or simply `0`. Morever, we can again stack multiple function transformations, such as jitting a vectorized function. Further details on `jax.vmap` can be found in this [tutorial](\n",
    "https://jax.readthedocs.io/en/latest/jax-101/03-vectorization.html\n",
    ") and its [documentation](https://jax.readthedocs.io/en/latest/_autosummary/jax.vmap.html?highlight=vmap)."
   ]
  },
  {
   "cell_type": "markdown",
   "id": "15684cf7",
   "metadata": {},
   "source": [
    "### Parallel evaluation with pmap\n",
    "\n",
    "`jax.vmap` vectorizes a function on a single accelerator. But what if we have multiple GPUs or TPUs available? In PyTorch, we can parallelize a model over multiple GPUs using `nn.DistributedDataParallel`. In JAX, this is yet another function transformation: `jax.pmap`. Similar to `jax.vmap`, we can specify over which axes each input should be parallelized. In a network training, we usually want to parallelize over an extra batch dimension in the data, while the parameters are identical for all devices. For more details on `jax.pmap`, see [Parallel Evaluation in JAX](https://jax.readthedocs.io/en/latest/jax-101/06-parallelism.html)."
   ]
  },
  {
   "cell_type": "markdown",
   "id": "62796a4e",
   "metadata": {},
   "source": [
    "### Working with PyTrees\n",
    "\n",
    "Network parameters in Flax are stored in a PyTree. We have visited them before, but what we haven't discuss yet is JAX's utilities to operate on pytrees! One common application is to obtain a list of all parameters in the network. This corresponds to extracting all leafs from a PyTree, for which JAX provides the function `jax.tree_leaves`:"
   ]
  },
  {
   "cell_type": "code",
   "execution_count": 69,
   "id": "8e4bd2af",
   "metadata": {},
   "outputs": [
    {
     "name": "stdout",
     "output_type": "stream",
     "text": [
      "We have parameters with the following shapes: (8,), (2, 8), (1,), (8, 1)\n",
      "Overall parameter count: 33\n"
     ]
    },
    {
     "name": "stderr",
     "output_type": "stream",
     "text": [
      "/tmp/ipykernel_9046/3648342815.py:1: FutureWarning: jax.tree_leaves is deprecated, and will be removed in a future release. Use jax.tree_util.tree_leaves instead.\n",
      "  parameters = jax.tree_leaves(model_state.params)\n"
     ]
    }
   ],
   "source": [
    "parameters = jax.tree_leaves(model_state.params)\n",
    "print(\n",
    "    \"We have parameters with the following shapes:\",\n",
    "    \", \".join([str(p.shape) for p in parameters]),\n",
    ")\n",
    "print(\"Overall parameter count:\", sum([np.prod(p.shape) for p in parameters]))"
   ]
  },
  {
   "cell_type": "markdown",
   "id": "3349815f",
   "metadata": {},
   "source": [
    "We can also create new PyTrees that are the result of applying a function on all elements in the tree using `jax.tree_map`. For instance, let's obtain a PyTree with all parameter shapes:"
   ]
  },
  {
   "cell_type": "code",
   "execution_count": 70,
   "id": "1721a198",
   "metadata": {},
   "outputs": [
    {
     "data": {
      "text/plain": [
       "FrozenDict({\n",
       "    params: {\n",
       "        linear1: {\n",
       "            bias: (8,),\n",
       "            kernel: (2, 8),\n",
       "        },\n",
       "        linear2: {\n",
       "            bias: (1,),\n",
       "            kernel: (8, 1),\n",
       "        },\n",
       "    },\n",
       "})"
      ]
     },
     "execution_count": 70,
     "metadata": {},
     "output_type": "execute_result"
    }
   ],
   "source": [
    "jax.tree_map(lambda p: p.shape, model_state.params)"
   ]
  },
  {
   "cell_type": "markdown",
   "id": "7576e873",
   "metadata": {},
   "source": [
    "The nodes of PyTrees do not necessarily need to be NumPy or JAX arrays, but can be arbitrary objects. Overall, PyTrees provide a simple, structured representation of data useful in many applications. More details can be found in JAX's Tutorial [Working with PyTrees](https://jax.readthedocs.io/en/latest/jax-101/05.1-pytrees.html)."
   ]
  },
  {
   "cell_type": "markdown",
   "id": "972d1342",
   "metadata": {},
   "source": [
    "## 🔪 The Sharp Bits 🔪\n",
    "\n",
    "Since JAX functions need to be written with certain constraints, there are situations where this can get annoying or difficult. A great overview of those, why they are needed, and most importantly, what to do about them, can be found in the original JAX tutorial [🔪 JAX - The Sharp Bits 🔪](https://jax.readthedocs.io/en/latest/notebooks/Common_Gotchas_in_JAX.html). In this final section of the tutorial, we want to visit a few of those points we have not explicitly discussed yet. Furthermore, we also focus on the combination with Flax, and what can be annoying when training models."
   ]
  },
  {
   "cell_type": "markdown",
   "id": "4fc16606",
   "metadata": {},
   "source": [
    "### Dynamic shapes\n",
    "\n",
    "JAX has the great advantage of providing just-in-time compilation of functions to speed up the computation. For this, it uses its intermediate representation jaxpr, which is specialized to the shapes of the input arguments. However, this also means that a jitted function is specialized to a certain shape, and running the jitted function with a different input shape requires recompiling the function. For instance, consider the following simple function:"
   ]
  },
  {
   "cell_type": "code",
   "execution_count": 71,
   "id": "48c42ead",
   "metadata": {},
   "outputs": [],
   "source": [
    "def my_function(x):\n",
    "    print(\"Running the function with shape\", x.shape)\n",
    "    return x.mean()\n",
    "\n",
    "\n",
    "jitted_function = jax.jit(my_function)"
   ]
  },
  {
   "cell_type": "markdown",
   "id": "4bcf0f45",
   "metadata": {},
   "source": [
    "The print statement is only executed once when the function is compiled, and for all consecutive function calls, this print statement will be ignored since it is not part of the jaxpr representation. Let's run the function now with multiple different input shapes:"
   ]
  },
  {
   "cell_type": "code",
   "execution_count": 72,
   "id": "ff368813",
   "metadata": {},
   "outputs": [
    {
     "name": "stdout",
     "output_type": "stream",
     "text": [
      "Running the function with shape (1,)\n",
      "Running the function with shape (2,)\n",
      "Running the function with shape (3,)\n",
      "Running the function with shape (4,)\n",
      "Running the function with shape (5,)\n",
      "Running the function with shape (6,)\n",
      "Running the function with shape (7,)\n",
      "Running the function with shape (8,)\n",
      "Running the function with shape (9,)\n",
      "Running the function with shape (10,)\n"
     ]
    }
   ],
   "source": [
    "for i in range(10):\n",
    "    jitted_function(\n",
    "        jnp.zeros(\n",
    "            i + 1,\n",
    "        )\n",
    "    )"
   ]
  },
  {
   "cell_type": "markdown",
   "id": "9205769b",
   "metadata": {},
   "source": [
    "As we can see, the function is compiled for every different input we give it. This can become inefficient if we actually work with many different shapes. However, running the function again with one of the previous input shapes will not require another compilation:"
   ]
  },
  {
   "cell_type": "code",
   "execution_count": 73,
   "id": "9f929ce4",
   "metadata": {},
   "outputs": [],
   "source": [
    "# Running the functions a second time will not print out anything since\n",
    "# the functions are already jitted for the respective input shapes.\n",
    "for i in range(10):\n",
    "    jitted_function(\n",
    "        jnp.zeros(\n",
    "            i + 1,\n",
    "        )\n",
    "    )"
   ]
  },
  {
   "cell_type": "markdown",
   "id": "b6bc1b4d",
   "metadata": {},
   "source": [
    "If we have a very limited set of different shapes, we do not see a big performance difference. For instance, in our evaluation, the last batch size is smaller than the previous since we have a limited size of the evaluation dataset. However, for other applications, we might encounter this problem much more often: NLP and time series, and graphs. In these cases, it is recommend to pad the batches to prevent many re-compilations (see Flax's [padding guide](https://flax.readthedocs.io/en/latest/howtos/full_eval.html) for details). We briefly review the two scenarios below.\n",
    "\n",
    "#### NLP and time series\n",
    "\n",
    "In Natural Language Processing, our data consist of sentences which greatly vary in size. Already for batching the elements, we need to apply padding, such that the shape of the batch is determined by the largest sentence in the batch. However, this largest length can vary between batches, especially when we shuffle the dataset before each epoch. In PyTorch, this is not a problem, since the dynamic computation graph allows us to stop the computation whenever we need to. In contrast, JAX would need to recompile the forward pass for every single largest sentence length, which can quickly become very expensive. Padding is needed to reduce the number of compilations, but at the same time introduces unnecessary computation. Hence, we have a tradeoff between number of compilations and extra compute per batch. In the extreme case, PyTorch may even become faster than JAX here.\n",
    "\n",
    "#### Graphs\n",
    "\n",
    "Similar to NLP, graphs can vary in their size. Often, graphs differ in their number of nodes, but especially in the number of edges. Furthermore, when we start batching the graphs, the variation of node sizes and edge count considerably increases. Again, padding is needed to reduce the number of compilations, and we will revisit this topic in Tutorial 7 (TBD)."
   ]
  },
  {
   "cell_type": "markdown",
   "id": "63446f6d",
   "metadata": {},
   "source": [
    "### Debugging in jitted functions\n",
    "\n",
    "During coding, we likely want to debug our model and sometimes print out intermediate values. In JAX, when jitting functions, this is not as straightforward. As we could see from the previous cells, a print statement is only executed once during compilation, and afterwards removed since it is not part of the jaxpr representation. Furthermore, there can be issues when tracking NaNs in your code (see the [sharp bits tutorial](https://jax.readthedocs.io/en/latest/notebooks/Common_Gotchas_in_JAX.html#debugging-nans)), and errors like out-of-bounds indexing are silently handled on accelerators by returning -1 instead of an error (see the corresponding section in the [sharp bits tutorial](https://jax.readthedocs.io/en/latest/notebooks/Common_Gotchas_in_JAX.html#out-of-bounds-indexing)). However, if necessary, one can either run the unjitted version of the forward pass first, and even introduce print statements to the jitted version where needed (see [here](https://github.com/google/jax/issues/196) for a great explanation). Still, it is not as straight-forward as in PyTorch, for example."
   ]
  },
  {
   "cell_type": "markdown",
   "id": "c2eadd68",
   "metadata": {},
   "source": [
    "### Modules with different train and evaluation functions\n",
    "\n",
    "Certain deep learning layers have different behaviors under evaluation than during training. For instance, dropout randomly masks out a number of neurons during training, but leaves the graph untouched during evaluation. In PyTorch, we can easily switch between the two states via `model.train()` and `model.eval()` without having to manually specify it in the dropout module instance. However, in JAX, we do not have global states in the model, and thus need to pass this information to every module in the forward pass that may need it. In our example above, this was not needed, since the forward pass of the simple classifier is identical during training and evaluation. Alternatively, since the parameters are not bound to a specific model during training, one can also create two models: one training model, and one evaluation model. Nonetheless, one still needs to add the information to every module with changing behaviors, which adds a certain overhead compared to PyTorch. We will discuss two common modules with such behaviors below: dropout and BatchNorm."
   ]
  },
  {
   "cell_type": "markdown",
   "id": "756122b5",
   "metadata": {},
   "source": [
    "#### Dropout\n",
    "\n",
    "In Flax, [Dropout](https://flax.readthedocs.io/en/latest/_autosummary/flax.linen.Dropout.html) has an argument `deterministic` which turns off dropout when True, and otherwise applies the random masking as intended during training. This deterministic switch can either be defined in the constructor, or in every forward call. Furthermore, dropout has the special case that it is a random operation during training, meaning that it also needs a PRNG state. Fortunately, we do not have to pass this state in every PRNG state, but instead, can simply pass `rngs={'dropout': dropout_rng}` with `dropout_rng` being the PRNG state. For an example, see our [Tutorial 6](https://uvadlc-notebooks.readthedocs.io/en/latest/tutorial_notebooks/JAX/tutorial6/Transformers_and_MHAttention.html) on Transformers in which we use dropout in several occasions."
   ]
  },
  {
   "cell_type": "markdown",
   "id": "29f3ec61",
   "metadata": {},
   "source": [
    "#### BatchNorm\n",
    "\n",
    "Batch Normalization transforms the input in two different ways. During training, we determine the mean and standard deviation of the input, and normalize the data with it to a zero mean and standard deviation of one. During evaluation, on the other hand, we take a running statistic over the previous several batches, and use those to estimate the mean and standard deviation. This is necessary to keep the evaluation stable and invariant to the specific batches we choose. Still, in the Flax module ([documentation](https://flax.readthedocs.io/en/latest/_autosummary/flax.linen.BatchNorm.html)), we need to give the argument `use_running_average` (bool) to either the constructor or each forward pass. Furthermore, BatchNorm has a specific property we haven't discussed yet and is a bit tricky in JAX: keeping track of the running average. During every forward pass, we want to record the mean and standard deviation of the current batch, and update our current average over the past batches. However, this requires changing an input tensor, and returning this changed tensor again. In Flax, we can do this by defining the batch statistics as a mutable tensor. Check out our [Tutorial 5](https://uvadlc-notebooks.readthedocs.io/en/latest/tutorial_notebooks/JAX/tutorial5/Inception_ResNet_DenseNet.html) to see BatchNorm being used in practice with Flax."
   ]
  },
  {
   "cell_type": "markdown",
   "id": "f7ba15d3",
   "metadata": {},
   "source": [
    "---\n",
    "\n",
    "[![Star our repository](https://img.shields.io/static/v1.svg?logo=star&label=⭐&message=Star%20Our%20Repository&color=yellow)](https://github.com/phlippe/uvadlc_notebooks/)  If you found this tutorial helpful, consider ⭐-ing our repository.    \n",
    "[![Ask questions](https://img.shields.io/static/v1.svg?logo=star&label=❔&message=Ask%20Questions&color=9cf)](https://github.com/phlippe/uvadlc_notebooks/issues)  For any questions, typos, or bugs that you found, please raise an issue on GitHub. \n",
    "\n",
    "---"
   ]
  }
 ],
 "metadata": {
  "kernelspec": {
   "display_name": "Python 3 (ipykernel)",
   "language": "python",
   "name": "python3"
  },
  "language_info": {
   "codemirror_mode": {
    "name": "ipython",
    "version": 3
   },
   "file_extension": ".py",
   "mimetype": "text/x-python",
   "name": "python",
   "nbconvert_exporter": "python",
   "pygments_lexer": "ipython3",
   "version": "3.10.9"
  }
 },
 "nbformat": 4,
 "nbformat_minor": 5
}
